{
 "cells": [
  {
   "cell_type": "markdown",
   "metadata": {},
   "source": [
    "## Create dataframes \n",
    "\n",
    "The underlying idea of a dataframe is based on 'spreadsheets'. In other words, dataframes store data in discrete rows and columns, where each column can be named (something that is not possible in Arrays but is possible in Series). There are also multiple columns in a dataframe (as opposed to Series, where there can be only one discrete indexed column).<br>\n",
    "<br>\n",
    "The constructor for a dataframe is <font color=red>pandas.DataFrame(data=None, index=None)</font> or if you are using 'pd' as an alias for pandas, then it would be <font color=red>pd.DataFrame(data=None, index=None)</font><br>\n",
    "<br>\n",
    "Let us have a look at the following example."
   ]
  },
  {
   "cell_type": "code",
   "execution_count": 1,
   "metadata": {},
   "outputs": [
    {
     "data": {
      "text/html": [
       "<div>\n",
       "<style scoped>\n",
       "    .dataframe tbody tr th:only-of-type {\n",
       "        vertical-align: middle;\n",
       "    }\n",
       "\n",
       "    .dataframe tbody tr th {\n",
       "        vertical-align: top;\n",
       "    }\n",
       "\n",
       "    .dataframe thead th {\n",
       "        text-align: right;\n",
       "    }\n",
       "</style>\n",
       "<table border=\"1\" class=\"dataframe\">\n",
       "  <thead>\n",
       "    <tr style=\"text-align: right;\">\n",
       "      <th></th>\n",
       "      <th>stock_name</th>\n",
       "      <th>quantity_owned</th>\n",
       "      <th>average_buy_price</th>\n",
       "    </tr>\n",
       "  </thead>\n",
       "  <tbody>\n",
       "    <tr>\n",
       "      <th>0</th>\n",
       "      <td>Alphabet</td>\n",
       "      <td>1564</td>\n",
       "      <td>$950</td>\n",
       "    </tr>\n",
       "    <tr>\n",
       "      <th>1</th>\n",
       "      <td>Facebook</td>\n",
       "      <td>6546</td>\n",
       "      <td>$160</td>\n",
       "    </tr>\n",
       "    <tr>\n",
       "      <th>2</th>\n",
       "      <td>Apple</td>\n",
       "      <td>5464</td>\n",
       "      <td>$120</td>\n",
       "    </tr>\n",
       "    <tr>\n",
       "      <th>3</th>\n",
       "      <td>Tesla</td>\n",
       "      <td>6513</td>\n",
       "      <td>$270</td>\n",
       "    </tr>\n",
       "    <tr>\n",
       "      <th>4</th>\n",
       "      <td>Infosys</td>\n",
       "      <td>4155</td>\n",
       "      <td>$15</td>\n",
       "    </tr>\n",
       "  </tbody>\n",
       "</table>\n",
       "</div>"
      ],
      "text/plain": [
       "  stock_name  quantity_owned average_buy_price\n",
       "0   Alphabet            1564              $950\n",
       "1   Facebook            6546              $160\n",
       "2      Apple            5464              $120\n",
       "3      Tesla            6513              $270\n",
       "4    Infosys            4155               $15"
      ]
     },
     "execution_count": 1,
     "metadata": {},
     "output_type": "execute_result"
    }
   ],
   "source": [
    "import pandas as pd\n",
    "import numpy as np\n",
    "\n",
    "# A dataframe has a row and a column index\n",
    "\n",
    "my_portfolio = {\n",
    "    \"stock_name\": [\"Alphabet\", \"Facebook\", \"Apple\", \"Tesla\", \"Infosys\"],\n",
    "    \"quantity_owned\": [1564, 6546, 5464, 6513, 4155],\n",
    "    \"average_buy_price\": [\"$950\", \"$160\", \"$120\", \"$270\", \"$15\"]\n",
    "}\n",
    "\n",
    "# We have passed the 'data' argument in the dataframe constructor\n",
    "my_portfolio_frame = pd.DataFrame(my_portfolio)\n",
    "\n",
    "my_portfolio_frame  # This is a dataframe"
   ]
  },
  {
   "cell_type": "markdown",
   "metadata": {},
   "source": [
    "## Customize index of the dataframe \n",
    "\n",
    "In the above output, you can see that the 'index' is the default one which starts from 0. One can customize this index."
   ]
  },
  {
   "cell_type": "code",
   "execution_count": 2,
   "metadata": {},
   "outputs": [
    {
     "data": {
      "text/html": [
       "<div>\n",
       "<style scoped>\n",
       "    .dataframe tbody tr th:only-of-type {\n",
       "        vertical-align: middle;\n",
       "    }\n",
       "\n",
       "    .dataframe tbody tr th {\n",
       "        vertical-align: top;\n",
       "    }\n",
       "\n",
       "    .dataframe thead th {\n",
       "        text-align: right;\n",
       "    }\n",
       "</style>\n",
       "<table border=\"1\" class=\"dataframe\">\n",
       "  <thead>\n",
       "    <tr style=\"text-align: right;\">\n",
       "      <th></th>\n",
       "      <th>stock_name</th>\n",
       "      <th>quantity_owned</th>\n",
       "      <th>average_buy_price</th>\n",
       "    </tr>\n",
       "  </thead>\n",
       "  <tbody>\n",
       "    <tr>\n",
       "      <th>first</th>\n",
       "      <td>Alphabet</td>\n",
       "      <td>1564</td>\n",
       "      <td>$950</td>\n",
       "    </tr>\n",
       "    <tr>\n",
       "      <th>second</th>\n",
       "      <td>Facebook</td>\n",
       "      <td>6546</td>\n",
       "      <td>$160</td>\n",
       "    </tr>\n",
       "    <tr>\n",
       "      <th>third</th>\n",
       "      <td>Apple</td>\n",
       "      <td>5464</td>\n",
       "      <td>$120</td>\n",
       "    </tr>\n",
       "    <tr>\n",
       "      <th>fourth</th>\n",
       "      <td>Tesla</td>\n",
       "      <td>6513</td>\n",
       "      <td>$270</td>\n",
       "    </tr>\n",
       "    <tr>\n",
       "      <th>fifth</th>\n",
       "      <td>Infosys</td>\n",
       "      <td>4155</td>\n",
       "      <td>$15</td>\n",
       "    </tr>\n",
       "  </tbody>\n",
       "</table>\n",
       "</div>"
      ],
      "text/plain": [
       "       stock_name  quantity_owned average_buy_price\n",
       "first    Alphabet            1564              $950\n",
       "second   Facebook            6546              $160\n",
       "third       Apple            5464              $120\n",
       "fourth      Tesla            6513              $270\n",
       "fifth     Infosys            4155               $15"
      ]
     },
     "execution_count": 2,
     "metadata": {},
     "output_type": "execute_result"
    }
   ],
   "source": [
    "ordinals = [\"first\", \"second\", \"third\", \"fourth\", \"fifth\"]  # list\n",
    "\n",
    "# Please notice that we have not kept index as default i.e.'none'\n",
    "my_portfolio_frame = pd.DataFrame(my_portfolio, index=ordinals)\n",
    "\n",
    "my_portfolio_frame"
   ]
  },
  {
   "cell_type": "markdown",
   "metadata": {},
   "source": [
    "## Rearrange the columns in a dataframe \n",
    "\n",
    "We can also define or change the order of columns."
   ]
  },
  {
   "cell_type": "code",
   "execution_count": 3,
   "metadata": {},
   "outputs": [
    {
     "data": {
      "text/html": [
       "<div>\n",
       "<style scoped>\n",
       "    .dataframe tbody tr th:only-of-type {\n",
       "        vertical-align: middle;\n",
       "    }\n",
       "\n",
       "    .dataframe tbody tr th {\n",
       "        vertical-align: top;\n",
       "    }\n",
       "\n",
       "    .dataframe thead th {\n",
       "        text-align: right;\n",
       "    }\n",
       "</style>\n",
       "<table border=\"1\" class=\"dataframe\">\n",
       "  <thead>\n",
       "    <tr style=\"text-align: right;\">\n",
       "      <th></th>\n",
       "      <th>stock_name</th>\n",
       "      <th>quantity_owned</th>\n",
       "      <th>average_buy_price</th>\n",
       "    </tr>\n",
       "  </thead>\n",
       "  <tbody>\n",
       "    <tr>\n",
       "      <th>first</th>\n",
       "      <td>Alphabet</td>\n",
       "      <td>1564</td>\n",
       "      <td>$950</td>\n",
       "    </tr>\n",
       "    <tr>\n",
       "      <th>second</th>\n",
       "      <td>Facebook</td>\n",
       "      <td>6546</td>\n",
       "      <td>$160</td>\n",
       "    </tr>\n",
       "    <tr>\n",
       "      <th>third</th>\n",
       "      <td>Apple</td>\n",
       "      <td>5464</td>\n",
       "      <td>$120</td>\n",
       "    </tr>\n",
       "    <tr>\n",
       "      <th>fourth</th>\n",
       "      <td>Tesla</td>\n",
       "      <td>6513</td>\n",
       "      <td>$270</td>\n",
       "    </tr>\n",
       "    <tr>\n",
       "      <th>fifth</th>\n",
       "      <td>Infosys</td>\n",
       "      <td>4155</td>\n",
       "      <td>$15</td>\n",
       "    </tr>\n",
       "  </tbody>\n",
       "</table>\n",
       "</div>"
      ],
      "text/plain": [
       "       stock_name  quantity_owned average_buy_price\n",
       "first    Alphabet            1564              $950\n",
       "second   Facebook            6546              $160\n",
       "third       Apple            5464              $120\n",
       "fourth      Tesla            6513              $270\n",
       "fifth     Infosys            4155               $15"
      ]
     },
     "execution_count": 3,
     "metadata": {},
     "output_type": "execute_result"
    }
   ],
   "source": [
    "# you can define the order of columns using the parameter columns=[] in the construction statement\n",
    "\n",
    "my_portfolio_frame = pd.DataFrame(my_portfolio, columns=[\n",
    "                                  \"stock_name\", \"quantity_owned\", \"average_buy_price\"], index=ordinals)\n",
    "\n",
    "my_portfolio_frame"
   ]
  },
  {
   "cell_type": "markdown",
   "metadata": {},
   "source": [
    "## Use an existing column as an index of a dataframe\n",
    "\n",
    "We will use the column 'stock_name' as the index of the dataframe."
   ]
  },
  {
   "cell_type": "code",
   "execution_count": 4,
   "metadata": {},
   "outputs": [
    {
     "data": {
      "text/html": [
       "<div>\n",
       "<style scoped>\n",
       "    .dataframe tbody tr th:only-of-type {\n",
       "        vertical-align: middle;\n",
       "    }\n",
       "\n",
       "    .dataframe tbody tr th {\n",
       "        vertical-align: top;\n",
       "    }\n",
       "\n",
       "    .dataframe thead th {\n",
       "        text-align: right;\n",
       "    }\n",
       "</style>\n",
       "<table border=\"1\" class=\"dataframe\">\n",
       "  <thead>\n",
       "    <tr style=\"text-align: right;\">\n",
       "      <th></th>\n",
       "      <th>quantity_owned</th>\n",
       "      <th>average_buy_price</th>\n",
       "    </tr>\n",
       "  </thead>\n",
       "  <tbody>\n",
       "    <tr>\n",
       "      <th>Alphabet</th>\n",
       "      <td>1564</td>\n",
       "      <td>$950</td>\n",
       "    </tr>\n",
       "    <tr>\n",
       "      <th>Facebook</th>\n",
       "      <td>6546</td>\n",
       "      <td>$160</td>\n",
       "    </tr>\n",
       "    <tr>\n",
       "      <th>Apple</th>\n",
       "      <td>5464</td>\n",
       "      <td>$120</td>\n",
       "    </tr>\n",
       "    <tr>\n",
       "      <th>Tesla</th>\n",
       "      <td>6513</td>\n",
       "      <td>$270</td>\n",
       "    </tr>\n",
       "    <tr>\n",
       "      <th>Infosys</th>\n",
       "      <td>4155</td>\n",
       "      <td>$15</td>\n",
       "    </tr>\n",
       "  </tbody>\n",
       "</table>\n",
       "</div>"
      ],
      "text/plain": [
       "          quantity_owned average_buy_price\n",
       "Alphabet            1564              $950\n",
       "Facebook            6546              $160\n",
       "Apple               5464              $120\n",
       "Tesla               6513              $270\n",
       "Infosys             4155               $15"
      ]
     },
     "execution_count": 4,
     "metadata": {},
     "output_type": "execute_result"
    }
   ],
   "source": [
    "my_portfolio_frame = pd.DataFrame(my_portfolio,\n",
    "                                  columns=[\"quantity_owned\",\n",
    "                                           \"average_buy_price\"],\n",
    "                                  index=my_portfolio[\"stock_name\"])\n",
    "\n",
    "my_portfolio_frame"
   ]
  },
  {
   "cell_type": "markdown",
   "metadata": {},
   "source": [
    "## Access a column in a dataframe \n",
    "\n",
    "You can access or retrieve a single or multiple columns by their names or by their location. "
   ]
  },
  {
   "cell_type": "code",
   "execution_count": 5,
   "metadata": {},
   "outputs": [
    {
     "name": "stdout",
     "output_type": "stream",
     "text": [
      "Alphabet    1564\n",
      "Facebook    6546\n",
      "Apple       5464\n",
      "Tesla       6513\n",
      "Infosys     4155\n",
      "Name: quantity_owned, dtype: int64\n"
     ]
    }
   ],
   "source": [
    "# The index at present is the 'stock_name'. Refer to the above code.\n",
    "\n",
    "# This makes sense if we just want to know the quantity of stock that we own for each stock (which is our index, currently)\n",
    "\n",
    "# Column name is passed within quotes within square brackets\n",
    "print(my_portfolio_frame[\"quantity_owned\"])"
   ]
  },
  {
   "cell_type": "markdown",
   "metadata": {},
   "source": [
    "## Load financial market data\n",
    "\n",
    "This is a recap from the section 'Importing Data and Data Visualisation'. We have done this in a <b>pd.read_csv()</b> iPython notebook."
   ]
  },
  {
   "cell_type": "code",
   "execution_count": 8,
   "metadata": {},
   "outputs": [],
   "source": [
    "# Loading data using CSV file\n",
    "import numpy as np\n",
    "import pandas as pd\n",
    "\n",
    "infy = pd.read_csv('Quote-Equity-INFY-EQ-17-05-2021-to-17-06-2021.csv')"
   ]
  },
  {
   "cell_type": "code",
   "execution_count": 9,
   "metadata": {},
   "outputs": [
    {
     "data": {
      "text/html": [
       "<div>\n",
       "<style scoped>\n",
       "    .dataframe tbody tr th:only-of-type {\n",
       "        vertical-align: middle;\n",
       "    }\n",
       "\n",
       "    .dataframe tbody tr th {\n",
       "        vertical-align: top;\n",
       "    }\n",
       "\n",
       "    .dataframe thead th {\n",
       "        text-align: right;\n",
       "    }\n",
       "</style>\n",
       "<table border=\"1\" class=\"dataframe\">\n",
       "  <thead>\n",
       "    <tr style=\"text-align: right;\">\n",
       "      <th></th>\n",
       "      <th>Date</th>\n",
       "      <th>series</th>\n",
       "      <th>OPEN</th>\n",
       "      <th>HIGH</th>\n",
       "      <th>LOW</th>\n",
       "      <th>PREV. CLOSE</th>\n",
       "      <th>ltp</th>\n",
       "      <th>close</th>\n",
       "      <th>vwap</th>\n",
       "      <th>52W H</th>\n",
       "      <th>52W L</th>\n",
       "      <th>VOLUME</th>\n",
       "      <th>VALUE</th>\n",
       "      <th>No of trades</th>\n",
       "    </tr>\n",
       "  </thead>\n",
       "  <tbody>\n",
       "    <tr>\n",
       "      <th>0</th>\n",
       "      <td>16-Jun-2021</td>\n",
       "      <td>EQ</td>\n",
       "      <td>1,472.70</td>\n",
       "      <td>1,489.45</td>\n",
       "      <td>1,467.50</td>\n",
       "      <td>1,473.90</td>\n",
       "      <td>1,479.20</td>\n",
       "      <td>1,480.60</td>\n",
       "      <td>1,478.45</td>\n",
       "      <td>1,489.45</td>\n",
       "      <td>685.25</td>\n",
       "      <td>7661710</td>\n",
       "      <td>11,327,444,062.60</td>\n",
       "      <td>162924</td>\n",
       "    </tr>\n",
       "    <tr>\n",
       "      <th>1</th>\n",
       "      <td>15-Jun-2021</td>\n",
       "      <td>EQ</td>\n",
       "      <td>1,464.00</td>\n",
       "      <td>1,476.00</td>\n",
       "      <td>1,463.00</td>\n",
       "      <td>1,461.80</td>\n",
       "      <td>1,474.00</td>\n",
       "      <td>1,473.90</td>\n",
       "      <td>1,469.83</td>\n",
       "      <td>1,477.55</td>\n",
       "      <td>685.25</td>\n",
       "      <td>5403104</td>\n",
       "      <td>7,941,636,318.20</td>\n",
       "      <td>141422</td>\n",
       "    </tr>\n",
       "    <tr>\n",
       "      <th>2</th>\n",
       "      <td>14-Jun-2021</td>\n",
       "      <td>EQ</td>\n",
       "      <td>1,471.00</td>\n",
       "      <td>1,477.00</td>\n",
       "      <td>1,453.45</td>\n",
       "      <td>1,446.90</td>\n",
       "      <td>1,460.00</td>\n",
       "      <td>1,461.80</td>\n",
       "      <td>1,463.12</td>\n",
       "      <td>1,477.55</td>\n",
       "      <td>685.25</td>\n",
       "      <td>7132294</td>\n",
       "      <td>10,435,431,661.00</td>\n",
       "      <td>147667</td>\n",
       "    </tr>\n",
       "    <tr>\n",
       "      <th>3</th>\n",
       "      <td>11-Jun-2021</td>\n",
       "      <td>EQ</td>\n",
       "      <td>1,430.10</td>\n",
       "      <td>1,451.60</td>\n",
       "      <td>1,429.45</td>\n",
       "      <td>1,424.30</td>\n",
       "      <td>1,446.05</td>\n",
       "      <td>1,446.90</td>\n",
       "      <td>1,443.02</td>\n",
       "      <td>1,477.55</td>\n",
       "      <td>675.50</td>\n",
       "      <td>6140828</td>\n",
       "      <td>8,861,316,923.80</td>\n",
       "      <td>173378</td>\n",
       "    </tr>\n",
       "    <tr>\n",
       "      <th>4</th>\n",
       "      <td>10-Jun-2021</td>\n",
       "      <td>EQ</td>\n",
       "      <td>1,424.00</td>\n",
       "      <td>1,429.00</td>\n",
       "      <td>1,419.00</td>\n",
       "      <td>1,415.30</td>\n",
       "      <td>1,424.25</td>\n",
       "      <td>1,424.30</td>\n",
       "      <td>1,423.55</td>\n",
       "      <td>1,477.55</td>\n",
       "      <td>675.50</td>\n",
       "      <td>3496575</td>\n",
       "      <td>4,977,561,087.00</td>\n",
       "      <td>121283</td>\n",
       "    </tr>\n",
       "  </tbody>\n",
       "</table>\n",
       "</div>"
      ],
      "text/plain": [
       "         Date  series      OPEN      HIGH       LOW  PREV. CLOSE       ltp   \\\n",
       "0  16-Jun-2021      EQ  1,472.70  1,489.45  1,467.50     1,473.90  1,479.20   \n",
       "1  15-Jun-2021      EQ  1,464.00  1,476.00  1,463.00     1,461.80  1,474.00   \n",
       "2  14-Jun-2021      EQ  1,471.00  1,477.00  1,453.45     1,446.90  1,460.00   \n",
       "3  11-Jun-2021      EQ  1,430.10  1,451.60  1,429.45     1,424.30  1,446.05   \n",
       "4  10-Jun-2021      EQ  1,424.00  1,429.00  1,419.00     1,415.30  1,424.25   \n",
       "\n",
       "     close      vwap     52W H   52W L   VOLUME              VALUE   \\\n",
       "0  1,480.60  1,478.45  1,489.45  685.25  7661710  11,327,444,062.60   \n",
       "1  1,473.90  1,469.83  1,477.55  685.25  5403104   7,941,636,318.20   \n",
       "2  1,461.80  1,463.12  1,477.55  685.25  7132294  10,435,431,661.00   \n",
       "3  1,446.90  1,443.02  1,477.55  675.50  6140828   8,861,316,923.80   \n",
       "4  1,424.30  1,423.55  1,477.55  675.50  3496575   4,977,561,087.00   \n",
       "\n",
       "   No of trades   \n",
       "0         162924  \n",
       "1         141422  \n",
       "2         147667  \n",
       "3         173378  \n",
       "4         121283  "
      ]
     },
     "execution_count": 9,
     "metadata": {},
     "output_type": "execute_result"
    }
   ],
   "source": [
    "infy.head()  # You will see the top 5 rows"
   ]
  },
  {
   "cell_type": "markdown",
   "metadata": {},
   "source": [
    "## Dropping rows and/or columns \n",
    "\n",
    "In the above Infosys stock data, it is not necessary that you need all the columns which are present in the .csv file. Hence, to make your dataframe more understandable, you may drop the columns that you do not need using drop function.<br>\n",
    "<br>\n",
    "General Syntax for dropping columns:<br>\n",
    "<pre>DataFrame.drop(['Column_name'])</pre>\n",
    "General Syntax for dropping rows:<br>\n",
    "<pre>DataFrame.drop(DataFrame.index[[x,y,z...]]</pre>\n",
    "where x,y,z are row index values"
   ]
  },
  {
   "cell_type": "code",
   "execution_count": 11,
   "metadata": {},
   "outputs": [
    {
     "data": {
      "text/html": [
       "<div>\n",
       "<style scoped>\n",
       "    .dataframe tbody tr th:only-of-type {\n",
       "        vertical-align: middle;\n",
       "    }\n",
       "\n",
       "    .dataframe tbody tr th {\n",
       "        vertical-align: top;\n",
       "    }\n",
       "\n",
       "    .dataframe thead th {\n",
       "        text-align: right;\n",
       "    }\n",
       "</style>\n",
       "<table border=\"1\" class=\"dataframe\">\n",
       "  <thead>\n",
       "    <tr style=\"text-align: right;\">\n",
       "      <th></th>\n",
       "      <th>Date</th>\n",
       "      <th>series</th>\n",
       "      <th>HIGH</th>\n",
       "      <th>LOW</th>\n",
       "      <th>PREV. CLOSE</th>\n",
       "      <th>ltp</th>\n",
       "      <th>close</th>\n",
       "      <th>vwap</th>\n",
       "      <th>52W H</th>\n",
       "      <th>52W L</th>\n",
       "      <th>VOLUME</th>\n",
       "      <th>VALUE</th>\n",
       "      <th>No of trades</th>\n",
       "    </tr>\n",
       "  </thead>\n",
       "  <tbody>\n",
       "    <tr>\n",
       "      <th>0</th>\n",
       "      <td>16-Jun-2021</td>\n",
       "      <td>EQ</td>\n",
       "      <td>1,489.45</td>\n",
       "      <td>1,467.50</td>\n",
       "      <td>1,473.90</td>\n",
       "      <td>1,479.20</td>\n",
       "      <td>1,480.60</td>\n",
       "      <td>1,478.45</td>\n",
       "      <td>1,489.45</td>\n",
       "      <td>685.25</td>\n",
       "      <td>7661710</td>\n",
       "      <td>11,327,444,062.60</td>\n",
       "      <td>162924</td>\n",
       "    </tr>\n",
       "    <tr>\n",
       "      <th>1</th>\n",
       "      <td>15-Jun-2021</td>\n",
       "      <td>EQ</td>\n",
       "      <td>1,476.00</td>\n",
       "      <td>1,463.00</td>\n",
       "      <td>1,461.80</td>\n",
       "      <td>1,474.00</td>\n",
       "      <td>1,473.90</td>\n",
       "      <td>1,469.83</td>\n",
       "      <td>1,477.55</td>\n",
       "      <td>685.25</td>\n",
       "      <td>5403104</td>\n",
       "      <td>7,941,636,318.20</td>\n",
       "      <td>141422</td>\n",
       "    </tr>\n",
       "    <tr>\n",
       "      <th>2</th>\n",
       "      <td>14-Jun-2021</td>\n",
       "      <td>EQ</td>\n",
       "      <td>1,477.00</td>\n",
       "      <td>1,453.45</td>\n",
       "      <td>1,446.90</td>\n",
       "      <td>1,460.00</td>\n",
       "      <td>1,461.80</td>\n",
       "      <td>1,463.12</td>\n",
       "      <td>1,477.55</td>\n",
       "      <td>685.25</td>\n",
       "      <td>7132294</td>\n",
       "      <td>10,435,431,661.00</td>\n",
       "      <td>147667</td>\n",
       "    </tr>\n",
       "    <tr>\n",
       "      <th>3</th>\n",
       "      <td>11-Jun-2021</td>\n",
       "      <td>EQ</td>\n",
       "      <td>1,451.60</td>\n",
       "      <td>1,429.45</td>\n",
       "      <td>1,424.30</td>\n",
       "      <td>1,446.05</td>\n",
       "      <td>1,446.90</td>\n",
       "      <td>1,443.02</td>\n",
       "      <td>1,477.55</td>\n",
       "      <td>675.50</td>\n",
       "      <td>6140828</td>\n",
       "      <td>8,861,316,923.80</td>\n",
       "      <td>173378</td>\n",
       "    </tr>\n",
       "    <tr>\n",
       "      <th>4</th>\n",
       "      <td>10-Jun-2021</td>\n",
       "      <td>EQ</td>\n",
       "      <td>1,429.00</td>\n",
       "      <td>1,419.00</td>\n",
       "      <td>1,415.30</td>\n",
       "      <td>1,424.25</td>\n",
       "      <td>1,424.30</td>\n",
       "      <td>1,423.55</td>\n",
       "      <td>1,477.55</td>\n",
       "      <td>675.50</td>\n",
       "      <td>3496575</td>\n",
       "      <td>4,977,561,087.00</td>\n",
       "      <td>121283</td>\n",
       "    </tr>\n",
       "  </tbody>\n",
       "</table>\n",
       "</div>"
      ],
      "text/plain": [
       "         Date  series      HIGH       LOW  PREV. CLOSE       ltp     close   \\\n",
       "0  16-Jun-2021      EQ  1,489.45  1,467.50     1,473.90  1,479.20  1,480.60   \n",
       "1  15-Jun-2021      EQ  1,476.00  1,463.00     1,461.80  1,474.00  1,473.90   \n",
       "2  14-Jun-2021      EQ  1,477.00  1,453.45     1,446.90  1,460.00  1,461.80   \n",
       "3  11-Jun-2021      EQ  1,451.60  1,429.45     1,424.30  1,446.05  1,446.90   \n",
       "4  10-Jun-2021      EQ  1,429.00  1,419.00     1,415.30  1,424.25  1,424.30   \n",
       "\n",
       "      vwap     52W H   52W L   VOLUME              VALUE   No of trades   \n",
       "0  1,478.45  1,489.45  685.25  7661710  11,327,444,062.60         162924  \n",
       "1  1,469.83  1,477.55  685.25  5403104   7,941,636,318.20         141422  \n",
       "2  1,463.12  1,477.55  685.25  7132294  10,435,431,661.00         147667  \n",
       "3  1,443.02  1,477.55  675.50  6140828   8,861,316,923.80         173378  \n",
       "4  1,423.55  1,477.55  675.50  3496575   4,977,561,087.00         121283  "
      ]
     },
     "execution_count": 11,
     "metadata": {},
     "output_type": "execute_result"
    }
   ],
   "source": [
    "# The axis=1 represents that we are considering columns while dropping.\n",
    "\n",
    "infy_new = infy.drop(['OPEN '], axis=1)\n",
    "\n",
    "infy_new.head()"
   ]
  },
  {
   "cell_type": "code",
   "execution_count": 12,
   "metadata": {},
   "outputs": [
    {
     "data": {
      "text/html": [
       "<div>\n",
       "<style scoped>\n",
       "    .dataframe tbody tr th:only-of-type {\n",
       "        vertical-align: middle;\n",
       "    }\n",
       "\n",
       "    .dataframe tbody tr th {\n",
       "        vertical-align: top;\n",
       "    }\n",
       "\n",
       "    .dataframe thead th {\n",
       "        text-align: right;\n",
       "    }\n",
       "</style>\n",
       "<table border=\"1\" class=\"dataframe\">\n",
       "  <thead>\n",
       "    <tr style=\"text-align: right;\">\n",
       "      <th></th>\n",
       "      <th>Date</th>\n",
       "      <th>series</th>\n",
       "      <th>HIGH</th>\n",
       "      <th>LOW</th>\n",
       "      <th>PREV. CLOSE</th>\n",
       "      <th>ltp</th>\n",
       "      <th>close</th>\n",
       "      <th>vwap</th>\n",
       "      <th>52W H</th>\n",
       "      <th>52W L</th>\n",
       "      <th>VOLUME</th>\n",
       "      <th>VALUE</th>\n",
       "      <th>No of trades</th>\n",
       "    </tr>\n",
       "  </thead>\n",
       "  <tbody>\n",
       "    <tr>\n",
       "      <th>0</th>\n",
       "      <td>16-Jun-2021</td>\n",
       "      <td>EQ</td>\n",
       "      <td>1,489.45</td>\n",
       "      <td>1,467.50</td>\n",
       "      <td>1,473.90</td>\n",
       "      <td>1,479.20</td>\n",
       "      <td>1,480.60</td>\n",
       "      <td>1,478.45</td>\n",
       "      <td>1,489.45</td>\n",
       "      <td>685.25</td>\n",
       "      <td>7661710</td>\n",
       "      <td>11,327,444,062.60</td>\n",
       "      <td>162924</td>\n",
       "    </tr>\n",
       "    <tr>\n",
       "      <th>1</th>\n",
       "      <td>15-Jun-2021</td>\n",
       "      <td>EQ</td>\n",
       "      <td>1,476.00</td>\n",
       "      <td>1,463.00</td>\n",
       "      <td>1,461.80</td>\n",
       "      <td>1,474.00</td>\n",
       "      <td>1,473.90</td>\n",
       "      <td>1,469.83</td>\n",
       "      <td>1,477.55</td>\n",
       "      <td>685.25</td>\n",
       "      <td>5403104</td>\n",
       "      <td>7,941,636,318.20</td>\n",
       "      <td>141422</td>\n",
       "    </tr>\n",
       "    <tr>\n",
       "      <th>2</th>\n",
       "      <td>14-Jun-2021</td>\n",
       "      <td>EQ</td>\n",
       "      <td>1,477.00</td>\n",
       "      <td>1,453.45</td>\n",
       "      <td>1,446.90</td>\n",
       "      <td>1,460.00</td>\n",
       "      <td>1,461.80</td>\n",
       "      <td>1,463.12</td>\n",
       "      <td>1,477.55</td>\n",
       "      <td>685.25</td>\n",
       "      <td>7132294</td>\n",
       "      <td>10,435,431,661.00</td>\n",
       "      <td>147667</td>\n",
       "    </tr>\n",
       "    <tr>\n",
       "      <th>5</th>\n",
       "      <td>09-Jun-2021</td>\n",
       "      <td>EQ</td>\n",
       "      <td>1,425.00</td>\n",
       "      <td>1,404.60</td>\n",
       "      <td>1,412.95</td>\n",
       "      <td>1,415.00</td>\n",
       "      <td>1,415.30</td>\n",
       "      <td>1,415.72</td>\n",
       "      <td>1,477.55</td>\n",
       "      <td>675.50</td>\n",
       "      <td>5394317</td>\n",
       "      <td>7,636,846,520.45</td>\n",
       "      <td>137139</td>\n",
       "    </tr>\n",
       "    <tr>\n",
       "      <th>6</th>\n",
       "      <td>08-Jun-2021</td>\n",
       "      <td>EQ</td>\n",
       "      <td>1,421.75</td>\n",
       "      <td>1,395.55</td>\n",
       "      <td>1,389.65</td>\n",
       "      <td>1,414.00</td>\n",
       "      <td>1,412.95</td>\n",
       "      <td>1,412.47</td>\n",
       "      <td>1,477.55</td>\n",
       "      <td>675.50</td>\n",
       "      <td>7360630</td>\n",
       "      <td>10,396,698,470.40</td>\n",
       "      <td>188069</td>\n",
       "    </tr>\n",
       "  </tbody>\n",
       "</table>\n",
       "</div>"
      ],
      "text/plain": [
       "         Date  series      HIGH       LOW  PREV. CLOSE       ltp     close   \\\n",
       "0  16-Jun-2021      EQ  1,489.45  1,467.50     1,473.90  1,479.20  1,480.60   \n",
       "1  15-Jun-2021      EQ  1,476.00  1,463.00     1,461.80  1,474.00  1,473.90   \n",
       "2  14-Jun-2021      EQ  1,477.00  1,453.45     1,446.90  1,460.00  1,461.80   \n",
       "5  09-Jun-2021      EQ  1,425.00  1,404.60     1,412.95  1,415.00  1,415.30   \n",
       "6  08-Jun-2021      EQ  1,421.75  1,395.55     1,389.65  1,414.00  1,412.95   \n",
       "\n",
       "      vwap     52W H   52W L   VOLUME              VALUE   No of trades   \n",
       "0  1,478.45  1,489.45  685.25  7661710  11,327,444,062.60         162924  \n",
       "1  1,469.83  1,477.55  685.25  5403104   7,941,636,318.20         141422  \n",
       "2  1,463.12  1,477.55  685.25  7132294  10,435,431,661.00         147667  \n",
       "5  1,415.72  1,477.55  675.50  5394317   7,636,846,520.45         137139  \n",
       "6  1,412.47  1,477.55  675.50  7360630  10,396,698,470.40         188069  "
      ]
     },
     "execution_count": 12,
     "metadata": {},
     "output_type": "execute_result"
    }
   ],
   "source": [
    "# Drop 3rd and 4th rows from infy_new dataframe. \n",
    "# Here, we are removing multiple rows at once. Therefore double bracket is used on the index. \n",
    "\n",
    "infy_new.drop(infy_new.index[[3, 4]]).head()"
   ]
  },
  {
   "cell_type": "markdown",
   "metadata": {},
   "source": [
    "## Sort a dataframe using a column \n",
    "\n",
    "Sometimes it becomes necessary to sort a stock price dataframe, based on the 'Closing Price'."
   ]
  },
  {
   "cell_type": "code",
   "execution_count": 15,
   "metadata": {},
   "outputs": [
    {
     "name": "stdout",
     "output_type": "stream",
     "text": [
      "          Date  series      HIGH       LOW  PREV. CLOSE       ltp     close   \\\n",
      "0   16-Jun-2021      EQ  1,489.45  1,467.50     1,473.90  1,479.20  1,480.60   \n",
      "1   15-Jun-2021      EQ  1,476.00  1,463.00     1,461.80  1,474.00  1,473.90   \n",
      "2   14-Jun-2021      EQ  1,477.00  1,453.45     1,446.90  1,460.00  1,461.80   \n",
      "3   11-Jun-2021      EQ  1,451.60  1,429.45     1,424.30  1,446.05  1,446.90   \n",
      "4   10-Jun-2021      EQ  1,429.00  1,419.00     1,415.30  1,424.25  1,424.30   \n",
      "5   09-Jun-2021      EQ  1,425.00  1,404.60     1,412.95  1,415.00  1,415.30   \n",
      "6   08-Jun-2021      EQ  1,421.75  1,395.55     1,389.65  1,414.00  1,412.95   \n",
      "13  28-May-2021      EQ  1,414.00  1,396.10     1,402.25  1,407.70  1,405.05   \n",
      "14  27-May-2021      EQ  1,416.25  1,391.70     1,397.25  1,408.90  1,402.25   \n",
      "15  26-May-2021      EQ  1,400.00  1,362.05     1,361.60  1,395.00  1,397.25   \n",
      "12  31-May-2021      EQ  1,401.50  1,383.00     1,405.05  1,395.00  1,393.75   \n",
      "7   07-Jun-2021      EQ  1,392.00  1,377.30     1,385.65  1,390.50  1,389.65   \n",
      "9   03-Jun-2021      EQ  1,399.00  1,377.05     1,378.65  1,390.80  1,389.65   \n",
      "11  01-Jun-2021      EQ  1,401.00  1,378.65     1,393.75  1,388.95  1,387.20   \n",
      "8   04-Jun-2021      EQ  1,396.90  1,377.65     1,389.65  1,385.15  1,385.65   \n",
      "10  02-Jun-2021      EQ  1,391.95  1,365.00     1,387.20  1,381.00  1,378.65   \n",
      "16  25-May-2021      EQ  1,368.00  1,354.45     1,348.05  1,364.00  1,361.60   \n",
      "18  21-May-2021      EQ  1,357.50  1,346.35     1,339.30  1,356.00  1,354.50   \n",
      "17  24-May-2021      EQ  1,363.00  1,345.10     1,354.50  1,349.00  1,348.05   \n",
      "21  18-May-2021      EQ  1,344.60  1,329.50     1,329.40  1,338.75  1,340.00   \n",
      "\n",
      "       vwap     52W H   52W L    VOLUME              VALUE   No of trades   \n",
      "0   1,478.45  1,489.45  685.25   7661710  11,327,444,062.60         162924  \n",
      "1   1,469.83  1,477.55  685.25   5403104   7,941,636,318.20         141422  \n",
      "2   1,463.12  1,477.55  685.25   7132294  10,435,431,661.00         147667  \n",
      "3   1,443.02  1,477.55  675.50   6140828   8,861,316,923.80         173378  \n",
      "4   1,423.55  1,477.55  675.50   3496575   4,977,561,087.00         121283  \n",
      "5   1,415.72  1,477.55  675.50   5394317   7,636,846,520.45         137139  \n",
      "6   1,412.47  1,477.55  675.50   7360630  10,396,698,470.40         188069  \n",
      "13  1,406.44  1,477.55  674.95   4261312   5,993,259,437.60         106771  \n",
      "14  1,404.67  1,477.55  674.95  15365391  21,583,297,998.60         250209  \n",
      "15  1,386.91  1,477.55  674.95   6850024   9,500,378,457.65         174833  \n",
      "12  1,393.13  1,477.55  675.50   4429904   6,171,426,112.80         145671  \n",
      "7   1,384.88  1,477.55  675.50   5154576   7,138,486,995.40         127520  \n",
      "9   1,385.81  1,477.55  675.50   5115645   7,089,319,506.30         137141  \n",
      "11  1,385.00  1,477.55  675.50   4791325   6,635,964,926.65         180376  \n",
      "8   1,384.98  1,477.55  675.50   4194328   5,809,075,426.80         109532  \n",
      "10  1,374.91  1,477.55  675.50   9272276  12,748,517,787.25         186335  \n",
      "16  1,361.92  1,477.55  674.95   4099340   5,582,984,590.85         129513  \n",
      "18  1,351.75  1,477.55  653.00   4969733   6,717,856,342.70         153186  \n",
      "17  1,352.41  1,477.55  674.95   4225371   5,714,441,955.70         108054  \n",
      "21  1,338.06  1,477.55  653.00   5620150   7,520,081,253.15         135851  \n"
     ]
    }
   ],
   "source": [
    "# Sorting dataframe in descending order\n",
    "\n",
    "infy_new = infy_new.sort_values(by=\"close \", ascending=False)\n",
    "\n",
    "# Prints top 20 values of closing prices in the given dataset\n",
    "print(infy_new.head(20))"
   ]
  },
  {
   "cell_type": "code",
   "execution_count": 16,
   "metadata": {},
   "outputs": [
    {
     "data": {
      "text/html": [
       "<div>\n",
       "<style scoped>\n",
       "    .dataframe tbody tr th:only-of-type {\n",
       "        vertical-align: middle;\n",
       "    }\n",
       "\n",
       "    .dataframe tbody tr th {\n",
       "        vertical-align: top;\n",
       "    }\n",
       "\n",
       "    .dataframe thead th {\n",
       "        text-align: right;\n",
       "    }\n",
       "</style>\n",
       "<table border=\"1\" class=\"dataframe\">\n",
       "  <thead>\n",
       "    <tr style=\"text-align: right;\">\n",
       "      <th></th>\n",
       "      <th>Jay</th>\n",
       "      <th>Varun</th>\n",
       "      <th>Devang</th>\n",
       "      <th>Ishan</th>\n",
       "      <th>Vibhu</th>\n",
       "    </tr>\n",
       "  </thead>\n",
       "  <tbody>\n",
       "    <tr>\n",
       "      <th>January</th>\n",
       "      <td>13582.628704</td>\n",
       "      <td>-21187.743329</td>\n",
       "      <td>7140.470222</td>\n",
       "      <td>12403.802969</td>\n",
       "      <td>184.768798</td>\n",
       "    </tr>\n",
       "    <tr>\n",
       "      <th>February</th>\n",
       "      <td>-7133.313703</td>\n",
       "      <td>-355.003638</td>\n",
       "      <td>-724.159190</td>\n",
       "      <td>7633.956682</td>\n",
       "      <td>-6832.799468</td>\n",
       "    </tr>\n",
       "    <tr>\n",
       "      <th>March</th>\n",
       "      <td>1295.116410</td>\n",
       "      <td>-11895.140316</td>\n",
       "      <td>-15563.680647</td>\n",
       "      <td>6982.134306</td>\n",
       "      <td>2527.174651</td>\n",
       "    </tr>\n",
       "    <tr>\n",
       "      <th>April</th>\n",
       "      <td>11008.797061</td>\n",
       "      <td>11102.246375</td>\n",
       "      <td>-796.571013</td>\n",
       "      <td>-11016.528712</td>\n",
       "      <td>12167.300640</td>\n",
       "    </tr>\n",
       "    <tr>\n",
       "      <th>May</th>\n",
       "      <td>13423.465375</td>\n",
       "      <td>-3587.678991</td>\n",
       "      <td>-38.352086</td>\n",
       "      <td>12537.532471</td>\n",
       "      <td>13575.078780</td>\n",
       "    </tr>\n",
       "    <tr>\n",
       "      <th>June</th>\n",
       "      <td>-14146.337237</td>\n",
       "      <td>11361.459604</td>\n",
       "      <td>-5549.599375</td>\n",
       "      <td>-10241.292325</td>\n",
       "      <td>4337.838971</td>\n",
       "    </tr>\n",
       "    <tr>\n",
       "      <th>July</th>\n",
       "      <td>-1097.776665</td>\n",
       "      <td>-12746.362824</td>\n",
       "      <td>2591.659951</td>\n",
       "      <td>18885.502505</td>\n",
       "      <td>-17783.561539</td>\n",
       "    </tr>\n",
       "    <tr>\n",
       "      <th>August</th>\n",
       "      <td>5471.719945</td>\n",
       "      <td>-7600.978190</td>\n",
       "      <td>-7529.374370</td>\n",
       "      <td>5269.963788</td>\n",
       "      <td>9310.554918</td>\n",
       "    </tr>\n",
       "    <tr>\n",
       "      <th>September</th>\n",
       "      <td>5001.253941</td>\n",
       "      <td>4335.955388</td>\n",
       "      <td>5217.870828</td>\n",
       "      <td>-3368.329212</td>\n",
       "      <td>13361.455424</td>\n",
       "    </tr>\n",
       "    <tr>\n",
       "      <th>October</th>\n",
       "      <td>-9076.552469</td>\n",
       "      <td>3964.759715</td>\n",
       "      <td>-2939.116165</td>\n",
       "      <td>20372.082392</td>\n",
       "      <td>-3955.144981</td>\n",
       "    </tr>\n",
       "    <tr>\n",
       "      <th>November</th>\n",
       "      <td>-6225.918669</td>\n",
       "      <td>-11801.342077</td>\n",
       "      <td>11443.589437</td>\n",
       "      <td>-14025.557196</td>\n",
       "      <td>-521.378032</td>\n",
       "    </tr>\n",
       "    <tr>\n",
       "      <th>December</th>\n",
       "      <td>5955.364327</td>\n",
       "      <td>14269.147245</td>\n",
       "      <td>-11735.500980</td>\n",
       "      <td>-1232.099843</td>\n",
       "      <td>3676.662125</td>\n",
       "    </tr>\n",
       "  </tbody>\n",
       "</table>\n",
       "</div>"
      ],
      "text/plain": [
       "                    Jay         Varun        Devang         Ishan  \\\n",
       "January    13582.628704 -21187.743329   7140.470222  12403.802969   \n",
       "February   -7133.313703   -355.003638   -724.159190   7633.956682   \n",
       "March       1295.116410 -11895.140316 -15563.680647   6982.134306   \n",
       "April      11008.797061  11102.246375   -796.571013 -11016.528712   \n",
       "May        13423.465375  -3587.678991    -38.352086  12537.532471   \n",
       "June      -14146.337237  11361.459604  -5549.599375 -10241.292325   \n",
       "July       -1097.776665 -12746.362824   2591.659951  18885.502505   \n",
       "August      5471.719945  -7600.978190  -7529.374370   5269.963788   \n",
       "September   5001.253941   4335.955388   5217.870828  -3368.329212   \n",
       "October    -9076.552469   3964.759715  -2939.116165  20372.082392   \n",
       "November   -6225.918669 -11801.342077  11443.589437 -14025.557196   \n",
       "December    5955.364327  14269.147245 -11735.500980  -1232.099843   \n",
       "\n",
       "                  Vibhu  \n",
       "January      184.768798  \n",
       "February   -6832.799468  \n",
       "March       2527.174651  \n",
       "April      12167.300640  \n",
       "May        13575.078780  \n",
       "June        4337.838971  \n",
       "July      -17783.561539  \n",
       "August      9310.554918  \n",
       "September  13361.455424  \n",
       "October    -3955.144981  \n",
       "November    -521.378032  \n",
       "December    3676.662125  "
      ]
     },
     "execution_count": 16,
     "metadata": {},
     "output_type": "execute_result"
    }
   ],
   "source": [
    "# Create a customized dataframe with random numbers between 50k to 120k.\n",
    "import numpy as np\n",
    "names = ['Jay', 'Varun', 'Devang', 'Ishan', 'Vibhu']\n",
    "\n",
    "months = [\"January\", \"February\", \"March\",\n",
    "          \"April\", \"May\", \"June\",\n",
    "          \"July\", \"August\", \"September\",\n",
    "          \"October\", \"November\", \"December\"]\n",
    "\n",
    "df = pd.DataFrame(np.random.randn(12, 5)*10000, columns=names, index=months)\n",
    "\n",
    "df"
   ]
  },
  {
   "cell_type": "markdown",
   "metadata": {},
   "source": [
    "In the upcoming Jupyter Notebook, we will understand Descriptive Statistical Functions on a dataframe but before that a few quiz questions and exercises on this."
   ]
  },
  {
   "cell_type": "markdown",
   "metadata": {},
   "source": [
    "## Data preparation "
   ]
  },
  {
   "cell_type": "code",
   "execution_count": 17,
   "metadata": {},
   "outputs": [],
   "source": [
    "# Loading and viewing data\n",
    "import numpy as np\n",
    "import pandas as pd\n",
    "\n",
    "infy = pd.read_csv('Quote-Equity-INFY-EQ-17-05-2021-to-17-06-2021.csv')"
   ]
  },
  {
   "cell_type": "markdown",
   "metadata": {},
   "source": [
    "Once you import or load your OHLC data in a dataframe, it is a good habit to print the the 'head' and 'tail' of that dataframe."
   ]
  },
  {
   "cell_type": "code",
   "execution_count": 18,
   "metadata": {},
   "outputs": [
    {
     "data": {
      "text/html": [
       "<div>\n",
       "<style scoped>\n",
       "    .dataframe tbody tr th:only-of-type {\n",
       "        vertical-align: middle;\n",
       "    }\n",
       "\n",
       "    .dataframe tbody tr th {\n",
       "        vertical-align: top;\n",
       "    }\n",
       "\n",
       "    .dataframe thead th {\n",
       "        text-align: right;\n",
       "    }\n",
       "</style>\n",
       "<table border=\"1\" class=\"dataframe\">\n",
       "  <thead>\n",
       "    <tr style=\"text-align: right;\">\n",
       "      <th></th>\n",
       "      <th>Date</th>\n",
       "      <th>series</th>\n",
       "      <th>OPEN</th>\n",
       "      <th>HIGH</th>\n",
       "      <th>LOW</th>\n",
       "      <th>PREV. CLOSE</th>\n",
       "      <th>ltp</th>\n",
       "      <th>close</th>\n",
       "      <th>vwap</th>\n",
       "      <th>52W H</th>\n",
       "      <th>52W L</th>\n",
       "      <th>VOLUME</th>\n",
       "      <th>VALUE</th>\n",
       "      <th>No of trades</th>\n",
       "    </tr>\n",
       "  </thead>\n",
       "  <tbody>\n",
       "    <tr>\n",
       "      <th>0</th>\n",
       "      <td>16-Jun-2021</td>\n",
       "      <td>EQ</td>\n",
       "      <td>1,472.70</td>\n",
       "      <td>1,489.45</td>\n",
       "      <td>1,467.50</td>\n",
       "      <td>1,473.90</td>\n",
       "      <td>1,479.20</td>\n",
       "      <td>1,480.60</td>\n",
       "      <td>1,478.45</td>\n",
       "      <td>1,489.45</td>\n",
       "      <td>685.25</td>\n",
       "      <td>7661710</td>\n",
       "      <td>11,327,444,062.60</td>\n",
       "      <td>162924</td>\n",
       "    </tr>\n",
       "    <tr>\n",
       "      <th>1</th>\n",
       "      <td>15-Jun-2021</td>\n",
       "      <td>EQ</td>\n",
       "      <td>1,464.00</td>\n",
       "      <td>1,476.00</td>\n",
       "      <td>1,463.00</td>\n",
       "      <td>1,461.80</td>\n",
       "      <td>1,474.00</td>\n",
       "      <td>1,473.90</td>\n",
       "      <td>1,469.83</td>\n",
       "      <td>1,477.55</td>\n",
       "      <td>685.25</td>\n",
       "      <td>5403104</td>\n",
       "      <td>7,941,636,318.20</td>\n",
       "      <td>141422</td>\n",
       "    </tr>\n",
       "    <tr>\n",
       "      <th>2</th>\n",
       "      <td>14-Jun-2021</td>\n",
       "      <td>EQ</td>\n",
       "      <td>1,471.00</td>\n",
       "      <td>1,477.00</td>\n",
       "      <td>1,453.45</td>\n",
       "      <td>1,446.90</td>\n",
       "      <td>1,460.00</td>\n",
       "      <td>1,461.80</td>\n",
       "      <td>1,463.12</td>\n",
       "      <td>1,477.55</td>\n",
       "      <td>685.25</td>\n",
       "      <td>7132294</td>\n",
       "      <td>10,435,431,661.00</td>\n",
       "      <td>147667</td>\n",
       "    </tr>\n",
       "    <tr>\n",
       "      <th>3</th>\n",
       "      <td>11-Jun-2021</td>\n",
       "      <td>EQ</td>\n",
       "      <td>1,430.10</td>\n",
       "      <td>1,451.60</td>\n",
       "      <td>1,429.45</td>\n",
       "      <td>1,424.30</td>\n",
       "      <td>1,446.05</td>\n",
       "      <td>1,446.90</td>\n",
       "      <td>1,443.02</td>\n",
       "      <td>1,477.55</td>\n",
       "      <td>675.50</td>\n",
       "      <td>6140828</td>\n",
       "      <td>8,861,316,923.80</td>\n",
       "      <td>173378</td>\n",
       "    </tr>\n",
       "    <tr>\n",
       "      <th>4</th>\n",
       "      <td>10-Jun-2021</td>\n",
       "      <td>EQ</td>\n",
       "      <td>1,424.00</td>\n",
       "      <td>1,429.00</td>\n",
       "      <td>1,419.00</td>\n",
       "      <td>1,415.30</td>\n",
       "      <td>1,424.25</td>\n",
       "      <td>1,424.30</td>\n",
       "      <td>1,423.55</td>\n",
       "      <td>1,477.55</td>\n",
       "      <td>675.50</td>\n",
       "      <td>3496575</td>\n",
       "      <td>4,977,561,087.00</td>\n",
       "      <td>121283</td>\n",
       "    </tr>\n",
       "  </tbody>\n",
       "</table>\n",
       "</div>"
      ],
      "text/plain": [
       "         Date  series      OPEN      HIGH       LOW  PREV. CLOSE       ltp   \\\n",
       "0  16-Jun-2021      EQ  1,472.70  1,489.45  1,467.50     1,473.90  1,479.20   \n",
       "1  15-Jun-2021      EQ  1,464.00  1,476.00  1,463.00     1,461.80  1,474.00   \n",
       "2  14-Jun-2021      EQ  1,471.00  1,477.00  1,453.45     1,446.90  1,460.00   \n",
       "3  11-Jun-2021      EQ  1,430.10  1,451.60  1,429.45     1,424.30  1,446.05   \n",
       "4  10-Jun-2021      EQ  1,424.00  1,429.00  1,419.00     1,415.30  1,424.25   \n",
       "\n",
       "     close      vwap     52W H   52W L   VOLUME              VALUE   \\\n",
       "0  1,480.60  1,478.45  1,489.45  685.25  7661710  11,327,444,062.60   \n",
       "1  1,473.90  1,469.83  1,477.55  685.25  5403104   7,941,636,318.20   \n",
       "2  1,461.80  1,463.12  1,477.55  685.25  7132294  10,435,431,661.00   \n",
       "3  1,446.90  1,443.02  1,477.55  675.50  6140828   8,861,316,923.80   \n",
       "4  1,424.30  1,423.55  1,477.55  675.50  3496575   4,977,561,087.00   \n",
       "\n",
       "   No of trades   \n",
       "0         162924  \n",
       "1         141422  \n",
       "2         147667  \n",
       "3         173378  \n",
       "4         121283  "
      ]
     },
     "execution_count": 18,
     "metadata": {},
     "output_type": "execute_result"
    }
   ],
   "source": [
    "infy.head()  # Printing the first five rows of your dataframe"
   ]
  },
  {
   "cell_type": "code",
   "execution_count": 19,
   "metadata": {},
   "outputs": [
    {
     "data": {
      "text/html": [
       "<div>\n",
       "<style scoped>\n",
       "    .dataframe tbody tr th:only-of-type {\n",
       "        vertical-align: middle;\n",
       "    }\n",
       "\n",
       "    .dataframe tbody tr th {\n",
       "        vertical-align: top;\n",
       "    }\n",
       "\n",
       "    .dataframe thead th {\n",
       "        text-align: right;\n",
       "    }\n",
       "</style>\n",
       "<table border=\"1\" class=\"dataframe\">\n",
       "  <thead>\n",
       "    <tr style=\"text-align: right;\">\n",
       "      <th></th>\n",
       "      <th>Date</th>\n",
       "      <th>series</th>\n",
       "      <th>OPEN</th>\n",
       "      <th>HIGH</th>\n",
       "      <th>LOW</th>\n",
       "      <th>PREV. CLOSE</th>\n",
       "      <th>ltp</th>\n",
       "      <th>close</th>\n",
       "      <th>vwap</th>\n",
       "      <th>52W H</th>\n",
       "      <th>52W L</th>\n",
       "      <th>VOLUME</th>\n",
       "      <th>VALUE</th>\n",
       "      <th>No of trades</th>\n",
       "    </tr>\n",
       "  </thead>\n",
       "  <tbody>\n",
       "    <tr>\n",
       "      <th>18</th>\n",
       "      <td>21-May-2021</td>\n",
       "      <td>EQ</td>\n",
       "      <td>1,347.50</td>\n",
       "      <td>1,357.50</td>\n",
       "      <td>1,346.35</td>\n",
       "      <td>1,339.30</td>\n",
       "      <td>1,356.00</td>\n",
       "      <td>1,354.50</td>\n",
       "      <td>1,351.75</td>\n",
       "      <td>1,477.55</td>\n",
       "      <td>653.0</td>\n",
       "      <td>4969733</td>\n",
       "      <td>6,717,856,342.70</td>\n",
       "      <td>153186</td>\n",
       "    </tr>\n",
       "    <tr>\n",
       "      <th>19</th>\n",
       "      <td>20-May-2021</td>\n",
       "      <td>EQ</td>\n",
       "      <td>1,348.40</td>\n",
       "      <td>1,349.10</td>\n",
       "      <td>1,335.00</td>\n",
       "      <td>1,337.00</td>\n",
       "      <td>1,341.95</td>\n",
       "      <td>1,339.30</td>\n",
       "      <td>1,340.80</td>\n",
       "      <td>1,477.55</td>\n",
       "      <td>653.0</td>\n",
       "      <td>4490092</td>\n",
       "      <td>6,020,330,291.35</td>\n",
       "      <td>111007</td>\n",
       "    </tr>\n",
       "    <tr>\n",
       "      <th>20</th>\n",
       "      <td>19-May-2021</td>\n",
       "      <td>EQ</td>\n",
       "      <td>1,342.00</td>\n",
       "      <td>1,357.45</td>\n",
       "      <td>1,333.25</td>\n",
       "      <td>1,340.00</td>\n",
       "      <td>1,334.65</td>\n",
       "      <td>1,337.00</td>\n",
       "      <td>1,344.41</td>\n",
       "      <td>1,477.55</td>\n",
       "      <td>653.0</td>\n",
       "      <td>4435878</td>\n",
       "      <td>5,963,617,809.65</td>\n",
       "      <td>135009</td>\n",
       "    </tr>\n",
       "    <tr>\n",
       "      <th>21</th>\n",
       "      <td>18-May-2021</td>\n",
       "      <td>EQ</td>\n",
       "      <td>1,338.00</td>\n",
       "      <td>1,344.60</td>\n",
       "      <td>1,329.50</td>\n",
       "      <td>1,329.40</td>\n",
       "      <td>1,338.75</td>\n",
       "      <td>1,340.00</td>\n",
       "      <td>1,338.06</td>\n",
       "      <td>1,477.55</td>\n",
       "      <td>653.0</td>\n",
       "      <td>5620150</td>\n",
       "      <td>7,520,081,253.15</td>\n",
       "      <td>135851</td>\n",
       "    </tr>\n",
       "    <tr>\n",
       "      <th>22</th>\n",
       "      <td>17-May-2021</td>\n",
       "      <td>EQ</td>\n",
       "      <td>1,320.30</td>\n",
       "      <td>1,334.95</td>\n",
       "      <td>1,320.30</td>\n",
       "      <td>1,316.40</td>\n",
       "      <td>1,328.55</td>\n",
       "      <td>1,329.40</td>\n",
       "      <td>1,329.34</td>\n",
       "      <td>1,477.55</td>\n",
       "      <td>653.0</td>\n",
       "      <td>5017129</td>\n",
       "      <td>6,669,458,544.35</td>\n",
       "      <td>118670</td>\n",
       "    </tr>\n",
       "  </tbody>\n",
       "</table>\n",
       "</div>"
      ],
      "text/plain": [
       "          Date  series      OPEN      HIGH       LOW  PREV. CLOSE       ltp   \\\n",
       "18  21-May-2021      EQ  1,347.50  1,357.50  1,346.35     1,339.30  1,356.00   \n",
       "19  20-May-2021      EQ  1,348.40  1,349.10  1,335.00     1,337.00  1,341.95   \n",
       "20  19-May-2021      EQ  1,342.00  1,357.45  1,333.25     1,340.00  1,334.65   \n",
       "21  18-May-2021      EQ  1,338.00  1,344.60  1,329.50     1,329.40  1,338.75   \n",
       "22  17-May-2021      EQ  1,320.30  1,334.95  1,320.30     1,316.40  1,328.55   \n",
       "\n",
       "      close      vwap     52W H   52W L   VOLUME             VALUE   \\\n",
       "18  1,354.50  1,351.75  1,477.55   653.0  4969733  6,717,856,342.70   \n",
       "19  1,339.30  1,340.80  1,477.55   653.0  4490092  6,020,330,291.35   \n",
       "20  1,337.00  1,344.41  1,477.55   653.0  4435878  5,963,617,809.65   \n",
       "21  1,340.00  1,338.06  1,477.55   653.0  5620150  7,520,081,253.15   \n",
       "22  1,329.40  1,329.34  1,477.55   653.0  5017129  6,669,458,544.35   \n",
       "\n",
       "    No of trades   \n",
       "18         153186  \n",
       "19         111007  \n",
       "20         135009  \n",
       "21         135851  \n",
       "22         118670  "
      ]
     },
     "execution_count": 19,
     "metadata": {},
     "output_type": "execute_result"
    }
   ],
   "source": [
    "infy.tail()  # Printing the last five rows of your dataframe"
   ]
  },
  {
   "cell_type": "markdown",
   "metadata": {},
   "source": [
    "### DataFrame.count()\n",
    "\n",
    "This method returns the number of non-null observations over the requested observations."
   ]
  },
  {
   "cell_type": "code",
   "execution_count": 20,
   "metadata": {},
   "outputs": [
    {
     "name": "stdout",
     "output_type": "stream",
     "text": [
      "Date             23\n",
      "series           23\n",
      "OPEN             23\n",
      "HIGH             23\n",
      "LOW              23\n",
      "PREV. CLOSE      23\n",
      "ltp              23\n",
      "close            23\n",
      "vwap             23\n",
      "52W H            23\n",
      "52W L            23\n",
      "VOLUME           23\n",
      "VALUE            23\n",
      "No of trades     23\n",
      "dtype: int64\n"
     ]
    }
   ],
   "source": [
    "print(infy.count())"
   ]
  },
  {
   "cell_type": "code",
   "execution_count": 21,
   "metadata": {},
   "outputs": [
    {
     "name": "stdout",
     "output_type": "stream",
     "text": [
      "23\n"
     ]
    }
   ],
   "source": [
    "print(infy[\"PREV. CLOSE \"].count())"
   ]
  },
  {
   "cell_type": "code",
   "execution_count": 22,
   "metadata": {},
   "outputs": [
    {
     "name": "stdout",
     "output_type": "stream",
     "text": [
      "1,316.40\n"
     ]
    }
   ],
   "source": [
    "print(infy[\"PREV. CLOSE \"].min())"
   ]
  },
  {
   "cell_type": "code",
   "execution_count": 23,
   "metadata": {},
   "outputs": [
    {
     "name": "stdout",
     "output_type": "stream",
     "text": [
      "Date                   01-Jun-2021\n",
      "series                          EQ\n",
      "OPEN                      1,320.30\n",
      "HIGH                      1,334.95\n",
      "LOW                       1,320.30\n",
      "PREV. CLOSE               1,316.40\n",
      "ltp                       1,328.55\n",
      "close                     1,329.40\n",
      "vwap                      1,329.34\n",
      "52W H                     1,477.55\n",
      "52W L                          653\n",
      "VOLUME                     3496575\n",
      "VALUE            10,396,698,470.40\n",
      "No of trades                106771\n",
      "dtype: object\n"
     ]
    }
   ],
   "source": [
    "print(infy.min())"
   ]
  },
  {
   "cell_type": "code",
   "execution_count": 24,
   "metadata": {},
   "outputs": [
    {
     "name": "stdout",
     "output_type": "stream",
     "text": [
      "1,473.90\n"
     ]
    }
   ],
   "source": [
    "print(infy[\"PREV. CLOSE \"].max())"
   ]
  },
  {
   "cell_type": "markdown",
   "metadata": {},
   "source": [
    "### DataFrame.mean()\n",
    "\n",
    "This method returns the mean of the requested observations."
   ]
  },
  {
   "cell_type": "code",
   "execution_count": 29,
   "metadata": {},
   "outputs": [
    {
     "name": "stdout",
     "output_type": "stream",
     "text": [
      "5864431.826086956\n"
     ]
    }
   ],
   "source": [
    "print(infy[\"VOLUME \"].mean())"
   ]
  },
  {
   "cell_type": "code",
   "execution_count": 30,
   "metadata": {},
   "outputs": [
    {
     "name": "stdout",
     "output_type": "stream",
     "text": [
      "5115645.0\n"
     ]
    }
   ],
   "source": [
    "print(infy[\"VOLUME \"].median())"
   ]
  },
  {
   "cell_type": "markdown",
   "metadata": {},
   "source": [
    "### DataFrame.mode()\n",
    "\n",
    "This method returns the mode of the requested observations."
   ]
  },
  {
   "cell_type": "code",
   "execution_count": 32,
   "metadata": {},
   "outputs": [
    {
     "name": "stdout",
     "output_type": "stream",
     "text": [
      "0      3496575\n",
      "1      4099340\n",
      "2      4194328\n",
      "3      4225371\n",
      "4      4261312\n",
      "5      4429904\n",
      "6      4435878\n",
      "7      4490092\n",
      "8      4791325\n",
      "9      4969733\n",
      "10     5017129\n",
      "11     5115645\n",
      "12     5154576\n",
      "13     5394317\n",
      "14     5403104\n",
      "15     5620150\n",
      "16     6140828\n",
      "17     6850024\n",
      "18     7132294\n",
      "19     7360630\n",
      "20     7661710\n",
      "21     9272276\n",
      "22    15365391\n",
      "dtype: int64\n"
     ]
    }
   ],
   "source": [
    "# The \"Close Price\" series of infosys stock is multi-modal\n",
    "print(infy[\"VOLUME \"].mode())"
   ]
  },
  {
   "cell_type": "markdown",
   "metadata": {},
   "source": [
    "### DataFrame.sum()\n",
    "\n",
    "This method returns the sum of all the values of the requested observations."
   ]
  },
  {
   "cell_type": "code",
   "execution_count": 34,
   "metadata": {},
   "outputs": [
    {
     "name": "stdout",
     "output_type": "stream",
     "text": [
      "134881932\n"
     ]
    }
   ],
   "source": [
    "# If someone just wants to know the sheer amount of Infosys stocks traded over 2 years\n",
    "print(infy[\"VOLUME \"].sum())"
   ]
  },
  {
   "cell_type": "markdown",
   "metadata": {},
   "source": [
    "### DataFrame.diff()\n",
    "\n",
    "This method returns the 'difference' between the current observation and the previous observation.\n",
    "\n",
    "Этот метод возвращает \"разницу\" между текущим наблюдением и предыдущим наблюдением."
   ]
  },
  {
   "cell_type": "code",
   "execution_count": 35,
   "metadata": {},
   "outputs": [
    {
     "name": "stdout",
     "output_type": "stream",
     "text": [
      "0            NaN\n",
      "1     -2258606.0\n",
      "2      1729190.0\n",
      "3      -991466.0\n",
      "4     -2644253.0\n",
      "5      1897742.0\n",
      "6      1966313.0\n",
      "7     -2206054.0\n",
      "8      -960248.0\n",
      "9       921317.0\n",
      "10     4156631.0\n",
      "11    -4480951.0\n",
      "12     -361421.0\n",
      "13     -168592.0\n",
      "14    11104079.0\n",
      "15    -8515367.0\n",
      "16    -2750684.0\n",
      "17      126031.0\n",
      "18      744362.0\n",
      "19     -479641.0\n",
      "20      -54214.0\n",
      "21     1184272.0\n",
      "22     -603021.0\n",
      "Name: VOLUME , dtype: float64\n"
     ]
    }
   ],
   "source": [
    "print(infy[\"VOLUME \"].diff())"
   ]
  },
  {
   "cell_type": "markdown",
   "metadata": {},
   "source": [
    "### DataFrame.pct_change()]\n",
    "\n",
    "This method returns the percentage change of the current observation with the previous observation.\n",
    "\n",
    "Этот метод возвращает процентное изменение текущего наблюдения по сравнению с предыдущим наблюдением."
   ]
  },
  {
   "cell_type": "code",
   "execution_count": 37,
   "metadata": {},
   "outputs": [
    {
     "name": "stdout",
     "output_type": "stream",
     "text": [
      "0          NaN\n",
      "1    -0.294791\n",
      "2     0.320036\n",
      "3    -0.139011\n",
      "4    -0.430602\n",
      "5     0.542743\n",
      "6     0.364516\n",
      "7    -0.299710\n",
      "8    -0.186290\n",
      "9     0.219658\n",
      "10    0.812533\n",
      "11   -0.483263\n",
      "12   -0.075432\n",
      "13   -0.038058\n",
      "14    2.605789\n",
      "15   -0.554191\n",
      "16   -0.401558\n",
      "17    0.030744\n",
      "18    0.176165\n",
      "19   -0.096512\n",
      "20   -0.012074\n",
      "21    0.266976\n",
      "22   -0.107296\n",
      "Name: VOLUME , dtype: float64\n"
     ]
    }
   ],
   "source": [
    "print(infy[\"VOLUME \"].pct_change())"
   ]
  },
  {
   "cell_type": "markdown",
   "metadata": {},
   "source": [
    "Visualising this give us a generic inference about the daily price fluctuation in the closing price of Infosys stock."
   ]
  },
  {
   "cell_type": "code",
   "execution_count": 39,
   "metadata": {},
   "outputs": [
    {
     "data": {
      "image/png": "[encoded data removed]",
      "text/plain": [
       "<Figure size 720x360 with 1 Axes>"
      ]
     },
     "metadata": {},
     "output_type": "display_data"
    }
   ],
   "source": [
    "import matplotlib.pyplot as plt\n",
    "%matplotlib inline\n",
    "plt.style.use('seaborn-darkgrid')  # a package for better visualisation\n",
    "\n",
    "plt.figure(figsize=(10, 5))\n",
    "plt.ylabel('Daily returns of Infosys')\n",
    "infy[\"VOLUME \"].pct_change().plot()\n",
    "plt.show()"
   ]
  },
  {
   "cell_type": "markdown",
   "metadata": {},
   "source": [
    "### DataFrame.var()\n",
    "\n",
    "This method returns the variance of the requested observations.\n",
    "\n",
    "Этот метод возвращает дисперсию запрошенных наблюдений."
   ]
  },
  {
   "cell_type": "code",
   "execution_count": 41,
   "metadata": {},
   "outputs": [
    {
     "name": "stdout",
     "output_type": "stream",
     "text": [
      "6226784364194.331\n"
     ]
    }
   ],
   "source": [
    "print(infy[\"VOLUME \"].var())"
   ]
  },
  {
   "cell_type": "markdown",
   "metadata": {},
   "source": [
    "### DataFrame.std()\n",
    "\n",
    "This method returns the standard deviation of the requested observations."
   ]
  },
  {
   "cell_type": "code",
   "execution_count": 43,
   "metadata": {},
   "outputs": [
    {
     "name": "stdout",
     "output_type": "stream",
     "text": [
      "2495352.553086303\n"
     ]
    }
   ],
   "source": [
    "print(infy[\"VOLUME \"].std())"
   ]
  },
  {
   "cell_type": "markdown",
   "metadata": {},
   "source": [
    "### DataFrame.rolling(window=).mean()\n",
    "\n",
    "This method helps us to calculate the moving average of the observations.\n",
    "\n",
    "Этот метод помогает нам рассчитать скользящую среднюю наблюдений."
   ]
  },
  {
   "cell_type": "code",
   "execution_count": 45,
   "metadata": {},
   "outputs": [
    {
     "data": {
      "text/plain": [
       "<matplotlib.axes._subplots.AxesSubplot at 0x231aa1eb4f0>"
      ]
     },
     "execution_count": 45,
     "metadata": {},
     "output_type": "execute_result"
    },
    {
     "data": {
      "image/png": "[encoded data removed]",
      "text/plain": [
       "<Figure size 432x288 with 1 Axes>"
      ]
     },
     "metadata": {},
     "output_type": "display_data"
    }
   ],
   "source": [
    "# The moving average window is 20 in this case\n",
    "infy['VOLUME '].rolling(window=20).mean().plot()"
   ]
  },
  {
   "cell_type": "markdown",
   "metadata": {},
   "source": [
    "A moving average of the close price with window = 20, smoothens the closing price data. You may have a look at it. We have plotted the daily Closing Price of Infosys and Moving Average (window = 20) of the daily Closing Price of Infosys against time.\n",
    "\n",
    "Скользящая средняя цены закрытия с window = 20 сглаживает данные о цене закрытия. Вы можете взглянуть на него. Мы построили график дневной цены закрытия Infosys и скользящей средней (окно = 20) дневной цены закрытия Infosys по времени."
   ]
  },
  {
   "cell_type": "code",
   "execution_count": 47,
   "metadata": {},
   "outputs": [
    {
     "data": {
      "image/png": "[encoded data removed]",
      "text/plain": [
       "<Figure size 720x360 with 1 Axes>"
      ]
     },
     "metadata": {
      "needs_background": "light"
     },
     "output_type": "display_data"
    }
   ],
   "source": [
    "import matplotlib.pyplot as plt\n",
    "%matplotlib inline\n",
    "\n",
    "plt.figure(figsize=(10, 5))\n",
    "plt.ylabel('VOLUME ')\n",
    "\n",
    "# for another pandas version\n",
    "infy[\"VOLUME \"].rolling(window=20).mean().plot()\n",
    "#pd.rolling_mean(infy[\"Close Price\"],20).plot()\n",
    "\n",
    "infy[\"VOLUME \"].plot()\n",
    "plt.show()"
   ]
  },
  {
   "cell_type": "markdown",
   "metadata": {},
   "source": [
    "### DataFrame.expanding(min_periods=).mean()\n",
    "\n",
    "This method returns the 'expanding' mean of the requested observations.\n",
    "\n",
    "A common alternative to rolling mean is to use an expanding window mean, which returns the value of the mean with <b>all the observations avaliable up to that point in time.</b>"
   ]
  },
  {
   "cell_type": "code",
   "execution_count": 48,
   "metadata": {},
   "outputs": [
    {
     "name": "stdout",
     "output_type": "stream",
     "text": [
      "0              NaN\n",
      "1              NaN\n",
      "2              NaN\n",
      "3              NaN\n",
      "4              NaN\n",
      "5              NaN\n",
      "6              NaN\n",
      "7              NaN\n",
      "8              NaN\n",
      "9              NaN\n",
      "10             NaN\n",
      "11             NaN\n",
      "12             NaN\n",
      "13             NaN\n",
      "14             NaN\n",
      "15             NaN\n",
      "16             NaN\n",
      "17             NaN\n",
      "18             NaN\n",
      "19    5.990439e+06\n",
      "20    5.916412e+06\n",
      "21    5.902946e+06\n",
      "22    5.864432e+06\n",
      "Name: VOLUME , dtype: float64\n"
     ]
    }
   ],
   "source": [
    "print(infy[\"VOLUME \"].expanding(min_periods=20).mean())"
   ]
  },
  {
   "cell_type": "markdown",
   "metadata": {},
   "source": [
    "You may visualise expanding mean with the below code."
   ]
  },
  {
   "cell_type": "code",
   "execution_count": 52,
   "metadata": {},
   "outputs": [
    {
     "data": {
      "image/png": "[encoded data removed]",
      "text/plain": [
       "<Figure size 720x360 with 1 Axes>"
      ]
     },
     "metadata": {
      "needs_background": "light"
     },
     "output_type": "display_data"
    }
   ],
   "source": [
    "import matplotlib.pyplot as plt\n",
    "%matplotlib inline\n",
    "\n",
    "plt.figure(figsize=(10, 5))\n",
    "plt.ylabel('Daily returns of Infosys')\n",
    "\n",
    "infy[\"VOLUME \"].expanding(min_periods=20).mean().plot()\n",
    "infy[\"VOLUME \"].plot()\n",
    "plt.show()"
   ]
  },
  {
   "cell_type": "markdown",
   "metadata": {},
   "source": [
    "Let us import another stock's data. We have saved the TCS (Tata Consultancy Services) data in our local machine as '../data_modules/tcs.csv'."
   ]
  },
  {
   "cell_type": "code",
   "execution_count": 53,
   "metadata": {},
   "outputs": [
    {
     "ename": "FileNotFoundError",
     "evalue": "[Errno 2] File ../data_modules/tcs.csv does not exist: '../data_modules/tcs.csv'",
     "output_type": "error",
     "traceback": [
      "\u001b[1;31m---------------------------------------------------------------------------\u001b[0m",
      "\u001b[1;31mFileNotFoundError\u001b[0m                         Traceback (most recent call last)",
      "\u001b[1;32m<ipython-input-53-950d015bede7>\u001b[0m in \u001b[0;36m<module>\u001b[1;34m\u001b[0m\n\u001b[0;32m      2\u001b[0m \u001b[1;32mimport\u001b[0m \u001b[0mpandas\u001b[0m \u001b[1;32mas\u001b[0m \u001b[0mpd\u001b[0m\u001b[1;33m\u001b[0m\u001b[1;33m\u001b[0m\u001b[0m\n\u001b[0;32m      3\u001b[0m \u001b[1;33m\u001b[0m\u001b[0m\n\u001b[1;32m----> 4\u001b[1;33m \u001b[0mtcs\u001b[0m \u001b[1;33m=\u001b[0m \u001b[0mpd\u001b[0m\u001b[1;33m.\u001b[0m\u001b[0mread_csv\u001b[0m \u001b[1;33m(\u001b[0m\u001b[1;34m'../data_modules/tcs.csv'\u001b[0m\u001b[1;33m)\u001b[0m\u001b[1;33m\u001b[0m\u001b[1;33m\u001b[0m\u001b[0m\n\u001b[0m\u001b[0;32m      5\u001b[0m \u001b[1;33m\u001b[0m\u001b[0m\n\u001b[0;32m      6\u001b[0m \u001b[0mtcs\u001b[0m\u001b[1;33m.\u001b[0m\u001b[0mhead\u001b[0m\u001b[1;33m(\u001b[0m\u001b[1;33m)\u001b[0m\u001b[1;33m\u001b[0m\u001b[1;33m\u001b[0m\u001b[0m\n",
      "\u001b[1;32m~\\anaconda3\\lib\\site-packages\\pandas\\io\\parsers.py\u001b[0m in \u001b[0;36mparser_f\u001b[1;34m(filepath_or_buffer, sep, delimiter, header, names, index_col, usecols, squeeze, prefix, mangle_dupe_cols, dtype, engine, converters, true_values, false_values, skipinitialspace, skiprows, skipfooter, nrows, na_values, keep_default_na, na_filter, verbose, skip_blank_lines, parse_dates, infer_datetime_format, keep_date_col, date_parser, dayfirst, cache_dates, iterator, chunksize, compression, thousands, decimal, lineterminator, quotechar, quoting, doublequote, escapechar, comment, encoding, dialect, error_bad_lines, warn_bad_lines, delim_whitespace, low_memory, memory_map, float_precision)\u001b[0m\n\u001b[0;32m    674\u001b[0m         )\n\u001b[0;32m    675\u001b[0m \u001b[1;33m\u001b[0m\u001b[0m\n\u001b[1;32m--> 676\u001b[1;33m         \u001b[1;32mreturn\u001b[0m \u001b[0m_read\u001b[0m\u001b[1;33m(\u001b[0m\u001b[0mfilepath_or_buffer\u001b[0m\u001b[1;33m,\u001b[0m \u001b[0mkwds\u001b[0m\u001b[1;33m)\u001b[0m\u001b[1;33m\u001b[0m\u001b[1;33m\u001b[0m\u001b[0m\n\u001b[0m\u001b[0;32m    677\u001b[0m \u001b[1;33m\u001b[0m\u001b[0m\n\u001b[0;32m    678\u001b[0m     \u001b[0mparser_f\u001b[0m\u001b[1;33m.\u001b[0m\u001b[0m__name__\u001b[0m \u001b[1;33m=\u001b[0m \u001b[0mname\u001b[0m\u001b[1;33m\u001b[0m\u001b[1;33m\u001b[0m\u001b[0m\n",
      "\u001b[1;32m~\\anaconda3\\lib\\site-packages\\pandas\\io\\parsers.py\u001b[0m in \u001b[0;36m_read\u001b[1;34m(filepath_or_buffer, kwds)\u001b[0m\n\u001b[0;32m    446\u001b[0m \u001b[1;33m\u001b[0m\u001b[0m\n\u001b[0;32m    447\u001b[0m     \u001b[1;31m# Create the parser.\u001b[0m\u001b[1;33m\u001b[0m\u001b[1;33m\u001b[0m\u001b[1;33m\u001b[0m\u001b[0m\n\u001b[1;32m--> 448\u001b[1;33m     \u001b[0mparser\u001b[0m \u001b[1;33m=\u001b[0m \u001b[0mTextFileReader\u001b[0m\u001b[1;33m(\u001b[0m\u001b[0mfp_or_buf\u001b[0m\u001b[1;33m,\u001b[0m \u001b[1;33m**\u001b[0m\u001b[0mkwds\u001b[0m\u001b[1;33m)\u001b[0m\u001b[1;33m\u001b[0m\u001b[1;33m\u001b[0m\u001b[0m\n\u001b[0m\u001b[0;32m    449\u001b[0m \u001b[1;33m\u001b[0m\u001b[0m\n\u001b[0;32m    450\u001b[0m     \u001b[1;32mif\u001b[0m \u001b[0mchunksize\u001b[0m \u001b[1;32mor\u001b[0m \u001b[0miterator\u001b[0m\u001b[1;33m:\u001b[0m\u001b[1;33m\u001b[0m\u001b[1;33m\u001b[0m\u001b[0m\n",
      "\u001b[1;32m~\\anaconda3\\lib\\site-packages\\pandas\\io\\parsers.py\u001b[0m in \u001b[0;36m__init__\u001b[1;34m(self, f, engine, **kwds)\u001b[0m\n\u001b[0;32m    878\u001b[0m             \u001b[0mself\u001b[0m\u001b[1;33m.\u001b[0m\u001b[0moptions\u001b[0m\u001b[1;33m[\u001b[0m\u001b[1;34m\"has_index_names\"\u001b[0m\u001b[1;33m]\u001b[0m \u001b[1;33m=\u001b[0m \u001b[0mkwds\u001b[0m\u001b[1;33m[\u001b[0m\u001b[1;34m\"has_index_names\"\u001b[0m\u001b[1;33m]\u001b[0m\u001b[1;33m\u001b[0m\u001b[1;33m\u001b[0m\u001b[0m\n\u001b[0;32m    879\u001b[0m \u001b[1;33m\u001b[0m\u001b[0m\n\u001b[1;32m--> 880\u001b[1;33m         \u001b[0mself\u001b[0m\u001b[1;33m.\u001b[0m\u001b[0m_make_engine\u001b[0m\u001b[1;33m(\u001b[0m\u001b[0mself\u001b[0m\u001b[1;33m.\u001b[0m\u001b[0mengine\u001b[0m\u001b[1;33m)\u001b[0m\u001b[1;33m\u001b[0m\u001b[1;33m\u001b[0m\u001b[0m\n\u001b[0m\u001b[0;32m    881\u001b[0m \u001b[1;33m\u001b[0m\u001b[0m\n\u001b[0;32m    882\u001b[0m     \u001b[1;32mdef\u001b[0m \u001b[0mclose\u001b[0m\u001b[1;33m(\u001b[0m\u001b[0mself\u001b[0m\u001b[1;33m)\u001b[0m\u001b[1;33m:\u001b[0m\u001b[1;33m\u001b[0m\u001b[1;33m\u001b[0m\u001b[0m\n",
      "\u001b[1;32m~\\anaconda3\\lib\\site-packages\\pandas\\io\\parsers.py\u001b[0m in \u001b[0;36m_make_engine\u001b[1;34m(self, engine)\u001b[0m\n\u001b[0;32m   1112\u001b[0m     \u001b[1;32mdef\u001b[0m \u001b[0m_make_engine\u001b[0m\u001b[1;33m(\u001b[0m\u001b[0mself\u001b[0m\u001b[1;33m,\u001b[0m \u001b[0mengine\u001b[0m\u001b[1;33m=\u001b[0m\u001b[1;34m\"c\"\u001b[0m\u001b[1;33m)\u001b[0m\u001b[1;33m:\u001b[0m\u001b[1;33m\u001b[0m\u001b[1;33m\u001b[0m\u001b[0m\n\u001b[0;32m   1113\u001b[0m         \u001b[1;32mif\u001b[0m \u001b[0mengine\u001b[0m \u001b[1;33m==\u001b[0m \u001b[1;34m\"c\"\u001b[0m\u001b[1;33m:\u001b[0m\u001b[1;33m\u001b[0m\u001b[1;33m\u001b[0m\u001b[0m\n\u001b[1;32m-> 1114\u001b[1;33m             \u001b[0mself\u001b[0m\u001b[1;33m.\u001b[0m\u001b[0m_engine\u001b[0m \u001b[1;33m=\u001b[0m \u001b[0mCParserWrapper\u001b[0m\u001b[1;33m(\u001b[0m\u001b[0mself\u001b[0m\u001b[1;33m.\u001b[0m\u001b[0mf\u001b[0m\u001b[1;33m,\u001b[0m \u001b[1;33m**\u001b[0m\u001b[0mself\u001b[0m\u001b[1;33m.\u001b[0m\u001b[0moptions\u001b[0m\u001b[1;33m)\u001b[0m\u001b[1;33m\u001b[0m\u001b[1;33m\u001b[0m\u001b[0m\n\u001b[0m\u001b[0;32m   1115\u001b[0m         \u001b[1;32melse\u001b[0m\u001b[1;33m:\u001b[0m\u001b[1;33m\u001b[0m\u001b[1;33m\u001b[0m\u001b[0m\n\u001b[0;32m   1116\u001b[0m             \u001b[1;32mif\u001b[0m \u001b[0mengine\u001b[0m \u001b[1;33m==\u001b[0m \u001b[1;34m\"python\"\u001b[0m\u001b[1;33m:\u001b[0m\u001b[1;33m\u001b[0m\u001b[1;33m\u001b[0m\u001b[0m\n",
      "\u001b[1;32m~\\anaconda3\\lib\\site-packages\\pandas\\io\\parsers.py\u001b[0m in \u001b[0;36m__init__\u001b[1;34m(self, src, **kwds)\u001b[0m\n\u001b[0;32m   1889\u001b[0m         \u001b[0mkwds\u001b[0m\u001b[1;33m[\u001b[0m\u001b[1;34m\"usecols\"\u001b[0m\u001b[1;33m]\u001b[0m \u001b[1;33m=\u001b[0m \u001b[0mself\u001b[0m\u001b[1;33m.\u001b[0m\u001b[0musecols\u001b[0m\u001b[1;33m\u001b[0m\u001b[1;33m\u001b[0m\u001b[0m\n\u001b[0;32m   1890\u001b[0m \u001b[1;33m\u001b[0m\u001b[0m\n\u001b[1;32m-> 1891\u001b[1;33m         \u001b[0mself\u001b[0m\u001b[1;33m.\u001b[0m\u001b[0m_reader\u001b[0m \u001b[1;33m=\u001b[0m \u001b[0mparsers\u001b[0m\u001b[1;33m.\u001b[0m\u001b[0mTextReader\u001b[0m\u001b[1;33m(\u001b[0m\u001b[0msrc\u001b[0m\u001b[1;33m,\u001b[0m \u001b[1;33m**\u001b[0m\u001b[0mkwds\u001b[0m\u001b[1;33m)\u001b[0m\u001b[1;33m\u001b[0m\u001b[1;33m\u001b[0m\u001b[0m\n\u001b[0m\u001b[0;32m   1892\u001b[0m         \u001b[0mself\u001b[0m\u001b[1;33m.\u001b[0m\u001b[0munnamed_cols\u001b[0m \u001b[1;33m=\u001b[0m \u001b[0mself\u001b[0m\u001b[1;33m.\u001b[0m\u001b[0m_reader\u001b[0m\u001b[1;33m.\u001b[0m\u001b[0munnamed_cols\u001b[0m\u001b[1;33m\u001b[0m\u001b[1;33m\u001b[0m\u001b[0m\n\u001b[0;32m   1893\u001b[0m \u001b[1;33m\u001b[0m\u001b[0m\n",
      "\u001b[1;32mpandas\\_libs\\parsers.pyx\u001b[0m in \u001b[0;36mpandas._libs.parsers.TextReader.__cinit__\u001b[1;34m()\u001b[0m\n",
      "\u001b[1;32mpandas\\_libs\\parsers.pyx\u001b[0m in \u001b[0;36mpandas._libs.parsers.TextReader._setup_parser_source\u001b[1;34m()\u001b[0m\n",
      "\u001b[1;31mFileNotFoundError\u001b[0m: [Errno 2] File ../data_modules/tcs.csv does not exist: '../data_modules/tcs.csv'"
     ]
    }
   ],
   "source": [
    "import numpy as np\n",
    "import pandas as pd\n",
    "\n",
    "tcs = pd.read_csv ('../data_modules/tcs.csv')\n",
    "\n",
    "tcs.head()"
   ]
  },
  {
   "cell_type": "markdown",
   "metadata": {},
   "source": [
    "### DataFrame.cov()\n",
    "\n",
    "This method returns the covariance between the closing price of the Infosys stock with the closing price of the TCS stock. \n",
    "\n",
    "Этот метод возвращает ковариацию между ценой закрытия акций Infosys и ценой закрытия акций TCS."
   ]
  },
  {
   "cell_type": "code",
   "execution_count": null,
   "metadata": {},
   "outputs": [],
   "source": [
    "print(infy[\"Close Price\"].cov(tcs[\"Close Price\"]))"
   ]
  },
  {
   "cell_type": "markdown",
   "metadata": {},
   "source": [
    "### DataFrame.corr()\n",
    "\n",
    "This method returns the correlation between the closing price of the infosys stock with the closing price of the TCS stock.\n",
    "\n",
    "Этот метод возвращает корреляцию между ценой закрытия акций infosys и ценой закрытия акций TCS."
   ]
  },
  {
   "cell_type": "code",
   "execution_count": null,
   "metadata": {},
   "outputs": [],
   "source": [
    "print(infy[\"Close Price\"].corr(tcs[\"Close Price\"]))"
   ]
  },
  {
   "cell_type": "markdown",
   "metadata": {},
   "source": [
    "A correlation of 0.53 indicates a quite strong correlation between these two stocks.\n",
    "\n",
    "__Корреляция 0,53 указывает на довольно сильную корреляцию между этими двумя акциями.__"
   ]
  },
  {
   "cell_type": "markdown",
   "metadata": {},
   "source": [
    "### DataFrame.kurt()\n",
    "\n",
    "This method returns unbiased kurtosis over the requested data set using Fisher's definition of kurtosis (where kurtosis of normal distribution = 0).\n",
    "\n",
    "Этот метод возвращает несмещенный эксцесс по запрошенному набору данных, используя определение эксцесса Фишера (где эксцесс нормального распределения = 0)."
   ]
  },
  {
   "cell_type": "code",
   "execution_count": null,
   "metadata": {},
   "outputs": [],
   "source": [
    "print(tcs[\"Close Price\"].kurt())"
   ]
  },
  {
   "cell_type": "markdown",
   "metadata": {},
   "source": [
    "A positive kurtosis value indicates a leptokurtic distribution.\n",
    "\n",
    "Положительное значение эксцесса указывает на распределение лептокуртиков."
   ]
  },
  {
   "cell_type": "markdown",
   "metadata": {},
   "source": [
    "### DataFrame.skew()\n",
    "\n",
    "This method unbiased skew over the requested data set.\n",
    "\n",
    "\n",
    "__Этот метод непредвзято искажает запрошенный набор данных.__"
   ]
  },
  {
   "cell_type": "code",
   "execution_count": null,
   "metadata": {},
   "outputs": [],
   "source": [
    "print(tcs[\"Close Price\"].skew())"
   ]
  },
  {
   "cell_type": "markdown",
   "metadata": {},
   "source": [
    "The distribution is positively skewed.\n",
    "__(Распределение положительно искажено.)__"
   ]
  },
  {
   "cell_type": "code",
   "execution_count": null,
   "metadata": {},
   "outputs": [],
   "source": [
    "print(infy[\"Close Price\"].skew())"
   ]
  },
  {
   "cell_type": "markdown",
   "metadata": {},
   "source": [
    "The distribution is positively skewed. However, TCS' distribution is more positively skewed than Infosys' distribution.\n",
    "__Распределение положительно искажено. Однако распределение TCS более положительно искажено, чем распределение Infosys.__\n",
    "\n",
    "\n",
    "\n",
    "Let us visualise both the distributions and see whether the above said sentences make sense or not.\n",
    "__Давайте визуализируем оба распределения и посмотрим, имеют ли смысл вышеприведенные предложения или нет.__\n"
   ]
  },
  {
   "cell_type": "code",
   "execution_count": 56,
   "metadata": {},
   "outputs": [
    {
     "data": {
      "image/png": "[encoded data removed]",
      "text/plain": [
       "<Figure size 432x288 with 1 Axes>"
      ]
     },
     "metadata": {},
     "output_type": "display_data"
    }
   ],
   "source": [
    "# Infosys distribution\n",
    "\n",
    "import seaborn as sns\n",
    "\n",
    "sns.set(color_codes=True)\n",
    "\n",
    "sns.distplot(infy[\"VOLUME \"])\n",
    "plt.show()"
   ]
  },
  {
   "cell_type": "markdown",
   "metadata": {},
   "source": [
    "In the above diagram, you can see why the infosys close price distribution is platykurtic and positively skewed.\n",
    "\n",
    "__На приведенной выше диаграмме вы можете видеть, почему распределение цен закрытия infosys является платикуртическим и положительно искаженным.__"
   ]
  },
  {
   "cell_type": "code",
   "execution_count": 58,
   "metadata": {},
   "outputs": [
    {
     "ename": "NameError",
     "evalue": "name 'tcs' is not defined",
     "output_type": "error",
     "traceback": [
      "\u001b[1;31m---------------------------------------------------------------------------\u001b[0m",
      "\u001b[1;31mNameError\u001b[0m                                 Traceback (most recent call last)",
      "\u001b[1;32m<ipython-input-58-05f00d0d3871>\u001b[0m in \u001b[0;36m<module>\u001b[1;34m\u001b[0m\n\u001b[0;32m      5\u001b[0m \u001b[0msns\u001b[0m\u001b[1;33m.\u001b[0m\u001b[0mset\u001b[0m\u001b[1;33m(\u001b[0m\u001b[0mcolor_codes\u001b[0m\u001b[1;33m=\u001b[0m\u001b[1;32mTrue\u001b[0m\u001b[1;33m)\u001b[0m\u001b[1;33m\u001b[0m\u001b[1;33m\u001b[0m\u001b[0m\n\u001b[0;32m      6\u001b[0m \u001b[1;33m\u001b[0m\u001b[0m\n\u001b[1;32m----> 7\u001b[1;33m \u001b[0msns\u001b[0m\u001b[1;33m.\u001b[0m\u001b[0mdistplot\u001b[0m\u001b[1;33m(\u001b[0m\u001b[0mtcs\u001b[0m\u001b[1;33m[\u001b[0m\u001b[1;34m\"Close Price\"\u001b[0m\u001b[1;33m]\u001b[0m\u001b[1;33m)\u001b[0m\u001b[1;33m\u001b[0m\u001b[1;33m\u001b[0m\u001b[0m\n\u001b[0m\u001b[0;32m      8\u001b[0m \u001b[0mplt\u001b[0m\u001b[1;33m.\u001b[0m\u001b[0mshow\u001b[0m\u001b[1;33m(\u001b[0m\u001b[1;33m)\u001b[0m\u001b[1;33m\u001b[0m\u001b[1;33m\u001b[0m\u001b[0m\n",
      "\u001b[1;31mNameError\u001b[0m: name 'tcs' is not defined"
     ]
    }
   ],
   "source": [
    "# TCS distribution\n",
    "\n",
    "import seaborn as sns\n",
    "\n",
    "sns.set(color_codes=True)\n",
    "\n",
    "sns.distplot(tcs[\"Close Price\"])\n",
    "plt.show()"
   ]
  },
  {
   "cell_type": "markdown",
   "metadata": {},
   "source": [
    "In the above diagram, you can see why the TCS close price distribution is leptokurtic and positively skewed.\n",
    "\n",
    "__На приведенной выше диаграмме вы можете видеть, почему распределение цен закрытия TCS является лептокуртичным и положительно искаженным.__\n",
    "\n",
    "A trained eye is statistics, will be able to see that the TCS stock's closing prices are more positively skewed than the Infosys stock's closing prices.\n",
    "\n",
    "__Опытный глаз-это статистика, он сможет увидеть, что цены закрытия акций TCS более позитивно искажены, чем цены закрытия акций Infosys.__\n",
    "\n",
    "In the upcoming Jupyter Notebook, we will continue understanding about Indexing and Missing Values in Pandas. But before that let us solve some Quiz Questions and Exercises.\n",
    "\n",
    "__В предстоящем блокноте Jupyter мы продолжим разбираться в индексации и пропущенных значениях в Pandas. Но перед этим давайте решим несколько вопросов викторины и упражнений.__\n",
    "\n"
   ]
  },
  {
   "cell_type": "code",
   "execution_count": null,
   "metadata": {},
   "outputs": [],
   "source": [
    "# Loading and Viewing data\n",
    "\n",
    "import numpy as np\n",
    "import pandas as pd\n",
    "\n",
    "infy = pd.read_csv('../data_modules/infy_twoweeks.csv')"
   ]
  },
  {
   "cell_type": "markdown",
   "metadata": {},
   "source": [
    "## Indexing\n",
    "\n",
    "Indexing provides us with the axis labelling information in pandas. Further, it helps us to identify the exact position of data which is important while analysing data. <br>\n",
    "\n",
    "While studying indexing, we will also focus on how to slice and dice the data according to our needs in a dataframe.\n",
    "\n",
    "Индексация предоставляет нам информацию о маркировке оси в панд. Кроме того, это помогает нам определить точное положение данных, что важно при анализе данных. <br>\n",
    "\n",
    "Изучая индексацию, мы также сосредоточимся на том, как нарезать данные в соответствии с нашими потребностями в фрейме данных."
   ]
  },
  {
   "cell_type": "markdown",
   "metadata": {},
   "source": [
    "## Indexing using .loc()\n",
    "\n",
    "It is a 'label-location' based indexer for selection of data points.\n",
    "\n",
    "Это индексатор на основе \"расположения меток\" для выбора точек данных."
   ]
  },
  {
   "cell_type": "code",
   "execution_count": null,
   "metadata": {},
   "outputs": [],
   "source": [
    "# Import the pandas library and aliasing as pd\n",
    "import pandas as pd\n",
    "import numpy as np\n",
    "\n",
    "# Select all rows for a specific column\n",
    "\n",
    "print(infy.loc[:, 'Close Price'])"
   ]
  },
  {
   "cell_type": "code",
   "execution_count": null,
   "metadata": {},
   "outputs": [],
   "source": [
    "# Select all the rows of these specific columns\n",
    "\n",
    "print(infy.loc[:, ['Close Price', 'Open Price']])"
   ]
  },
  {
   "cell_type": "code",
   "execution_count": null,
   "metadata": {},
   "outputs": [],
   "source": [
    "# Select the first five rows of the specific columns\n",
    "\n",
    "# Remember that the '.loc()' method INCLUDES the rows and columns in its stop argument.\n",
    "\n",
    "# Observe that '0:4' will include 5 rows from index 0 to 4\n",
    "\n",
    "# The loc indexer takes the row arguments first and the column arguments second.\n",
    "\n",
    "print(infy.loc[:4, ['Close Price', 'Open Price']])"
   ]
  },
  {
   "cell_type": "code",
   "execution_count": null,
   "metadata": {},
   "outputs": [],
   "source": [
    "# Select the rows 2 to 7 of all the columns from the dataframe\n",
    "\n",
    "print(infy.loc[2:7])"
   ]
  },
  {
   "cell_type": "code",
   "execution_count": null,
   "metadata": {},
   "outputs": [],
   "source": [
    "# Select the rows and columns specified\n",
    "\n",
    "print(infy.loc[[0, 1, 2, 3, 4, 5], ['Open Price',\n",
    "                                    'High Price', 'Low Price', 'Close Price']])"
   ]
  },
  {
   "cell_type": "code",
   "execution_count": null,
   "metadata": {},
   "outputs": [],
   "source": [
    "# To check if the fifth row's values are greater than 1130.\n",
    "\n",
    "print(infy.loc[[4], ['Open Price', 'High Price',\n",
    "                     'Low Price', 'Close Price']] > 1130)"
   ]
  },
  {
   "cell_type": "markdown",
   "metadata": {},
   "source": [
    "## Indexing using .iloc()\n",
    "\n",
    "Another way to perform indexing is by using the 'iloc()' method.\n",
    "\n",
    "__Другой способ выполнения индексации-использование метода \" iloc ()\".__"
   ]
  },
  {
   "cell_type": "code",
   "execution_count": null,
   "metadata": {},
   "outputs": [],
   "source": [
    "# Using .iloc()\n",
    "\n",
    "# Select the first four rows of all the columns\n",
    "\n",
    "# Remember that the '.iloc()' method DOES NOT include the rows and columns in its stop argument\n",
    "\n",
    "# Observe that '0:4' will include 4 rows from index 0 to 3\n",
    "\n",
    "print(infy.iloc[:4])"
   ]
  },
  {
   "cell_type": "code",
   "execution_count": null,
   "metadata": {},
   "outputs": [],
   "source": [
    "# Let us play more with the indexes of both rows and columns\n",
    "\n",
    "# Select the rows from index 1 to index 4 (4 rows in total) and Columns with index from  2 to  3 (2 columns)\n",
    "\n",
    "# .iloc() is similar to numpy array indexing\n",
    "\n",
    "# .iloc() is extremely useful when your data is not labelled and you need to refer to columns using their integer location instead\n",
    "\n",
    "print(infy.iloc[1:5, 2:4])"
   ]
  },
  {
   "cell_type": "code",
   "execution_count": null,
   "metadata": {},
   "outputs": [],
   "source": [
    "# Selecting the exact requested columns\n",
    "\n",
    "print(infy.iloc[[1, 3, 5, 7], [1, 3, 5, 7, 9]])"
   ]
  },
  {
   "cell_type": "code",
   "execution_count": null,
   "metadata": {},
   "outputs": [],
   "source": [
    "# Selecting the first two rows and all the columns\n",
    "\n",
    "print(infy.iloc[1:3, :])"
   ]
  },
  {
   "cell_type": "code",
   "execution_count": null,
   "metadata": {},
   "outputs": [],
   "source": [
    "print(infy.iloc[:, 1:3])"
   ]
  },
  {
   "cell_type": "markdown",
   "metadata": {},
   "source": [
    "## Missing values\n",
    "\n",
    "Missing values are values that are absent from the dataframe. Usually, all the dataframes that you would work on would be large and there will be a case of 'missing values' in most of them. <br>\n",
    "<br>\n",
    "Hence, it becomes important for you to learn how to handle these missing values.\n",
    "\n",
    "__Пропущенные значения-это значения, отсутствующие в кадре данных. Обычно все фреймы данных, с которыми вы будете работать, будут большими, и в большинстве из них будут \"отсутствующие значения\". <br>\n",
    "<br>\n",
    "Следовательно, для вас становится важным научиться справляться с этими недостающими значениями.__"
   ]
  },
  {
   "cell_type": "code",
   "execution_count": null,
   "metadata": {},
   "outputs": [],
   "source": [
    "# We have deliberately created 'missing values' in the same 'Infosys two weeks' data which you have used above.\n",
    "\n",
    "# Have a look at the entire dataframe\n",
    "\n",
    "import numpy as np\n",
    "import pandas as pd\n",
    "\n",
    "infy = pd.read_csv('../data_modules/infy_twoweeks_nan.csv')\n",
    "\n",
    "infy"
   ]
  },
  {
   "cell_type": "markdown",
   "metadata": {},
   "source": [
    "## DataFrame.isnull()\n",
    "\n",
    "This method returns a Boolean result.<br>\n",
    "<br>\n",
    "It will return 'True' if the data point has a 'NaN' (Not a Number) value. Missing data is represented by a NaN value. \n",
    "\n",
    "__Он вернет \"True\", если точка данных имеет значение \" NaN \" (а не число). Отсутствующие данные представлены значением NaN.__"
   ]
  },
  {
   "cell_type": "code",
   "execution_count": null,
   "metadata": {},
   "outputs": [],
   "source": [
    "# Understanding the 'NaN' values of the 'Close Price' column in the infy dataframe\n",
    "\n",
    "print(infy['Close Price'].isnull())"
   ]
  },
  {
   "cell_type": "code",
   "execution_count": null,
   "metadata": {},
   "outputs": [],
   "source": [
    "# Understanding the 'NaN' values of the entire dataframe\n",
    "\n",
    "print(infy.isnull())"
   ]
  },
  {
   "cell_type": "markdown",
   "metadata": {},
   "source": [
    "## DataFrame.notnull()\n",
    "\n",
    "This method returns a Boolean result.<br>\n",
    "<br>\n",
    "It will return 'False' if the data point is not a 'NaN' (Not a Number) value. Missing data is represented by a NaN value. \n",
    "\n",
    "\n",
    "__Этот метод возвращает логический результат.\n",
    "Он вернет \"False\", если точка данных не является значением \" NaN \" (а не числом). Отсутствующие данные представлены значением NaN.__"
   ]
  },
  {
   "cell_type": "code",
   "execution_count": null,
   "metadata": {},
   "outputs": [],
   "source": [
    "print(infy['Close Price'].notnull()) "
   ]
  },
  {
   "cell_type": "markdown",
   "metadata": {},
   "source": [
    "## DataFrame.fillna()\n",
    "\n",
    "The .fillna() method will fill all the 'NaN' values of the entire dataframe or of the requested columns with a scalar value of your choice. \n",
    "\n",
    "__Метод .fillna() заполнит все значения \" NaN \" всего фрейма данных или запрошенных столбцов скалярным значением по вашему выбору.__"
   ]
  },
  {
   "cell_type": "code",
   "execution_count": null,
   "metadata": {},
   "outputs": [],
   "source": [
    "# Replace NaN with a Scalar Value of 1000\n",
    "\n",
    "print(infy.fillna(1000))"
   ]
  },
  {
   "cell_type": "code",
   "execution_count": null,
   "metadata": {},
   "outputs": [],
   "source": [
    "# This will fill the 'Close Price' column with the scalar value of 5\n",
    "\n",
    "print(infy['Close Price'].fillna(5))"
   ]
  },
  {
   "cell_type": "code",
   "execution_count": null,
   "metadata": {},
   "outputs": [],
   "source": [
    "# If we want to do 'fillna()' using the 'backfill' method, then backfill will take the value from the next row and fill the NaN value with that same value\n",
    "\n",
    "# Если мы хотим сделать 'fillna()' с помощью метода 'backfill', то backfill возьмет значение из следующей строки и заполнит значение NaN тем же значением\n",
    "\n",
    "print(infy['Close Price'])\n",
    "\n",
    "print(infy['Close Price'].fillna(method='backfill'))"
   ]
  },
  {
   "cell_type": "code",
   "execution_count": null,
   "metadata": {},
   "outputs": [],
   "source": [
    "# It is even possible to do it for the entire dataframe with the 'backfill' values\n",
    "\n",
    "\n",
    "print(infy.fillna(method='backfill'))"
   ]
  },
  {
   "cell_type": "code",
   "execution_count": null,
   "metadata": {},
   "outputs": [],
   "source": [
    "# 'bfill' does the same thing as 'backfill'\n",
    "\n",
    "print(infy['Close Price'])\n",
    "\n",
    "print(infy['Close Price'].fillna(method='bfill'))"
   ]
  },
  {
   "cell_type": "code",
   "execution_count": null,
   "metadata": {},
   "outputs": [],
   "source": [
    "# If we want to do 'fillna()' using the 'ffill' method, then ffill will take the value from the previous row and fill the NaN value with that same value\n",
    "\n",
    "# Если мы хотим выполнить 'fillna()' с помощью метода 'ffill', то ffill возьмет значение из предыдущей строки и заполнит значение NaN тем же значением\n",
    "\n",
    "print(infy['Close Price'])\n",
    "\n",
    "print(infy['Close Price'].fillna(method='ffill'))"
   ]
  },
  {
   "cell_type": "code",
   "execution_count": null,
   "metadata": {},
   "outputs": [],
   "source": [
    "# 'pad' does the same thing as 'ffill'\n",
    "\n",
    "print(infy['Close Price'])\n",
    "\n",
    "print(infy['Close Price'].fillna(method='pad'))"
   ]
  },
  {
   "cell_type": "markdown",
   "metadata": {},
   "source": [
    "## DataFrame.dropna()\n",
    "\n",
    "This method will drop the entire 'row' or 'column' which has even a single 'NaN' value present, as per the request."
   ]
  },
  {
   "cell_type": "code",
   "execution_count": null,
   "metadata": {},
   "outputs": [],
   "source": [
    "# By default, dropna() will exclude or drop all the rows which have even one NaN value in it\n",
    "\n",
    "print(infy.dropna())"
   ]
  },
  {
   "cell_type": "code",
   "execution_count": null,
   "metadata": {},
   "outputs": [],
   "source": [
    "# If we specify the axis = 1, it will exclude or drop all the columns which has even one NaN value in it\n",
    "\n",
    "print(infy.dropna(axis=1))"
   ]
  },
  {
   "cell_type": "code",
   "execution_count": null,
   "metadata": {},
   "outputs": [],
   "source": [
    "## Replacing values\n",
    "\n",
    "Replacing helps us to select any data point in the entire dataframe and replace it with the value of our choice."
   ]
  },
  {
   "cell_type": "code",
   "execution_count": 59,
   "metadata": {},
   "outputs": [
    {
     "name": "stdout",
     "output_type": "stream",
     "text": [
      "    one   two\n",
      "0    10  1000\n",
      "1    20     0\n",
      "2    30    30\n",
      "3    40    40\n",
      "4    50    50\n",
      "5  2000    60\n"
     ]
    }
   ],
   "source": [
    "import pandas as pd\n",
    "import numpy as np\n",
    "\n",
    "# Let us do this a bit differently. We will create a dataframe using the 'pd.DataFrame' constructor\n",
    "\n",
    "df = pd.DataFrame({'one': [10, 20, 30, 40, 50, 2000],\n",
    "                   'two': [1000, 0, 30, 40, 50, 60]})\n",
    "\n",
    "print(df)"
   ]
  },
  {
   "cell_type": "code",
   "execution_count": 60,
   "metadata": {},
   "outputs": [
    {
     "name": "stdout",
     "output_type": "stream",
     "text": [
      "   one  two\n",
      "0   10   10\n",
      "1   20    0\n",
      "2   30   30\n",
      "3   40   40\n",
      "4   50   50\n",
      "5   60   60\n"
     ]
    }
   ],
   "source": [
    "# .replace() will first find the value which you want to replace and replace it the value you have given.\n",
    "\n",
    "# Example: In the below '1000' is the value it will find and replace it with '10'\n",
    "\n",
    "print(df.replace({1000: 10, 2000: 60}))"
   ]
  },
  {
   "cell_type": "code",
   "execution_count": null,
   "metadata": {},
   "outputs": [],
   "source": [
    "print(infy['Close Price'])"
   ]
  },
  {
   "cell_type": "code",
   "execution_count": null,
   "metadata": {},
   "outputs": [],
   "source": [
    "# This should be self explanatory\n",
    "\n",
    "print(infy['Close Price'].replace({1147.55: 3000}))"
   ]
  },
  {
   "cell_type": "code",
   "execution_count": null,
   "metadata": {},
   "outputs": [],
   "source": [
    "# We cannot replace NaN values, since they are not defined.\n",
    "print(infy['Close Price'].replace({NaN: 1000000}))"
   ]
  },
  {
   "cell_type": "markdown",
   "metadata": {},
   "source": [
    "## Reindexing \n",
    "\n",
    "Reindexing changes the row labels and column labels of a dataframe.<br> \n",
    "<br> \n",
    "To reindex means to confirm the data to match a given set of labels along a particular axis.\n",
    "\n",
    "__Переиндексация изменяет метки строк и столбцов фрейма данных.<br>\n",
    "<br>\n",
    "Переиндексация означает подтверждение соответствия данных заданному набору меток вдоль определенной оси.__"
   ]
  },
  {
   "cell_type": "code",
   "execution_count": null,
   "metadata": {},
   "outputs": [],
   "source": [
    "import pandas as pd\n",
    "import numpy as np\n",
    "\n",
    "print(infy)"
   ]
  },
  {
   "cell_type": "code",
   "execution_count": null,
   "metadata": {},
   "outputs": [],
   "source": [
    "# Here we have changed the shape of dataframe by using reindexing\n",
    "\n",
    "infy_reindexed = infy.reindex(index=[0, 2, 4, 6, 8], columns=[\n",
    "                              'Open Price', 'High Price', 'Low Price', 'Close Price'])\n",
    "\n",
    "print(infy_reindexed)"
   ]
  },
  {
   "cell_type": "markdown",
   "metadata": {},
   "source": [
    "In the upcoming Jupyter Notebook, we will understand the <B>Grouping and Reshaping</B> in Python. This would be an optional read.<br><br>"
   ]
  },
  {
   "cell_type": "markdown",
   "metadata": {},
   "source": [
    "## Pandas 'groupby'\n",
    "\n",
    "Any groupby operation involves one of the following operations on the original dataframe/object. They are:\n",
    "<br>\n",
    "1. <b>Splitting</b> the data into groups based on some criteria.<br>\n",
    "<br>\n",
    "2. <b>Applying</b> a function to each group separately.<br>\n",
    "<br>\n",
    "3. <b>Combining</b> the results into a single dataframe.<br>\n",
    "<br>\n",
    "Splitting the data is pretty straight forward. What adds value to this split is the 'Apply' step. This makes 'Groupby' function interesting. In the apply step, you may wish to do one of the following: <br>\n",
    "<br>\n",
    "a. Aggregation − Computing a summary statistic. Eg: Compute group sums or means.<br>\n",
    "<br>\n",
    "b. Transformation − performs some group-specific operation. Eg: Standardizing data (computing z-score) within the group.<br> \n",
    "<br>\n",
    "c. Filtration − discarding the data with some condition.<br> \n",
    "<br>\n",
    "Let us now create a DataFrame object and perform all the operations on it.\n",
    "\n",
    "\n",
    "Любая операция groupby включает в себя одну из следующих операций над исходным фреймом данных/объектом. Они являются:\n",
    "<br>\n",
    "1. Разбиение данных на группы на основе некоторых критериев.\n",
    "<br>\n",
    "2. Применение функции к каждой группе отдельно.\n",
    "<br>\n",
    "3. Объединение результатов в один фрейм данных.\n",
    "<br>\n",
    "Разделение данных довольно прямолинейно. Что добавляет ценность этому разделению, так это шаг \"Применить\". Это делает функцию \"Groupby\" интересной. На шаге применить вы можете выполнить одно из следующих действий: <br>\n",
    "<br>\n",
    "a. Агрегирование − вычисление сводной статистики. Например: Вычислить групповые суммы или средства.<br>\n",
    "<br>\n",
    "b. Преобразование − выполняет некоторую операцию, специфичную для группы. Например: Стандартизация данных (вычисление z-балла) внутри группы.<br>\n",
    "<br>\n",
    "c. Фильтрация − отбрасывание данных с некоторым условием.<br>\n",
    "<br>\n",
    "Давайте теперь создадим объект DataFrame и выполним все операции с ним."
   ]
  },
  {
   "cell_type": "code",
   "execution_count": 61,
   "metadata": {},
   "outputs": [
    {
     "data": {
      "text/html": [
       "<div>\n",
       "<style scoped>\n",
       "    .dataframe tbody tr th:only-of-type {\n",
       "        vertical-align: middle;\n",
       "    }\n",
       "\n",
       "    .dataframe tbody tr th {\n",
       "        vertical-align: top;\n",
       "    }\n",
       "\n",
       "    .dataframe thead th {\n",
       "        text-align: right;\n",
       "    }\n",
       "</style>\n",
       "<table border=\"1\" class=\"dataframe\">\n",
       "  <thead>\n",
       "    <tr style=\"text-align: right;\">\n",
       "      <th></th>\n",
       "      <th>Sector</th>\n",
       "      <th>Company</th>\n",
       "      <th>MarketCap</th>\n",
       "      <th>Share Price</th>\n",
       "      <th>Amount Invested</th>\n",
       "    </tr>\n",
       "  </thead>\n",
       "  <tbody>\n",
       "    <tr>\n",
       "      <th>0</th>\n",
       "      <td>IT</td>\n",
       "      <td>Infosys</td>\n",
       "      <td>Large Cap</td>\n",
       "      <td>1120</td>\n",
       "      <td>24000</td>\n",
       "    </tr>\n",
       "    <tr>\n",
       "      <th>1</th>\n",
       "      <td>FMCG</td>\n",
       "      <td>Dabur</td>\n",
       "      <td>Large Cap</td>\n",
       "      <td>341</td>\n",
       "      <td>16000</td>\n",
       "    </tr>\n",
       "    <tr>\n",
       "      <th>2</th>\n",
       "      <td>Finance</td>\n",
       "      <td>DHFL</td>\n",
       "      <td>Mid Cap</td>\n",
       "      <td>610</td>\n",
       "      <td>50000</td>\n",
       "    </tr>\n",
       "    <tr>\n",
       "      <th>3</th>\n",
       "      <td>Pharma</td>\n",
       "      <td>Divis Lab</td>\n",
       "      <td>Mid Cap</td>\n",
       "      <td>1123</td>\n",
       "      <td>23000</td>\n",
       "    </tr>\n",
       "    <tr>\n",
       "      <th>4</th>\n",
       "      <td>Pharma</td>\n",
       "      <td>Lupin</td>\n",
       "      <td>Mid Cap</td>\n",
       "      <td>741</td>\n",
       "      <td>45000</td>\n",
       "    </tr>\n",
       "    <tr>\n",
       "      <th>5</th>\n",
       "      <td>FMCG</td>\n",
       "      <td>Ruchira Papers</td>\n",
       "      <td>Small Cap</td>\n",
       "      <td>185</td>\n",
       "      <td>12000</td>\n",
       "    </tr>\n",
       "    <tr>\n",
       "      <th>6</th>\n",
       "      <td>FMCG</td>\n",
       "      <td>Britianna</td>\n",
       "      <td>Mid Cap</td>\n",
       "      <td>5351</td>\n",
       "      <td>52000</td>\n",
       "    </tr>\n",
       "    <tr>\n",
       "      <th>7</th>\n",
       "      <td>IT</td>\n",
       "      <td>Persistent Systems</td>\n",
       "      <td>Small Cap</td>\n",
       "      <td>720</td>\n",
       "      <td>18000</td>\n",
       "    </tr>\n",
       "    <tr>\n",
       "      <th>8</th>\n",
       "      <td>Finance</td>\n",
       "      <td>Bajaj Finance</td>\n",
       "      <td>Large Cap</td>\n",
       "      <td>1937</td>\n",
       "      <td>5000</td>\n",
       "    </tr>\n",
       "    <tr>\n",
       "      <th>9</th>\n",
       "      <td>Real Estate</td>\n",
       "      <td>DLF</td>\n",
       "      <td>Mid Cap</td>\n",
       "      <td>217</td>\n",
       "      <td>3500</td>\n",
       "    </tr>\n",
       "  </tbody>\n",
       "</table>\n",
       "</div>"
      ],
      "text/plain": [
       "        Sector             Company  MarketCap  Share Price  Amount Invested\n",
       "0           IT             Infosys  Large Cap         1120            24000\n",
       "1         FMCG               Dabur  Large Cap          341            16000\n",
       "2      Finance                DHFL    Mid Cap          610            50000\n",
       "3       Pharma           Divis Lab    Mid Cap         1123            23000\n",
       "4       Pharma               Lupin    Mid Cap          741            45000\n",
       "5         FMCG      Ruchira Papers  Small Cap          185            12000\n",
       "6         FMCG           Britianna    Mid Cap         5351            52000\n",
       "7           IT  Persistent Systems  Small Cap          720            18000\n",
       "8      Finance       Bajaj Finance  Large Cap         1937             5000\n",
       "9  Real Estate                 DLF    Mid Cap          217             3500"
      ]
     },
     "execution_count": 61,
     "metadata": {},
     "output_type": "execute_result"
    }
   ],
   "source": [
    "# Creating a dataframe\n",
    "\n",
    "import pandas as pd\n",
    "\n",
    "my_portfolio = {'Sector': ['IT', 'FMCG', 'Finance', 'Pharma', 'Pharma',\n",
    "                           'FMCG', 'FMCG', 'IT', 'Finance', 'Real Estate'],\n",
    "\n",
    "                'Company':   ['Infosys', 'Dabur', 'DHFL', 'Divis Lab', 'Lupin',\n",
    "                              'Ruchira Papers', 'Britianna', 'Persistent Systems', 'Bajaj Finance', 'DLF'],\n",
    "\n",
    "                'MarketCap': ['Large Cap', 'Large Cap', 'Mid Cap', 'Mid Cap', 'Mid Cap',\n",
    "                              'Small Cap', 'Mid Cap', 'Small Cap', 'Large Cap', 'Mid Cap'],\n",
    "\n",
    "                'Share Price': [1120, 341, 610, 1123, 741, 185, 5351, 720, 1937, 217],\n",
    "\n",
    "                'Amount Invested': [24000, 16000, 50000, 23000, 45000, 12000, 52000, 18000, 5000, 3500]}\n",
    "\n",
    "mp = pd.DataFrame(my_portfolio)\n",
    "\n",
    "mp"
   ]
  },
  {
   "cell_type": "markdown",
   "metadata": {},
   "source": [
    "### View groups"
   ]
  },
  {
   "cell_type": "code",
   "execution_count": 62,
   "metadata": {},
   "outputs": [
    {
     "name": "stdout",
     "output_type": "stream",
     "text": [
      "{'Large Cap': Int64Index([0, 1, 8], dtype='int64'), 'Mid Cap': Int64Index([2, 3, 4, 6, 9], dtype='int64'), 'Small Cap': Int64Index([5, 7], dtype='int64')}\n"
     ]
    }
   ],
   "source": [
    "print(mp.groupby('MarketCap').groups)"
   ]
  },
  {
   "cell_type": "markdown",
   "metadata": {},
   "source": [
    "There are 3 Groups formed, if we group it by <b>'Market Cap'</b>. They are:<br>\n",
    "<br>\n",
    "Group 1: 'Large Cap' (3 companies at index 0,1,8)<br>\n",
    "Group 2: 'Mid Cap' (5 companies at index 2,3,4,6,9)<br>\n",
    "Group 3: 'Small Cap' (2 companies at index 5,7)<br>"
   ]
  },
  {
   "cell_type": "code",
   "execution_count": 64,
   "metadata": {},
   "outputs": [
    {
     "name": "stdout",
     "output_type": "stream",
     "text": [
      "{'FMCG': Int64Index([1, 5, 6], dtype='int64'), 'Finance': Int64Index([2, 8], dtype='int64'), 'IT': Int64Index([0, 7], dtype='int64'), 'Pharma': Int64Index([3, 4], dtype='int64'), 'Real Estate': Int64Index([9], dtype='int64')}\n"
     ]
    }
   ],
   "source": [
    "# Understand this grouping\n",
    "\n",
    "print(mp.groupby('Sector').groups)"
   ]
  },
  {
   "cell_type": "markdown",
   "metadata": {},
   "source": [
    "There are 5 Groups formed, if we group it by <b>'Sector'</b>. They are:<br>\n",
    "<br>\n",
    "Group 1: 'FMCG' (3 companies at index 1,5,6)<br>\n",
    "Group 2: 'IT' (2 companies at index 0,7)<br>\n",
    "Group 3: 'Pharma' (2 companies at index 3,4)<br>\n",
    "Group 4: 'Finance' (2 companies at index 2,8)<br>\n",
    "Group 5: 'Real Estate' (1 company at index 9)<br>"
   ]
  },
  {
   "cell_type": "code",
   "execution_count": 66,
   "metadata": {},
   "outputs": [
    {
     "name": "stdout",
     "output_type": "stream",
     "text": [
      "{('Large Cap', 'FMCG'): Int64Index([1], dtype='int64'), ('Large Cap', 'Finance'): Int64Index([8], dtype='int64'), ('Large Cap', 'IT'): Int64Index([0], dtype='int64'), ('Mid Cap', 'FMCG'): Int64Index([6], dtype='int64'), ('Mid Cap', 'Finance'): Int64Index([2], dtype='int64'), ('Mid Cap', 'Pharma'): Int64Index([3, 4], dtype='int64'), ('Mid Cap', 'Real Estate'): Int64Index([9], dtype='int64'), ('Small Cap', 'FMCG'): Int64Index([5], dtype='int64'), ('Small Cap', 'IT'): Int64Index([7], dtype='int64')}\n"
     ]
    }
   ],
   "source": [
    "# Groupby with multiple columns\n",
    "\n",
    "print(mp.groupby(['MarketCap', 'Sector']).groups)"
   ]
  },
  {
   "cell_type": "markdown",
   "metadata": {},
   "source": [
    "There are 8 Groups formed, if we group it by <b>'Sector'</b> and <b>'MarketCap'</b>. They are:<br>\n",
    "<br>\n",
    "Group 1: 'Large Cap, FMCG' (1 company at index 1)<br>\n",
    "Group 2: 'Mid Cap, FMCG' (1 company at index 6)<br>\n",
    "Group 3: 'Large Cap, IT' (1 company at index 0)<br>\n",
    "Group 4: 'Small Cap, FMCG' (1 company at index 5)<br>\n",
    "Group 5: 'Mid Cap, Real Estate' (1 company at index 9)<br>\n",
    "Group 6: 'Small Cap, IT' (1 company at index 7)<br>\n",
    "Group 7: 'Mid Cap, Pharma' (2 companies at index 3,4)<br>\n",
    "Group 8: 'Mid Cap, Finance' (1 company at index 2)<br>"
   ]
  },
  {
   "cell_type": "markdown",
   "metadata": {},
   "source": [
    "### Iterating through groups"
   ]
  },
  {
   "cell_type": "code",
   "execution_count": 67,
   "metadata": {},
   "outputs": [
    {
     "name": "stdout",
     "output_type": "stream",
     "text": [
      "FMCG\n",
      "  Sector         Company  MarketCap  Share Price  Amount Invested\n",
      "1   FMCG           Dabur  Large Cap          341            16000\n",
      "5   FMCG  Ruchira Papers  Small Cap          185            12000\n",
      "6   FMCG       Britianna    Mid Cap         5351            52000\n",
      "Finance\n",
      "    Sector        Company  MarketCap  Share Price  Amount Invested\n",
      "2  Finance           DHFL    Mid Cap          610            50000\n",
      "8  Finance  Bajaj Finance  Large Cap         1937             5000\n",
      "IT\n",
      "  Sector             Company  MarketCap  Share Price  Amount Invested\n",
      "0     IT             Infosys  Large Cap         1120            24000\n",
      "7     IT  Persistent Systems  Small Cap          720            18000\n",
      "Pharma\n",
      "   Sector    Company MarketCap  Share Price  Amount Invested\n",
      "3  Pharma  Divis Lab   Mid Cap         1123            23000\n",
      "4  Pharma      Lupin   Mid Cap          741            45000\n",
      "Real Estate\n",
      "        Sector Company MarketCap  Share Price  Amount Invested\n",
      "9  Real Estate     DLF   Mid Cap          217             3500\n"
     ]
    }
   ],
   "source": [
    "# A better way to visualise\n",
    "\n",
    "grouped = mp.groupby('Sector')\n",
    "\n",
    "for name, group in grouped:\n",
    "    print(name)\n",
    "    print(group)"
   ]
  },
  {
   "cell_type": "code",
   "execution_count": 68,
   "metadata": {},
   "outputs": [
    {
     "name": "stdout",
     "output_type": "stream",
     "text": [
      "Large Cap\n",
      "    Sector        Company  MarketCap  Share Price  Amount Invested\n",
      "0       IT        Infosys  Large Cap         1120            24000\n",
      "1     FMCG          Dabur  Large Cap          341            16000\n",
      "8  Finance  Bajaj Finance  Large Cap         1937             5000\n",
      "Mid Cap\n",
      "        Sector    Company MarketCap  Share Price  Amount Invested\n",
      "2      Finance       DHFL   Mid Cap          610            50000\n",
      "3       Pharma  Divis Lab   Mid Cap         1123            23000\n",
      "4       Pharma      Lupin   Mid Cap          741            45000\n",
      "6         FMCG  Britianna   Mid Cap         5351            52000\n",
      "9  Real Estate        DLF   Mid Cap          217             3500\n",
      "Small Cap\n",
      "  Sector             Company  MarketCap  Share Price  Amount Invested\n",
      "5   FMCG      Ruchira Papers  Small Cap          185            12000\n",
      "7     IT  Persistent Systems  Small Cap          720            18000\n"
     ]
    }
   ],
   "source": [
    "# Just so that you feel comfortable, go through this line of code too\n",
    "\n",
    "grouped = mp.groupby('MarketCap')\n",
    "\n",
    "for name, group in grouped:  # We will learn 'for' loop in further sections. It is usually used for iterations\n",
    "    print(name)\n",
    "    print(group)"
   ]
  },
  {
   "cell_type": "markdown",
   "metadata": {},
   "source": [
    "### Select a group"
   ]
  },
  {
   "cell_type": "code",
   "execution_count": 69,
   "metadata": {},
   "outputs": [
    {
     "name": "stdout",
     "output_type": "stream",
     "text": [
      "        Sector    Company MarketCap  Share Price  Amount Invested\n",
      "2      Finance       DHFL   Mid Cap          610            50000\n",
      "3       Pharma  Divis Lab   Mid Cap         1123            23000\n",
      "4       Pharma      Lupin   Mid Cap          741            45000\n",
      "6         FMCG  Britianna   Mid Cap         5351            52000\n",
      "9  Real Estate        DLF   Mid Cap          217             3500\n"
     ]
    }
   ],
   "source": [
    "import pandas as pd\n",
    "\n",
    "my_portfolio = {'Sector': ['IT', 'FMCG', 'Finance', 'Pharma', 'Pharma',\n",
    "                           'FMCG', 'FMCG', 'IT', 'Finance', 'Real Estate'],\n",
    "\n",
    "                'Company':   ['Infosys', 'Dabur', 'DHFL', 'Divis Lab', 'Lupin',\n",
    "                              'Ruchira Papers', 'Britianna', 'Persistent Systems', 'Bajaj Finance', 'DLF'],\n",
    "\n",
    "                'MarketCap': ['Large Cap', 'Large Cap', 'Mid Cap', 'Mid Cap', 'Mid Cap',\n",
    "                              'Small Cap', 'Mid Cap', 'Small Cap', 'Large Cap', 'Mid Cap'],\n",
    "\n",
    "                'Share Price': [1120, 341, 610, 1123, 741, 185, 5351, 720, 1937, 217],\n",
    "\n",
    "                'Amount Invested': [24000, 16000, 50000, 23000, 45000, 12000, 52000, 18000, 5000, 3500]}\n",
    "\n",
    "mp = pd.DataFrame(my_portfolio)\n",
    "\n",
    "grouped = mp.groupby('MarketCap')\n",
    "\n",
    "print(grouped.get_group('Mid Cap'))"
   ]
  },
  {
   "cell_type": "markdown",
   "metadata": {},
   "source": [
    "### Aggregations"
   ]
  },
  {
   "cell_type": "code",
   "execution_count": 71,
   "metadata": {},
   "outputs": [
    {
     "name": "stdout",
     "output_type": "stream",
     "text": [
      "MarketCap\n",
      "Large Cap    15000\n",
      "Mid Cap      34700\n",
      "Small Cap    15000\n",
      "Name: Amount Invested, dtype: int64\n"
     ]
    }
   ],
   "source": [
    "import numpy as np\n",
    "\n",
    "grouped = mp.groupby('MarketCap')\n",
    "\n",
    "print(grouped['Amount Invested'].agg(np.mean))"
   ]
  },
  {
   "cell_type": "markdown",
   "metadata": {},
   "source": [
    "What does this mean?<br>\n",
    "<br>\n",
    "This means that on an average, we have invested Rs. 15000 per script in Large Cap, Rs. 34700 per script in Mid Cap and Rs. 15000 per script in Small Cap"
   ]
  },
  {
   "cell_type": "code",
   "execution_count": 72,
   "metadata": {},
   "outputs": [
    {
     "name": "stdout",
     "output_type": "stream",
     "text": [
      "           Sector  Company  Share Price  Amount Invested\n",
      "MarketCap                                               \n",
      "Large Cap       3        3            3                3\n",
      "Mid Cap         5        5            5                5\n",
      "Small Cap       2        2            2                2\n"
     ]
    }
   ],
   "source": [
    "grouped = mp.groupby('MarketCap')\n",
    "\n",
    "print(grouped.agg(np.size))"
   ]
  },
  {
   "cell_type": "markdown",
   "metadata": {},
   "source": [
    "What does this mean? <br>\n",
    "\n",
    "This just shows the size of the group."
   ]
  },
  {
   "cell_type": "code",
   "execution_count": 73,
   "metadata": {},
   "outputs": [
    {
     "name": "stdout",
     "output_type": "stream",
     "text": [
      "              sum   mean\n",
      "MarketCap               \n",
      "Large Cap   45000  15000\n",
      "Mid Cap    173500  34700\n",
      "Small Cap   30000  15000\n"
     ]
    }
   ],
   "source": [
    "# Applying multiple aggregation functions at once\n",
    "\n",
    "grouped = mp.groupby('MarketCap')\n",
    "\n",
    "print(grouped['Amount Invested'].agg([np.sum, np.mean]))"
   ]
  },
  {
   "cell_type": "markdown",
   "metadata": {},
   "source": [
    "What does this mean? <br>\n",
    "<br>\n",
    "This means that the 'total amount' invested in a particular sector is the 'sum' and 'average amount per script' invested in that sector is the 'mean' value."
   ]
  },
  {
   "cell_type": "code",
   "execution_count": 74,
   "metadata": {},
   "outputs": [
    {
     "name": "stdout",
     "output_type": "stream",
     "text": [
      "        Sector             Company  MarketCap  Share Price  Amount Invested\n",
      "0           IT             Infosys  Large Cap         1120            24000\n",
      "1         FMCG               Dabur  Large Cap          341            16000\n",
      "2      Finance                DHFL    Mid Cap          610            50000\n",
      "3       Pharma           Divis Lab    Mid Cap         1123            23000\n",
      "4       Pharma               Lupin    Mid Cap          741            45000\n",
      "5         FMCG      Ruchira Papers  Small Cap          185            12000\n",
      "6         FMCG           Britianna    Mid Cap         5351            52000\n",
      "7           IT  Persistent Systems  Small Cap          720            18000\n",
      "8      Finance       Bajaj Finance  Large Cap         1937             5000\n",
      "9  Real Estate                 DLF    Mid Cap          217             3500\n",
      "   Share Price  Amount Invested\n",
      "0    -0.015872         0.943456\n",
      "1    -0.991970         0.104828\n",
      "2    -0.471596         0.731522\n",
      "3    -0.229280        -0.559399\n",
      "4    -0.409718         0.492462\n",
      "5    -0.707107        -0.707107\n",
      "6     1.767825         0.827145\n",
      "7     0.707107         0.707107\n",
      "8     1.007841        -1.048285\n",
      "9    -0.657231        -1.491731\n"
     ]
    }
   ],
   "source": [
    "import pandas as pd\n",
    "\n",
    "my_portfolio = {'Sector': ['IT', 'FMCG', 'Finance', 'Pharma', 'Pharma',\n",
    "                           'FMCG', 'FMCG', 'IT', 'Finance', 'Real Estate'],\n",
    "\n",
    "                'Company':   ['Infosys', 'Dabur', 'DHFL', 'Divis Lab', 'Lupin',\n",
    "                              'Ruchira Papers', 'Britianna', 'Persistent Systems', 'Bajaj Finance', 'DLF'],\n",
    "\n",
    "                'MarketCap': ['Large Cap', 'Large Cap', 'Mid Cap', 'Mid Cap', 'Mid Cap',\n",
    "                              'Small Cap', 'Mid Cap', 'Small Cap', 'Large Cap', 'Mid Cap'],\n",
    "\n",
    "                'Share Price': [1120, 341, 610, 1123, 741, 185, 5351, 720, 1937, 217],\n",
    "\n",
    "                'Amount Invested': [24000, 16000, 50000, 23000, 45000, 12000, 52000, 18000, 5000, 3500]}\n",
    "\n",
    "mp = pd.DataFrame(my_portfolio)\n",
    "\n",
    "print(mp)\n",
    "\n",
    "grouped = mp.groupby('MarketCap')\n",
    "\n",
    "\n",
    "def z_score(x): return (x - x.mean()) / x.std()\n",
    "\n",
    "\n",
    "print(grouped.transform(z_score))"
   ]
  },
  {
   "cell_type": "markdown",
   "metadata": {},
   "source": [
    "### Filteration"
   ]
  },
  {
   "cell_type": "code",
   "execution_count": 75,
   "metadata": {},
   "outputs": [
    {
     "name": "stdout",
     "output_type": "stream",
     "text": [
      "        Sector        Company  MarketCap  Share Price  Amount Invested\n",
      "0           IT        Infosys  Large Cap         1120            24000\n",
      "1         FMCG          Dabur  Large Cap          341            16000\n",
      "2      Finance           DHFL    Mid Cap          610            50000\n",
      "3       Pharma      Divis Lab    Mid Cap         1123            23000\n",
      "4       Pharma          Lupin    Mid Cap          741            45000\n",
      "6         FMCG      Britianna    Mid Cap         5351            52000\n",
      "8      Finance  Bajaj Finance  Large Cap         1937             5000\n",
      "9  Real Estate            DLF    Mid Cap          217             3500\n"
     ]
    }
   ],
   "source": [
    "print(mp.groupby('MarketCap').filter(lambda x: len(x) >= 3))"
   ]
  },
  {
   "cell_type": "markdown",
   "metadata": {},
   "source": [
    "What does this mean?<br>\n",
    "<br>\n",
    "It will filter out the Groups that have less than 3 companies in that particular group. "
   ]
  },
  {
   "cell_type": "markdown",
   "metadata": {},
   "source": [
    "### Merging/Joining "
   ]
  },
  {
   "cell_type": "code",
   "execution_count": 76,
   "metadata": {},
   "outputs": [],
   "source": [
    "import pandas as pd\n",
    "\n",
    "\n",
    "left_df = pd.DataFrame({\n",
    "    'id': [1, 2, 3, 4, 5],\n",
    "    'Company': ['Infosys', 'SBI', 'Asian Paints', 'Maruti', 'Sun Pharma'],\n",
    "    'Sector': ['IT', 'Banks', 'Paints and Varnishes', 'Auto', 'Pharma']})\n",
    "\n",
    "right_df = pd.DataFrame(\n",
    "    {'id': [1, 2, 3, 4, 5],\n",
    "     'Company': ['NTPC', 'TCS', 'Lupin', 'ICICI', 'M&M'],\n",
    "     'Sector': ['Power', 'IT', 'Pharma', 'Banks', 'Auto']})"
   ]
  },
  {
   "cell_type": "code",
   "execution_count": 77,
   "metadata": {},
   "outputs": [
    {
     "data": {
      "text/html": [
       "<div>\n",
       "<style scoped>\n",
       "    .dataframe tbody tr th:only-of-type {\n",
       "        vertical-align: middle;\n",
       "    }\n",
       "\n",
       "    .dataframe tbody tr th {\n",
       "        vertical-align: top;\n",
       "    }\n",
       "\n",
       "    .dataframe thead th {\n",
       "        text-align: right;\n",
       "    }\n",
       "</style>\n",
       "<table border=\"1\" class=\"dataframe\">\n",
       "  <thead>\n",
       "    <tr style=\"text-align: right;\">\n",
       "      <th></th>\n",
       "      <th>id</th>\n",
       "      <th>Company</th>\n",
       "      <th>Sector</th>\n",
       "    </tr>\n",
       "  </thead>\n",
       "  <tbody>\n",
       "    <tr>\n",
       "      <th>0</th>\n",
       "      <td>1</td>\n",
       "      <td>Infosys</td>\n",
       "      <td>IT</td>\n",
       "    </tr>\n",
       "    <tr>\n",
       "      <th>1</th>\n",
       "      <td>2</td>\n",
       "      <td>SBI</td>\n",
       "      <td>Banks</td>\n",
       "    </tr>\n",
       "    <tr>\n",
       "      <th>2</th>\n",
       "      <td>3</td>\n",
       "      <td>Asian Paints</td>\n",
       "      <td>Paints and Varnishes</td>\n",
       "    </tr>\n",
       "    <tr>\n",
       "      <th>3</th>\n",
       "      <td>4</td>\n",
       "      <td>Maruti</td>\n",
       "      <td>Auto</td>\n",
       "    </tr>\n",
       "    <tr>\n",
       "      <th>4</th>\n",
       "      <td>5</td>\n",
       "      <td>Sun Pharma</td>\n",
       "      <td>Pharma</td>\n",
       "    </tr>\n",
       "  </tbody>\n",
       "</table>\n",
       "</div>"
      ],
      "text/plain": [
       "   id       Company                Sector\n",
       "0   1       Infosys                    IT\n",
       "1   2           SBI                 Banks\n",
       "2   3  Asian Paints  Paints and Varnishes\n",
       "3   4        Maruti                  Auto\n",
       "4   5    Sun Pharma                Pharma"
      ]
     },
     "execution_count": 77,
     "metadata": {},
     "output_type": "execute_result"
    }
   ],
   "source": [
    "left_df"
   ]
  },
  {
   "cell_type": "code",
   "execution_count": 78,
   "metadata": {},
   "outputs": [
    {
     "data": {
      "text/html": [
       "<div>\n",
       "<style scoped>\n",
       "    .dataframe tbody tr th:only-of-type {\n",
       "        vertical-align: middle;\n",
       "    }\n",
       "\n",
       "    .dataframe tbody tr th {\n",
       "        vertical-align: top;\n",
       "    }\n",
       "\n",
       "    .dataframe thead th {\n",
       "        text-align: right;\n",
       "    }\n",
       "</style>\n",
       "<table border=\"1\" class=\"dataframe\">\n",
       "  <thead>\n",
       "    <tr style=\"text-align: right;\">\n",
       "      <th></th>\n",
       "      <th>id</th>\n",
       "      <th>Company</th>\n",
       "      <th>Sector</th>\n",
       "    </tr>\n",
       "  </thead>\n",
       "  <tbody>\n",
       "    <tr>\n",
       "      <th>0</th>\n",
       "      <td>1</td>\n",
       "      <td>NTPC</td>\n",
       "      <td>Power</td>\n",
       "    </tr>\n",
       "    <tr>\n",
       "      <th>1</th>\n",
       "      <td>2</td>\n",
       "      <td>TCS</td>\n",
       "      <td>IT</td>\n",
       "    </tr>\n",
       "    <tr>\n",
       "      <th>2</th>\n",
       "      <td>3</td>\n",
       "      <td>Lupin</td>\n",
       "      <td>Pharma</td>\n",
       "    </tr>\n",
       "    <tr>\n",
       "      <th>3</th>\n",
       "      <td>4</td>\n",
       "      <td>ICICI</td>\n",
       "      <td>Banks</td>\n",
       "    </tr>\n",
       "    <tr>\n",
       "      <th>4</th>\n",
       "      <td>5</td>\n",
       "      <td>M&amp;M</td>\n",
       "      <td>Auto</td>\n",
       "    </tr>\n",
       "  </tbody>\n",
       "</table>\n",
       "</div>"
      ],
      "text/plain": [
       "   id Company  Sector\n",
       "0   1    NTPC   Power\n",
       "1   2     TCS      IT\n",
       "2   3   Lupin  Pharma\n",
       "3   4   ICICI   Banks\n",
       "4   5     M&M    Auto"
      ]
     },
     "execution_count": 78,
     "metadata": {},
     "output_type": "execute_result"
    }
   ],
   "source": [
    "right_df"
   ]
  },
  {
   "cell_type": "code",
   "execution_count": 79,
   "metadata": {},
   "outputs": [
    {
     "name": "stdout",
     "output_type": "stream",
     "text": [
      "   id     Company_x              Sector_x Company_y Sector_y\n",
      "0   1       Infosys                    IT      NTPC    Power\n",
      "1   2           SBI                 Banks       TCS       IT\n",
      "2   3  Asian Paints  Paints and Varnishes     Lupin   Pharma\n",
      "3   4        Maruti                  Auto     ICICI    Banks\n",
      "4   5    Sun Pharma                Pharma       M&M     Auto\n"
     ]
    }
   ],
   "source": [
    "# Merge 2 DFs on a key\n",
    "\n",
    "print(pd.merge(left_df, right_df, on='id'))"
   ]
  },
  {
   "cell_type": "code",
   "execution_count": 80,
   "metadata": {},
   "outputs": [
    {
     "name": "stdout",
     "output_type": "stream",
     "text": [
      "   id_x   Company_x  Sector  id_y Company_y\n",
      "0     1     Infosys      IT     2       TCS\n",
      "1     2         SBI   Banks     4     ICICI\n",
      "2     4      Maruti    Auto     5       M&M\n",
      "3     5  Sun Pharma  Pharma     3     Lupin\n"
     ]
    }
   ],
   "source": [
    "print(pd.merge(left_df, right_df, on='Sector'))"
   ]
  },
  {
   "cell_type": "code",
   "execution_count": 81,
   "metadata": {},
   "outputs": [
    {
     "name": "stdout",
     "output_type": "stream",
     "text": [
      "Empty DataFrame\n",
      "Columns: [id_x, Company, Sector, id_y]\n",
      "Index: []\n"
     ]
    }
   ],
   "source": [
    "# Merge 2 DFs on multiple keys\n",
    "\n",
    "print(pd.merge(left_df, right_df, on=['Sector', 'Company']))"
   ]
  },
  {
   "cell_type": "code",
   "execution_count": 82,
   "metadata": {},
   "outputs": [
    {
     "name": "stdout",
     "output_type": "stream",
     "text": [
      "   id_x     Company_x                Sector  id_y Company_y\n",
      "0     1       Infosys                    IT   2.0       TCS\n",
      "1     2           SBI                 Banks   4.0     ICICI\n",
      "2     3  Asian Paints  Paints and Varnishes   NaN       NaN\n",
      "3     4        Maruti                  Auto   5.0       M&M\n",
      "4     5    Sun Pharma                Pharma   3.0     Lupin\n"
     ]
    }
   ],
   "source": [
    "# Merge using 'how' argument\n",
    "\n",
    "# Left join\n",
    "\n",
    "print(pd.merge(left_df, right_df, on='Sector', how='left'))"
   ]
  },
  {
   "cell_type": "code",
   "execution_count": 83,
   "metadata": {},
   "outputs": [
    {
     "name": "stdout",
     "output_type": "stream",
     "text": [
      "   id_x   Company_x  Sector  id_y Company_y\n",
      "0   1.0     Infosys      IT     2       TCS\n",
      "1   2.0         SBI   Banks     4     ICICI\n",
      "2   4.0      Maruti    Auto     5       M&M\n",
      "3   5.0  Sun Pharma  Pharma     3     Lupin\n",
      "4   NaN         NaN   Power     1      NTPC\n"
     ]
    }
   ],
   "source": [
    "# Right join\n",
    "\n",
    "print(pd.merge(left_df, right_df, on='Sector', how='right'))"
   ]
  },
  {
   "cell_type": "code",
   "execution_count": 84,
   "metadata": {},
   "outputs": [
    {
     "name": "stdout",
     "output_type": "stream",
     "text": [
      "   id_x     Company_x                Sector  id_y Company_y\n",
      "0   1.0       Infosys                    IT   2.0       TCS\n",
      "1   2.0           SBI                 Banks   4.0     ICICI\n",
      "2   3.0  Asian Paints  Paints and Varnishes   NaN       NaN\n",
      "3   4.0        Maruti                  Auto   5.0       M&M\n",
      "4   5.0    Sun Pharma                Pharma   3.0     Lupin\n",
      "5   NaN           NaN                 Power   1.0      NTPC\n"
     ]
    }
   ],
   "source": [
    "# Outer join\n",
    "\n",
    "print(pd.merge(left_df, right_df, on='Sector', how='outer'))"
   ]
  },
  {
   "cell_type": "code",
   "execution_count": 85,
   "metadata": {},
   "outputs": [
    {
     "name": "stdout",
     "output_type": "stream",
     "text": [
      "   id_x   Company_x  Sector  id_y Company_y\n",
      "0     1     Infosys      IT     2       TCS\n",
      "1     2         SBI   Banks     4     ICICI\n",
      "2     4      Maruti    Auto     5       M&M\n",
      "3     5  Sun Pharma  Pharma     3     Lupin\n"
     ]
    }
   ],
   "source": [
    "# Inner join\n",
    "\n",
    "print(pd.merge(left_df, right_df, on='Sector', how='inner'))"
   ]
  },
  {
   "cell_type": "markdown",
   "metadata": {},
   "source": [
    "### Concatenation"
   ]
  },
  {
   "cell_type": "code",
   "execution_count": 86,
   "metadata": {},
   "outputs": [
    {
     "name": "stdout",
     "output_type": "stream",
     "text": [
      "   id       Company                Sector\n",
      "0   1       Infosys                    IT\n",
      "1   2           SBI                 Banks\n",
      "2   3  Asian Paints  Paints and Varnishes\n",
      "3   4        Maruti                  Auto\n",
      "4   5    Sun Pharma                Pharma\n",
      "0   1          NTPC                 Power\n",
      "1   2           TCS                    IT\n",
      "2   3         Lupin                Pharma\n",
      "3   4         ICICI                 Banks\n",
      "4   5           M&M                  Auto\n"
     ]
    }
   ],
   "source": [
    "print(pd.concat([left_df, right_df]))"
   ]
  },
  {
   "cell_type": "code",
   "execution_count": 87,
   "metadata": {},
   "outputs": [
    {
     "name": "stdout",
     "output_type": "stream",
     "text": [
      "     id       Company                Sector\n",
      "x 0   1       Infosys                    IT\n",
      "  1   2           SBI                 Banks\n",
      "  2   3  Asian Paints  Paints and Varnishes\n",
      "  3   4        Maruti                  Auto\n",
      "  4   5    Sun Pharma                Pharma\n",
      "y 0   1          NTPC                 Power\n",
      "  1   2           TCS                    IT\n",
      "  2   3         Lupin                Pharma\n",
      "  3   4         ICICI                 Banks\n",
      "  4   5           M&M                  Auto\n"
     ]
    }
   ],
   "source": [
    "print(pd.concat([left_df, right_df], keys=['x', 'y']))"
   ]
  },
  {
   "cell_type": "code",
   "execution_count": 88,
   "metadata": {},
   "outputs": [
    {
     "name": "stdout",
     "output_type": "stream",
     "text": [
      "   id       Company                Sector\n",
      "0   1       Infosys                    IT\n",
      "1   2           SBI                 Banks\n",
      "2   3  Asian Paints  Paints and Varnishes\n",
      "3   4        Maruti                  Auto\n",
      "4   5    Sun Pharma                Pharma\n",
      "5   1          NTPC                 Power\n",
      "6   2           TCS                    IT\n",
      "7   3         Lupin                Pharma\n",
      "8   4         ICICI                 Banks\n",
      "9   5           M&M                  Auto\n"
     ]
    }
   ],
   "source": [
    "print(pd.concat([left_df, right_df], keys=['x', 'y'], ignore_index=True))"
   ]
  },
  {
   "cell_type": "code",
   "execution_count": 89,
   "metadata": {},
   "outputs": [
    {
     "name": "stdout",
     "output_type": "stream",
     "text": [
      "   id       Company                Sector  id Company  Sector\n",
      "0   1       Infosys                    IT   1    NTPC   Power\n",
      "1   2           SBI                 Banks   2     TCS      IT\n",
      "2   3  Asian Paints  Paints and Varnishes   3   Lupin  Pharma\n",
      "3   4        Maruti                  Auto   4   ICICI   Banks\n",
      "4   5    Sun Pharma                Pharma   5     M&M    Auto\n"
     ]
    }
   ],
   "source": [
    "print(pd.concat([left_df, right_df], axis=1))"
   ]
  },
  {
   "cell_type": "code",
   "execution_count": 90,
   "metadata": {},
   "outputs": [
    {
     "name": "stdout",
     "output_type": "stream",
     "text": [
      "   id       Company                Sector\n",
      "0   1       Infosys                    IT\n",
      "1   2           SBI                 Banks\n",
      "2   3  Asian Paints  Paints and Varnishes\n",
      "3   4        Maruti                  Auto\n",
      "4   5    Sun Pharma                Pharma\n",
      "0   1          NTPC                 Power\n",
      "1   2           TCS                    IT\n",
      "2   3         Lupin                Pharma\n",
      "3   4         ICICI                 Banks\n",
      "4   5           M&M                  Auto\n"
     ]
    }
   ],
   "source": [
    "# Concatenating using append\n",
    "\n",
    "print(left_df.append(right_df))"
   ]
  },
  {
   "cell_type": "code",
   "execution_count": 91,
   "metadata": {},
   "outputs": [
    {
     "name": "stdout",
     "output_type": "stream",
     "text": [
      "   id       Company                Sector\n",
      "0   1       Infosys                    IT\n",
      "1   2           SBI                 Banks\n",
      "2   3  Asian Paints  Paints and Varnishes\n",
      "3   4        Maruti                  Auto\n",
      "4   5    Sun Pharma                Pharma\n",
      "0   1          NTPC                 Power\n",
      "1   2           TCS                    IT\n",
      "2   3         Lupin                Pharma\n",
      "3   4         ICICI                 Banks\n",
      "4   5           M&M                  Auto\n",
      "0   1       Infosys                    IT\n",
      "1   2           SBI                 Banks\n",
      "2   3  Asian Paints  Paints and Varnishes\n",
      "3   4        Maruti                  Auto\n",
      "4   5    Sun Pharma                Pharma\n",
      "0   1          NTPC                 Power\n",
      "1   2           TCS                    IT\n",
      "2   3         Lupin                Pharma\n",
      "3   4         ICICI                 Banks\n",
      "4   5           M&M                  Auto\n"
     ]
    }
   ],
   "source": [
    "print(left_df.append([right_df, left_df, right_df]))"
   ]
  },
  {
   "cell_type": "markdown",
   "metadata": {},
   "source": [
    "This is where we will end this section on Pandas.<br><br>"
   ]
  },
  {
   "cell_type": "markdown",
   "metadata": {},
   "source": []
  }
 ],
 "metadata": {
  "kernelspec": {
   "display_name": "Python 3",
   "language": "python",
   "name": "python3"
  },
  "language_info": {
   "codemirror_mode": {
    "name": "ipython",
    "version": 3
   },
   "file_extension": ".py",
   "mimetype": "text/x-python",
   "name": "python",
   "nbconvert_exporter": "python",
   "pygments_lexer": "ipython3",
   "version": "3.8.3"
  }
 },
 "nbformat": 4,
 "nbformat_minor": 4
}
