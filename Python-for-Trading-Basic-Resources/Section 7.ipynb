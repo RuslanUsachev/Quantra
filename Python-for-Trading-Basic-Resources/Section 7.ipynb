{
 "cells": [
  {
   "cell_type": "markdown",
   "metadata": {},
   "source": [
    "# NumPy\n",
    "\n",
    "NumPy is an acronym for \"Numeric Python\" or \"Numerical Python\".\n",
    "\n",
    "NumPy is the fundamental package for scientific computing with Python. It is an open source extension module for Python.\n",
    "\n",
    "1. A powerful N-dimensional array object\n",
    "2. Sophisticated (broadcasting) functions\n",
    "3. Useful linear algebra, Fourier transform, and random number capabilities\n",
    "4. Besides its obvious scientific uses, NumPy can also be used as an efficient multi-dimensional container of generic data \n",
    "5. Arbitrary data-types can be defined. This allows NumPy to seamlessly and speedily integrate with a wide variety of database\n",
    "\n",
    "\n",
    "\n",
    "1. Мощный объект N-мерного массива\n",
    "2. Сложные (вещательные) функции\n",
    "3. Полезные возможности линейной алгебры, преобразования Фурье и случайных чисел\n",
    "4. Помимо очевидного научного использования, NumPy также может использоваться в качестве эффективного многомерного контейнера общих данных\n",
    "5. Можно определить произвольные типы данных. Это позволяет NumPy легко и быстро интегрироваться с широким спектром баз данных\n",
    "\n",
    "Source: numpy.org"
   ]
  },
  {
   "cell_type": "markdown",
   "metadata": {},
   "source": [
    "# Notebook Contents\n",
    "\n",
    "##### <span style=\"color:green\">1. A simple numpy array example</span>\n",
    "##### <span style=\"color:green\">2. Functions to create an array</span>\n",
    "#####  <span style=\"color:green\">3. Dimensionality of an array</span>\n",
    "##### <span style=\"color:green\">4. The shape of an array</span>\n",
    "##### <span style=\"color:green\">5. Just for fun</span>"
   ]
  },
  {
   "cell_type": "markdown",
   "metadata": {},
   "source": [
    "## A simple numpy array example\n",
    "\n",
    "We will create two arrays SV and S_V \n",
    "- Using lists\n",
    "- Using tuples "
   ]
  },
  {
   "cell_type": "code",
   "execution_count": 2,
   "metadata": {},
   "outputs": [],
   "source": [
    "# We will first import the 'numpy' module\n",
    "import numpy as np"
   ]
  },
  {
   "cell_type": "code",
   "execution_count": 3,
   "metadata": {},
   "outputs": [],
   "source": [
    "stock_values = [20.3, 25.3, 22.7, 19.0, 18.5,\n",
    "                21.2, 24.5, 26.6, 23.2, 21.2]  # This is a list"
   ]
  },
  {
   "cell_type": "code",
   "execution_count": 4,
   "metadata": {},
   "outputs": [
    {
     "name": "stdout",
     "output_type": "stream",
     "text": [
      "[20.3 25.3 22.7 19.  18.5 21.2 24.5 26.6 23.2 21.2]\n"
     ]
    }
   ],
   "source": [
    "# Converting a list into an array\n",
    "\n",
    "SV = np.array(stock_values)\n",
    "\n",
    "print(SV)"
   ]
  },
  {
   "cell_type": "code",
   "execution_count": 5,
   "metadata": {},
   "outputs": [
    {
     "data": {
      "text/plain": [
       "numpy.ndarray"
      ]
     },
     "execution_count": 5,
     "metadata": {},
     "output_type": "execute_result"
    }
   ],
   "source": [
    "type(SV)  # Understanding the data type of 'SV'"
   ]
  },
  {
   "cell_type": "code",
   "execution_count": 6,
   "metadata": {},
   "outputs": [
    {
     "name": "stdout",
     "output_type": "stream",
     "text": [
      "[20.3 25.3 22.7 19.  18.5 21.2 24.5 26.6 23.2 21.2]\n"
     ]
    }
   ],
   "source": [
    "stockvalues = (20.3, 25.3, 22.7, 19.0, 18.5, 21.2, 24.5,\n",
    "               26.6, 23.2, 21.2)  # This is a tuple\n",
    "\n",
    "# Converting tuple into an array\n",
    "S_V = np.array(stockvalues)\n",
    "print(S_V)"
   ]
  },
  {
   "cell_type": "code",
   "execution_count": 7,
   "metadata": {},
   "outputs": [
    {
     "data": {
      "text/plain": [
       "numpy.ndarray"
      ]
     },
     "execution_count": 7,
     "metadata": {},
     "output_type": "execute_result"
    }
   ],
   "source": [
    "type(S_V)  # Understanding the data type of 'S_V'"
   ]
  },
  {
   "cell_type": "markdown",
   "metadata": {},
   "source": [
    "## Functions to create arrays quickly \n",
    "\n",
    "The above-discussed methods to create arrays require us to manually input the data points. To automatically create data points for an array we use these functions: \n",
    "- **arange**\n",
    "- **linspace**\n",
    "\n",
    "Both these functions create data points lying between two endpoints, starting and ending, so that they are evenly distributed. For example, we can create 50 data points lying between 1 and 10. \\\n",
    "\n",
    "\n",
    "\n",
    "## Функции для быстрого создания массивов\n",
    "\n",
    "Описанные выше методы создания массивов требуют, чтобы мы вручную вводили точки данных. Для автоматического создания точек данных для массива мы используем следующие функции:\n",
    "- **арандж**\n",
    "- **linspace**\n",
    "\n",
    "Обе эти функции создают точки данных, расположенные между двумя конечными точками, начиная и заканчивая, чтобы они были равномерно распределены. Например, мы можем создать 50 точек данных, лежащих между 1 и 10."
   ]
  },
  {
   "cell_type": "markdown",
   "metadata": {},
   "source": [
    "### arange\n",
    "\n",
    "Numpy.arange returns evenly spaced arrays by using a 'given' step or interval by the user.\n",
    "\n",
    "Numpy.arange возвращает равномерно расположенные массивы, используя \"заданный\" пользователем шаг или интервал."
   ]
  },
  {
   "cell_type": "markdown",
   "metadata": {},
   "source": [
    "Syntax:\n",
    "####  arange ([start], [stop], [step], [dtype=None])\n",
    "\n",
    "The 'start and the 'stop' determines the range of the array. 'Step' determines the spacing between two adjacent values. The datatype of the output array can be determined by setting the parameter 'dtype'. "
   ]
  },
  {
   "cell_type": "code",
   "execution_count": 9,
   "metadata": {},
   "outputs": [
    {
     "name": "stdout",
     "output_type": "stream",
     "text": [
      "[0 1 2 3 4 5 6 7 8 9]\n"
     ]
    }
   ],
   "source": [
    "# If the start parameter is not given, it will be set to 0\n",
    "\n",
    "# '10' is the stop parameter\n",
    "\n",
    "# The default interval for a step is '1'\n",
    "\n",
    "# If the 'dtype' is not given, then it will be automatically inferred from the other input arguments\n",
    "\n",
    "a = np.arange(10)  # Syntax a = np.arange (0,10,1,None)\n",
    "print(a)"
   ]
  },
  {
   "cell_type": "code",
   "execution_count": 10,
   "metadata": {},
   "outputs": [
    {
     "name": "stdout",
     "output_type": "stream",
     "text": [
      "[ 1  2  3  4  5  6  7  8  9 10 11 12 13 14]\n"
     ]
    }
   ],
   "source": [
    "# Here the range is '1 to 15'. It will include 1 and exclude 15\n",
    "\n",
    "b = np.arange(1, 15)\n",
    "print(b)"
   ]
  },
  {
   "cell_type": "code",
   "execution_count": 11,
   "metadata": {},
   "outputs": [
    {
     "name": "stdout",
     "output_type": "stream",
     "text": [
      "[ 0  2  4  6  8 10 12 14 16 18 20]\n"
     ]
    }
   ],
   "source": [
    "# We have changed the 'step' or spacing between two adjacent values, from a default 1, to a user given value of 2\n",
    "\n",
    "c = np.arange(0, 21, 2)\n",
    "print(c)"
   ]
  },
  {
   "cell_type": "code",
   "execution_count": 12,
   "metadata": {},
   "outputs": [
    {
     "name": "stdout",
     "output_type": "stream",
     "text": [
      "[ 1  3  5  7  9 11 13 15 17 19 21]\n"
     ]
    }
   ],
   "source": [
    "# Even though our input arguments are of the datatype 'float', it will return an 'int' array\n",
    "# Since we have set the 'dtype' parameter as 'int'\n",
    "\n",
    "d = np.arange(1.3, 23.3, 2.1, int)\n",
    "print(d)"
   ]
  },
  {
   "cell_type": "code",
   "execution_count": 13,
   "metadata": {},
   "outputs": [
    {
     "name": "stdout",
     "output_type": "stream",
     "text": [
      "[ 1.4  2.4  3.4  4.4  5.4  6.4  7.4  8.4  9.4 10.4 11.4 12.4 13.4 14.4\n",
      " 15.4 16.4 17.4 18.4 19.4 20.4 21.4 22.4 23.4]\n"
     ]
    }
   ],
   "source": [
    "# You may now be able to understand this example, all by yourself\n",
    "\n",
    "e = np.arange(1.4, 23.6, 1, float)\n",
    "print(e)"
   ]
  },
  {
   "cell_type": "markdown",
   "metadata": {},
   "source": [
    "### linspace\n",
    "\n",
    "Numpy.linspace also returns an evenly spaced array but needs the 'number of array elements' as an input from the user and creates the distance automatically.\n",
    "\n",
    "Numpy.linspace также возвращает равномерно распределенный массив, но нуждается в \"количестве элементов массива\" в качестве входных данных от пользователя и автоматически создает расстояние."
   ]
  },
  {
   "cell_type": "markdown",
   "metadata": {},
   "source": [
    "Syntax:\n",
    "#### linspace(start, stop, num=50, endpoint=True, retstep=False)\n",
    "\n",
    "The 'start and the 'stop' determines the range of the array. 'num' determines the number of elements in the array. If the 'endpoint' is True, it will include the stop value and if it is false, the array will exclude the stop value.\n",
    "\n",
    "If the optional parameter 'retstep' is set, the function will return the value of the spacing between adjacent values.\n",
    "\n",
    "\n",
    "__\"Старт\" и \"стоп\"__ определяют диапазон массива. \"num\" определяет количество элементов в массиве. Если \"конечная точка\" имеет значение True, она будет включать значение stop, а если значение false, массив исключит значение stop.\n",
    "\n",
    "Если установлен необязательный параметр \"retstep\", функция вернет значение расстояния между соседними значениями."
   ]
  },
  {
   "cell_type": "code",
   "execution_count": 14,
   "metadata": {},
   "outputs": [
    {
     "name": "stdout",
     "output_type": "stream",
     "text": [
      "[ 1.          1.18367347  1.36734694  1.55102041  1.73469388  1.91836735\n",
      "  2.10204082  2.28571429  2.46938776  2.65306122  2.83673469  3.02040816\n",
      "  3.20408163  3.3877551   3.57142857  3.75510204  3.93877551  4.12244898\n",
      "  4.30612245  4.48979592  4.67346939  4.85714286  5.04081633  5.2244898\n",
      "  5.40816327  5.59183673  5.7755102   5.95918367  6.14285714  6.32653061\n",
      "  6.51020408  6.69387755  6.87755102  7.06122449  7.24489796  7.42857143\n",
      "  7.6122449   7.79591837  7.97959184  8.16326531  8.34693878  8.53061224\n",
      "  8.71428571  8.89795918  9.08163265  9.26530612  9.44897959  9.63265306\n",
      "  9.81632653 10.        ]\n"
     ]
    }
   ],
   "source": [
    "# By default, since the 'num' is not given, it will divide the range into 50 individual array elements\n",
    "\n",
    "# By default, it even includes the 'endpoint' of the range, since it is set to True by default\n",
    "\n",
    "a = np.linspace(1, 10)\n",
    "print(a)"
   ]
  },
  {
   "cell_type": "code",
   "execution_count": 15,
   "metadata": {},
   "outputs": [
    {
     "name": "stdout",
     "output_type": "stream",
     "text": [
      "[ 1.          2.28571429  3.57142857  4.85714286  6.14285714  7.42857143\n",
      "  8.71428571 10.        ]\n"
     ]
    }
   ],
   "source": [
    "# This time around, we have specified that we want the range of 1 - 10 to be divided into 8 individual array elements\n",
    "\n",
    "b = np.linspace(1, 10, 8)\n",
    "print(b)"
   ]
  },
  {
   "cell_type": "code",
   "execution_count": 16,
   "metadata": {},
   "outputs": [
    {
     "name": "stdout",
     "output_type": "stream",
     "text": [
      "[1.    2.125 3.25  4.375 5.5   6.625 7.75  8.875]\n"
     ]
    }
   ],
   "source": [
    "# In this line, we have specified not to include the end point of the range\n",
    "\n",
    "c = np.linspace(1, 10, 8, False)\n",
    "print(c)"
   ]
  },
  {
   "cell_type": "code",
   "execution_count": 17,
   "metadata": {},
   "outputs": [
    {
     "name": "stdout",
     "output_type": "stream",
     "text": [
      "(array([ 1.        ,  2.28571429,  3.57142857,  4.85714286,  6.14285714,\n",
      "        7.42857143,  8.71428571, 10.        ]), 1.2857142857142858)\n"
     ]
    }
   ],
   "source": [
    "# In this line, we have specified 'retstep' as true, the function will return the value of the spacing between adjacent values\n",
    "\n",
    "d = np.linspace(1, 10, 8, True, True)\n",
    "print(d)"
   ]
  },
  {
   "cell_type": "code",
   "execution_count": 18,
   "metadata": {},
   "outputs": [
    {
     "name": "stdout",
     "output_type": "stream",
     "text": [
      "(array([ 1.,  2.,  3.,  4.,  5.,  6.,  7.,  8.,  9., 10.]), 1.0)\n"
     ]
    }
   ],
   "source": [
    "# This line should be self-explanatory\n",
    "\n",
    "e = np.linspace(1, 10, 10, True, True)\n",
    "print(e)"
   ]
  },
  {
   "cell_type": "markdown",
   "metadata": {},
   "source": [
    "## Dimensionality of arrays"
   ]
  },
  {
   "cell_type": "markdown",
   "metadata": {},
   "source": [
    "### Zero dimensional arrays or scalars\n",
    "\n",
    "What we encountered in the above examples are all 'one dimensional arrays', also known as 'vectors'. 'Scalars' are zero-dimensional arrays, with a maximum of one element in it. \n",
    "\n",
    "Все, с чем мы столкнулись в приведенных выше примерах, - это \"одномерные массивы\", также известные как \"векторы\". \"Скаляры\"-это массивы нулевой размерности, в которых содержится максимум один элемент."
   ]
  },
  {
   "cell_type": "code",
   "execution_count": 19,
   "metadata": {},
   "outputs": [
    {
     "name": "stdout",
     "output_type": "stream",
     "text": [
      "a: 50\n"
     ]
    }
   ],
   "source": [
    "# Creating a 'scalar'\n",
    "\n",
    "a = np.array(50)  # Should have only 1 element, at the maximum!\n",
    "\n",
    "print(\"a:\", a)"
   ]
  },
  {
   "cell_type": "code",
   "execution_count": 20,
   "metadata": {},
   "outputs": [
    {
     "name": "stdout",
     "output_type": "stream",
     "text": [
      "The dimension of array 'a' is 0\n"
     ]
    }
   ],
   "source": [
    "# To print the dimension of any array, we use 'np.ndim' method\n",
    "\n",
    "print(\"The dimension of array 'a' is\", np.ndim(a))"
   ]
  },
  {
   "cell_type": "code",
   "execution_count": 21,
   "metadata": {},
   "outputs": [
    {
     "name": "stdout",
     "output_type": "stream",
     "text": [
      "The datatype of array 'a' is int32\n"
     ]
    }
   ],
   "source": [
    "# To know the datatype of the array\n",
    "\n",
    "print(\"The datatype of array 'a' is\", a.dtype)"
   ]
  },
  {
   "cell_type": "code",
   "execution_count": 22,
   "metadata": {},
   "outputs": [
    {
     "name": "stdout",
     "output_type": "stream",
     "text": [
      "one_element 0 <U11\n"
     ]
    }
   ],
   "source": [
    "# Combining it all together\n",
    "\n",
    "scalar_array = np.array(\"one_element\")\n",
    "print(scalar_array, np.ndim(scalar_array), scalar_array.dtype)"
   ]
  },
  {
   "cell_type": "markdown",
   "metadata": {},
   "source": [
    "## One-dimensional arrays\n",
    "\n",
    "One dimensional arrays, are arrays with minimum of two elements in it in a single row.\n",
    "\n",
    "Одномерные массивы-это массивы с минимум двумя элементами в нем в одной строке."
   ]
  },
  {
   "cell_type": "code",
   "execution_count": 23,
   "metadata": {},
   "outputs": [
    {
     "name": "stdout",
     "output_type": "stream",
     "text": [
      "['one_element' 'second_element'] 1 <U14\n"
     ]
    }
   ],
   "source": [
    "one_d_array = np.array([\"one_element\", \"second_element\"])\n",
    "\n",
    "print(one_d_array, np.ndim(one_d_array), one_d_array.dtype)"
   ]
  },
  {
   "cell_type": "code",
   "execution_count": 24,
   "metadata": {},
   "outputs": [
    {
     "name": "stdout",
     "output_type": "stream",
     "text": [
      "a:  [ 1  1  2  3  5  8 13 21]\n",
      "b:  [ 4.4   6.6   8.8  10.1  12.12]\n",
      "Type of 'a':  int32\n",
      "Type of 'b':  float64\n",
      "Dimension of 'a': 1\n",
      "Dimension of 'b': 1\n"
     ]
    }
   ],
   "source": [
    "# We have already worked with one-dimensional arrays. Let us revise what we did so far!\n",
    "\n",
    "a = np.array([1, 1, 2, 3, 5, 8, 13, 21])  # Fibonnacci series\n",
    "b = np.array([4.4, 6.6, 8.8, 10.1, 12.12])\n",
    "\n",
    "print(\"a: \", a)\n",
    "print(\"b: \", b)\n",
    "\n",
    "print(\"Type of 'a': \", a.dtype)\n",
    "print(\"Type of 'b': \", b.dtype)\n",
    "\n",
    "print(\"Dimension of 'a':\", np.ndim(a))\n",
    "print(\"Dimension of 'b':\", np.ndim(b))"
   ]
  },
  {
   "cell_type": "markdown",
   "metadata": {},
   "source": [
    "## Two-dimensional arrays\n",
    "\n",
    "Two-dimensional arrays have more than one row and more than one column.\n",
    "\n",
    "Двумерные массивы имеют более одной строки и более одного столбца."
   ]
  },
  {
   "cell_type": "code",
   "execution_count": 25,
   "metadata": {},
   "outputs": [
    {
     "name": "stdout",
     "output_type": "stream",
     "text": [
      "[['row1col1' 'row1col2' 'row1col3']\n",
      " ['row2col1' 'row2col2' 'row2col3']]\n",
      "Dimension of 'two_d_array' : 2\n"
     ]
    }
   ],
   "source": [
    "# The elements of the 2D arrays are stored as 'rows' and 'columns'\n",
    "two_d_array = np.array([[\"row1col1\", \"row1col2\", \"row1col3\"],\n",
    "                        [\"row2col1\", \"row2col2\", \"row2col3\"]])\n",
    "\n",
    "print(two_d_array)\n",
    "\n",
    "print(\"Dimension of 'two_d_array' :\", np.ndim(two_d_array))"
   ]
  },
  {
   "cell_type": "code",
   "execution_count": 26,
   "metadata": {},
   "outputs": [
    {
     "name": "stdout",
     "output_type": "stream",
     "text": [
      "[['Name' 'Year' 'Marks']\n",
      " ['Bela' '2014' '78.2']\n",
      " ['Joe' '1987' '59.1']\n",
      " ['Sugar' '1990' '70']]\n",
      "Dimension of 'studentdata' : 2\n"
     ]
    }
   ],
   "source": [
    "# Another example of a data table!\n",
    "# You can see how working with numpy arrays will help us working with dataframes further on!\n",
    "studentdata = np.array([[\"Name\", \"Year\", \"Marks\"],\n",
    "                        [\"Bela\", 2014, 78.2],\n",
    "                        [\"Joe\", 1987, 59.1],\n",
    "                        [\"Sugar\", 1990, 70]])\n",
    "\n",
    "print(studentdata)\n",
    "\n",
    "print(\"Dimension of 'studentdata' :\", np.ndim(studentdata))"
   ]
  },
  {
   "cell_type": "markdown",
   "metadata": {},
   "source": [
    "Even though Year and Marks are not string type data, here by default they are considered as string type data. So we can't perform any mathematical operations on these values. In order to perform any calculations, we need to convert the data into integers or float type data.\n",
    "\n",
    "That is where dataframe, which we will study in the next section is very useful. It is a powerful 2-d data structure that can convert the data type with ease and help us perform various operations. \n",
    "\n",
    "For example:\n",
    "\n",
    "\n",
    "Несмотря на то, что Год и отметки не являются данными строкового типа, здесь по умолчанию они рассматриваются как данные строкового типа. Поэтому мы не можем выполнять какие-либо математические операции с этими значениями. Чтобы выполнить какие-либо вычисления, нам нужно преобразовать данные в целые числа или данные типа float.\n",
    "\n",
    "Именно здесь очень полезен фрейм данных, который мы изучим в следующем разделе. Это мощная 2-d структура данных, которая может легко преобразовать тип данных и помочь нам выполнять различные операции.\n",
    "\n",
    "Например:"
   ]
  },
  {
   "cell_type": "code",
   "execution_count": 27,
   "metadata": {},
   "outputs": [
    {
     "name": "stdout",
     "output_type": "stream",
     "text": [
      "    Name  Year  Marks\n",
      "0   Bela  2014   78.2\n",
      "1    Joe  1987   59.1\n",
      "2  Sugar  1990   70.0\n",
      "69.10000000000001\n"
     ]
    }
   ],
   "source": [
    "# Example when we save this data as a dataframe and not as a numpy array.\n",
    "import numpy as np\n",
    "import pandas as pd\n",
    "\n",
    "studentdata1 = {\n",
    "    \"Name\": [\"Bela\", \"Joe\", \"Sugar\"],\n",
    "    \"Year\": [2014, 1987, 1990],\n",
    "    \"Marks\": [78.2, 59.1, 70]\n",
    "}\n",
    "\n",
    "studentdata1_df = pd.DataFrame(studentdata1)\n",
    "print(studentdata1_df)\n",
    "print(np.mean(studentdata1_df.Marks))\n",
    "\n",
    "# Now we are able to find average of Marks of these three students."
   ]
  },
  {
   "cell_type": "code",
   "execution_count": 28,
   "metadata": {},
   "outputs": [
    {
     "name": "stdout",
     "output_type": "stream",
     "text": [
      "[[ 1.8   2.4   5.3   8.2 ]\n",
      " [ 7.8   5.1   9.2  17.13]\n",
      " [ 6.1  -2.13 -6.3  -9.1 ]]\n",
      "Dimension of 'a' : 2\n"
     ]
    }
   ],
   "source": [
    "# The elements of the 2D arrays are stored as 'rows' and 'columns'\n",
    "a = np.array([[1.8, 2.4, 5.3, 8.2],\n",
    "              [7.8, 5.1, 9.2, 17.13],\n",
    "              [6.1, -2.13, -6.3, -9.1]])\n",
    "print(a)\n",
    "print(\"Dimension of 'a' :\", np.ndim(a))\n",
    "\n",
    "# In this array we have 3 rows and 4 columns"
   ]
  },
  {
   "cell_type": "code",
   "execution_count": 29,
   "metadata": {},
   "outputs": [
    {
     "name": "stdout",
     "output_type": "stream",
     "text": [
      "[[[111 222]\n",
      "  [333 444]]\n",
      "\n",
      " [[121 212]\n",
      "  [221 222]]\n",
      "\n",
      " [[555 560]\n",
      "  [565 570]]]\n",
      "Dimension of 'b' : 3\n"
     ]
    }
   ],
   "source": [
    "# A 3D array is an 'array of arrays'. Have a quick look at it\n",
    "b = np.array([[[111, 222], [333, 444]],\n",
    "              [[121, 212], [221, 222]],\n",
    "              [[555, 560], [565, 570]]])\n",
    "\n",
    "print(b)\n",
    "print(\"Dimension of 'b' :\", np.ndim(b))\n",
    "\n",
    "# In this array, there are three, 2-D arrays"
   ]
  },
  {
   "cell_type": "markdown",
   "metadata": {},
   "source": [
    "## The shape of an array\n",
    "\n",
    "**What it is:** Ths shape of an array returns the number of rows (axis = 0) and the number of columns (axis = 1)\n",
    "\n",
    "**Why is it important to understand:** It helps you to understand the number of rows and columns in an array \n",
    "\n",
    "**How is it different from Dimensions:** It is not that different from dimensions, just that functions called are different. \n",
    "\n",
    "\n",
    "__Форма массива¶__\n",
    "\n",
    "Что это такое: Форма массива возвращает количество строк (ось = 0) и количество столбцов (ось = 1)\n",
    "\n",
    "Почему это важно понять: Это помогает вам понять количество строк и столбцов в массиве\n",
    "\n",
    "Чем он отличается от измерений: Он не так уж отличается от измерений, просто вызываемые функции отличаются."
   ]
  },
  {
   "cell_type": "code",
   "execution_count": 44,
   "metadata": {},
   "outputs": [
    {
     "name": "stdout",
     "output_type": "stream",
     "text": [
      "[[11 22 33]\n",
      " [12 24 36]\n",
      " [13 26 39]\n",
      " [14 28 42]\n",
      " [15 30 45]\n",
      " [16 32 48]]\n"
     ]
    }
   ],
   "source": [
    "a = np.array([[11, 22, 33],\n",
    "              [12, 24, 36],\n",
    "              [13, 26, 39],\n",
    "              [14, 28, 42],\n",
    "              [15, 30, 45],\n",
    "              [16, 32, 48]])\n",
    "\n",
    "print(a)"
   ]
  },
  {
   "cell_type": "code",
   "execution_count": 45,
   "metadata": {},
   "outputs": [
    {
     "name": "stdout",
     "output_type": "stream",
     "text": [
      "(6, 3)\n"
     ]
    }
   ],
   "source": [
    "print(a.shape)"
   ]
  },
  {
   "cell_type": "code",
   "execution_count": 46,
   "metadata": {},
   "outputs": [
    {
     "name": "stdout",
     "output_type": "stream",
     "text": [
      "[[11 22]\n",
      " [33 12]\n",
      " [24 36]\n",
      " [13 26]\n",
      " [39 14]\n",
      " [28 42]\n",
      " [15 30]\n",
      " [45 16]\n",
      " [32 48]]\n"
     ]
    }
   ],
   "source": [
    "a.shape = (9, 2)\n",
    "print(a)"
   ]
  },
  {
   "cell_type": "code",
   "execution_count": null,
   "metadata": {},
   "outputs": [],
   "source": []
  },
  {
   "cell_type": "markdown",
   "metadata": {},
   "source": [
    "We will continue from where we left in the previous notebook.\n",
    "\n",
    "# Notebook Contents\n",
    "\n",
    "##### <span style=\"color:green\">1. Indexing</span>\n",
    "##### <span style=\"color:green\">2. Slicing</span>\n",
    "#####  <span style=\"color:green\">3. Arrays of 1s and 0s</span>\n",
    "##### <span style=\"color:green\">4. Identity function</span>"
   ]
  },
  {
   "cell_type": "markdown",
   "metadata": {},
   "source": [
    "## Indexing"
   ]
  },
  {
   "cell_type": "markdown",
   "metadata": {},
   "source": [
    "We can access the elements of an array using its **index**. The index gives the location of an element of an array. \n",
    "\n",
    "- The first index is '0'.\n",
    "- The second index is '1' and so on.\n",
    "- The second last index is '-2'.\n",
    "- The last index is '-1'.\n",
    "\n",
    "### Indexing in a one-dimensional array\n",
    "\n",
    "A one-dimensional array is indexed just like a list.\n",
    "\n",
    "\n",
    "_Одномерный массив индексируется так же, как и список._"
   ]
  },
  {
   "cell_type": "code",
   "execution_count": 86,
   "metadata": {},
   "outputs": [
    {
     "name": "stdout",
     "output_type": "stream",
     "text": [
      "10\n"
     ]
    }
   ],
   "source": [
    "import numpy as np\n",
    "\n",
    "# One dimensional array\n",
    "A = np.array([10, 21, 32, 43, 54, 65, 76, 87])\n",
    "\n",
    "# Print the first element of A\n",
    "print(A[0])\n",
    "\n",
    "# Remember, in python, counting starts from 0 and not from 1"
   ]
  },
  {
   "cell_type": "code",
   "execution_count": 48,
   "metadata": {},
   "outputs": [
    {
     "name": "stdout",
     "output_type": "stream",
     "text": [
      "87\n"
     ]
    }
   ],
   "source": [
    "# Print the last element of A\n",
    "print(A[-1])"
   ]
  },
  {
   "cell_type": "code",
   "execution_count": 49,
   "metadata": {},
   "outputs": [
    {
     "name": "stdout",
     "output_type": "stream",
     "text": [
      "32\n"
     ]
    }
   ],
   "source": [
    "# Print the third element of A\n",
    "print(A[2])"
   ]
  },
  {
   "cell_type": "code",
   "execution_count": 50,
   "metadata": {},
   "outputs": [
    {
     "name": "stdout",
     "output_type": "stream",
     "text": [
      "76\n"
     ]
    }
   ],
   "source": [
    "# Print the second last element\n",
    "print(A[-2])"
   ]
  },
  {
   "cell_type": "markdown",
   "metadata": {},
   "source": [
    "### Indexing in a two-dimensional array\n",
    "\n",
    "A 2-Dimensional Array consists of rows and columns, so you need to specify both rows and columns, to locate an element. "
   ]
  },
  {
   "cell_type": "code",
   "execution_count": 51,
   "metadata": {},
   "outputs": [
    {
     "name": "stdout",
     "output_type": "stream",
     "text": [
      "[[ 1  2  3]\n",
      " [ 4  5  6]\n",
      " [ 7  8  9]\n",
      " [10 11 12]]\n"
     ]
    }
   ],
   "source": [
    "# Create a 2-Dimensional Array\n",
    "A = np.array([[1, 2, 3], [4, 5, 6], [7, 8, 9], [10, 11, 12]])\n",
    "print(A)\n",
    "\n",
    "# The shape of the array is : 4 rows and 3 columns"
   ]
  },
  {
   "cell_type": "code",
   "execution_count": 52,
   "metadata": {},
   "outputs": [
    {
     "name": "stdout",
     "output_type": "stream",
     "text": [
      "1\n"
     ]
    }
   ],
   "source": [
    "# Print the element of Row 1, column 1\n",
    "print(A[0][0])"
   ]
  },
  {
   "cell_type": "code",
   "execution_count": 53,
   "metadata": {},
   "outputs": [
    {
     "name": "stdout",
     "output_type": "stream",
     "text": [
      "4\n"
     ]
    }
   ],
   "source": [
    "# Print the element of row 2, column 1\n",
    "print(A[1][0])"
   ]
  },
  {
   "cell_type": "code",
   "execution_count": 54,
   "metadata": {},
   "outputs": [
    {
     "name": "stdout",
     "output_type": "stream",
     "text": [
      "12\n"
     ]
    }
   ],
   "source": [
    "# Print the element of row 4, column 3\n",
    "print(A[3][2])"
   ]
  },
  {
   "cell_type": "code",
   "execution_count": 55,
   "metadata": {},
   "outputs": [
    {
     "name": "stdout",
     "output_type": "stream",
     "text": [
      "8\n"
     ]
    }
   ],
   "source": [
    "# Another way to print the element of row 3, column 2\n",
    "print(A[2, 1])"
   ]
  },
  {
   "cell_type": "code",
   "execution_count": 56,
   "metadata": {},
   "outputs": [
    {
     "ename": "IndexError",
     "evalue": "index 4 is out of bounds for axis 0 with size 4",
     "output_type": "error",
     "traceback": [
      "\u001b[1;31m---------------------------------------------------------------------------\u001b[0m",
      "\u001b[1;31mIndexError\u001b[0m                                Traceback (most recent call last)",
      "\u001b[1;32m<ipython-input-56-75230d49c559>\u001b[0m in \u001b[0;36m<module>\u001b[1;34m\u001b[0m\n\u001b[0;32m      2\u001b[0m \u001b[1;33m\u001b[0m\u001b[0m\n\u001b[0;32m      3\u001b[0m \u001b[1;31m# Can you guess what will be the output of these print statement?\u001b[0m\u001b[1;33m\u001b[0m\u001b[1;33m\u001b[0m\u001b[1;33m\u001b[0m\u001b[0m\n\u001b[1;32m----> 4\u001b[1;33m \u001b[0mprint\u001b[0m\u001b[1;33m(\u001b[0m\u001b[0mA\u001b[0m\u001b[1;33m[\u001b[0m\u001b[1;36m4\u001b[0m\u001b[1;33m,\u001b[0m \u001b[1;36m3\u001b[0m\u001b[1;33m]\u001b[0m\u001b[1;33m)\u001b[0m\u001b[1;33m\u001b[0m\u001b[1;33m\u001b[0m\u001b[0m\n\u001b[0m",
      "\u001b[1;31mIndexError\u001b[0m: index 4 is out of bounds for axis 0 with size 4"
     ]
    }
   ],
   "source": [
    "### Try on your own\n",
    "\n",
    "# Can you guess what will be the output of these print statement?\n",
    "print(A[4, 3])"
   ]
  },
  {
   "cell_type": "markdown",
   "metadata": {},
   "source": [
    "## Slicing \n",
    "\n",
    "When you want to select a certain section of an array, then you slice it. It could be a bunch of elements in a one-dimensional array and/or entire rows and columns in a two-dimensional array. \n",
    "\n",
    "### Slicing a one-dimensional array\n",
    "\n",
    "You can slice a one-dimensional array in various ways:\n",
    "- Print first few elements\n",
    "- Print last few elements\n",
    "- Print middle elements\n",
    "- Print elements after a certain step. \n",
    "\n",
    "Syntax: \n",
    "####  array_name [start: stop: step]\n"
   ]
  },
  {
   "cell_type": "code",
   "execution_count": 57,
   "metadata": {},
   "outputs": [
    {
     "name": "stdout",
     "output_type": "stream",
     "text": [
      "[1 2 3 4]\n",
      "[7 8]\n",
      "[3 4 5]\n",
      "[1 2 3 4 5 6 7 8]\n"
     ]
    }
   ],
   "source": [
    "# Consider a one-dimensional array A\n",
    "A = np.array([1, 2, 3, 4, 5, 6, 7, 8])\n",
    "\n",
    "# By default, the step = 1\n",
    "\n",
    "# To print the first 4 elements (i.e. indices 0, 1, 2, 3, those before index 4)\n",
    "print(A[:4])\n",
    "\n",
    "# To print the elements from the index = 6 till the end\n",
    "print(A[6:])\n",
    "\n",
    "# To print the elements starting from index=2 and it will stop BEFORE index=5\n",
    "\n",
    "print(A[2:5])\n",
    "\n",
    "# To print all the elements of the array\n",
    "print(A[:])"
   ]
  },
  {
   "cell_type": "code",
   "execution_count": 58,
   "metadata": {},
   "outputs": [
    {
     "name": "stdout",
     "output_type": "stream",
     "text": [
      "[1 3 5 7]\n"
     ]
    }
   ],
   "source": [
    "# Introducing step = 2\n",
    "\n",
    "# This will print alternate index elements of the entire array, starting from index = 0\n",
    "print(A[::2])"
   ]
  },
  {
   "cell_type": "code",
   "execution_count": 59,
   "metadata": {},
   "outputs": [
    {
     "name": "stdout",
     "output_type": "stream",
     "text": [
      "[1 4 7]\n"
     ]
    }
   ],
   "source": [
    "# Can you guess what will be the output of these print statement?\n",
    "print(A[::3])"
   ]
  },
  {
   "cell_type": "markdown",
   "metadata": {},
   "source": [
    "### Slicing a two-dimensional array\n",
    "\n",
    "You can slice a two-dimensional array in various ways:\n",
    "- Print a row or a column\n",
    "- Print multiple rows or columns\n",
    "- Print a section of the table for given rows and columns\n",
    "- Print first and/or last rows and/or columns.\n",
    "- Print rows and columns after a certain step. \n",
    "\n",
    "Syntax: \n",
    "####  array_name [row start: row stop: row step], [col start, col stop, col step]"
   ]
  },
  {
   "cell_type": "code",
   "execution_count": 61,
   "metadata": {},
   "outputs": [
    {
     "name": "stdout",
     "output_type": "stream",
     "text": [
      "[['00' '01' '02' '03' '04']\n",
      " ['10' '11' '12' '13' '14']\n",
      " ['20' '21' '22' '23' '24']\n",
      " ['30' '31' '32' '33' '34']\n",
      " ['40' '41' '42' '43' '44']]\n"
     ]
    }
   ],
   "source": [
    "# A two-dimensional Array\n",
    "A = np.array([\n",
    "    [\"00\", \"01\", \"02\", \"03\", \"04\"],\n",
    "    [10, 11, 12, 13, 14],\n",
    "    [20, 21, 22, 23, 24],\n",
    "    [30, 31, 32, 33, 34],\n",
    "    [40, 41, 42, 43, 44]\n",
    "])\n",
    "\n",
    "print(A)"
   ]
  },
  {
   "cell_type": "code",
   "execution_count": 62,
   "metadata": {},
   "outputs": [
    {
     "name": "stdout",
     "output_type": "stream",
     "text": [
      "['10' '11' '12' '13' '14']\n"
     ]
    }
   ],
   "source": [
    "# Print a row or a column\n",
    "print(A[1, ])  # Printing Row 2"
   ]
  },
  {
   "cell_type": "code",
   "execution_count": 63,
   "metadata": {},
   "outputs": [
    {
     "name": "stdout",
     "output_type": "stream",
     "text": [
      "['01' '11' '21' '31' '41']\n"
     ]
    }
   ],
   "source": [
    "print(A[:, 1])  # Column 2"
   ]
  },
  {
   "cell_type": "code",
   "execution_count": 64,
   "metadata": {},
   "outputs": [
    {
     "name": "stdout",
     "output_type": "stream",
     "text": [
      "[['00' '01' '02' '03' '04']\n",
      " ['10' '11' '12' '13' '14']]\n",
      "[['01' '02']\n",
      " ['11' '12']\n",
      " ['21' '22']\n",
      " ['31' '32']\n",
      " ['41' '42']]\n"
     ]
    }
   ],
   "source": [
    "# Print multiple rows or columns\n",
    "\n",
    "print(A[:2, ])  # Rows 1 & 2\n",
    "\n",
    "print(A[:, 1:3])  # Columns 2 & 3"
   ]
  },
  {
   "cell_type": "code",
   "execution_count": 65,
   "metadata": {},
   "outputs": [
    {
     "name": "stdout",
     "output_type": "stream",
     "text": [
      "[['00' '01' '02' '03' '04']\n",
      " ['10' '11' '12' '13' '14']\n",
      " ['20' '21' '22' '23' '24']]\n",
      "[['03' '04']\n",
      " ['13' '14']\n",
      " ['23' '24']\n",
      " ['33' '34']\n",
      " ['43' '44']]\n"
     ]
    }
   ],
   "source": [
    "# Print first or last rows and columns\n",
    "\n",
    "print(A[:3, ])  # Printing first three rows\n",
    "\n",
    "print(A[:, 3:])  # Printing 4th column and onwards"
   ]
  },
  {
   "cell_type": "code",
   "execution_count": 66,
   "metadata": {},
   "outputs": [
    {
     "name": "stdout",
     "output_type": "stream",
     "text": [
      "['02' '12']\n"
     ]
    }
   ],
   "source": [
    "# Print selected rows and columns\n",
    "print(A[:2, 2])  # Rows 1 & 2 for column3"
   ]
  },
  {
   "cell_type": "code",
   "execution_count": 67,
   "metadata": {},
   "outputs": [
    {
     "name": "stdout",
     "output_type": "stream",
     "text": [
      "[['02' '03' '04']\n",
      " ['12' '13' '14']\n",
      " ['22' '23' '24']]\n"
     ]
    }
   ],
   "source": [
    "print(A[:3, 2:])  # 1st three rows for the last three columns"
   ]
  },
  {
   "cell_type": "code",
   "execution_count": 68,
   "metadata": {},
   "outputs": [
    {
     "name": "stdout",
     "output_type": "stream",
     "text": [
      "[['00' '01' '02']\n",
      " ['10' '11' '12']\n",
      " ['20' '21' '22']\n",
      " ['30' '31' '32']\n",
      " ['40' '41' '42']]\n"
     ]
    }
   ],
   "source": [
    "print(A[:, :-2])  # Array without last two columns"
   ]
  },
  {
   "cell_type": "code",
   "execution_count": 69,
   "metadata": {},
   "outputs": [
    {
     "name": "stdout",
     "output_type": "stream",
     "text": [
      "[['00' '01' '02' '03' '04']\n",
      " ['10' '11' '12' '13' '14']]\n"
     ]
    }
   ],
   "source": [
    "print(A[:-3, :])  # Array without last 3 rows"
   ]
  },
  {
   "cell_type": "code",
   "execution_count": 70,
   "metadata": {},
   "outputs": [
    {
     "name": "stdout",
     "output_type": "stream",
     "text": [
      "[[ 0  1  2  3  4  5  6  7  8  9]\n",
      " [10 11 12 13 14 15 16 17 18 19]\n",
      " [20 21 22 23 24 25 26 27 28 29]\n",
      " [30 31 32 33 34 35 36 37 38 39]\n",
      " [40 41 42 43 44 45 46 47 48 49]]\n"
     ]
    }
   ],
   "source": [
    "# Let us create a new array using the arange method for this exercise\n",
    "\n",
    "# Create an array with 5 rows, 10 columns that has values from 0 to 49.\n",
    "A2 = np.arange(50).reshape(5, 10)\n",
    "\n",
    "print(A2)"
   ]
  },
  {
   "cell_type": "code",
   "execution_count": 71,
   "metadata": {},
   "outputs": [
    {
     "name": "stdout",
     "output_type": "stream",
     "text": [
      "[[ 0  1  2  3  4  5  6  7  8  9]\n",
      " [20 21 22 23 24 25 26 27 28 29]\n",
      " [40 41 42 43 44 45 46 47 48 49]]\n"
     ]
    }
   ],
   "source": [
    "# Using step in slicing\n",
    "\n",
    "print(A2[::2, ])  # Print rows 1, 3, and 5"
   ]
  },
  {
   "cell_type": "code",
   "execution_count": 72,
   "metadata": {},
   "outputs": [
    {
     "name": "stdout",
     "output_type": "stream",
     "text": [
      "[[ 1  3]\n",
      " [11 13]\n",
      " [21 23]\n",
      " [31 33]\n",
      " [41 43]]\n"
     ]
    }
   ],
   "source": [
    "print(A2[:, 1:5:2])  # Print columns 2 & 4"
   ]
  },
  {
   "cell_type": "code",
   "execution_count": 73,
   "metadata": {},
   "outputs": [
    {
     "name": "stdout",
     "output_type": "stream",
     "text": [
      "[[ 1  3  5  7  9]\n",
      " [11 13 15 17 19]\n",
      " [21 23 25 27 29]\n",
      " [31 33 35 37 39]\n",
      " [41 43 45 47 49]]\n"
     ]
    }
   ],
   "source": [
    "print(A2[:, 1:10:2])  # Print columns 2,4, 6, 8, 10"
   ]
  },
  {
   "cell_type": "code",
   "execution_count": 74,
   "metadata": {},
   "outputs": [
    {
     "name": "stdout",
     "output_type": "stream",
     "text": [
      "[[ 0  3  6  9]\n",
      " [20 23 26 29]\n",
      " [40 43 46 49]]\n"
     ]
    }
   ],
   "source": [
    "# This will print an intersection of elements of rows 0, 2, 4 and columns 0, 3, 9, 6\n",
    "\n",
    "print(A2[::2, ::3])"
   ]
  },
  {
   "cell_type": "code",
   "execution_count": 75,
   "metadata": {},
   "outputs": [
    {
     "name": "stdout",
     "output_type": "stream",
     "text": [
      "[[ 0  1  2  3  4  5  6  7  8  9]\n",
      " [10 11 12 13 14 15 16 17 18 19]\n",
      " [20 21 22 23 24 25 26 27 28 29]\n",
      " [30 31 32 33 34 35 36 37 38 39]\n",
      " [40 41 42 43 44 45 46 47 48 49]]\n"
     ]
    }
   ],
   "source": [
    "# Let us print all the rows and columns\n",
    "\n",
    "print(A2[::, ::])"
   ]
  },
  {
   "cell_type": "code",
   "execution_count": 102,
   "metadata": {},
   "outputs": [
    {
     "name": "stdout",
     "output_type": "stream",
     "text": [
      "[[ 0  1  2  3  4]\n",
      " [10 11 12 13 14]]\n"
     ]
    }
   ],
   "source": [
    "### Try on your own\n",
    "\n",
    "# If the following line of code is self-explanatory to you, then you have understood the entire concept of 2D slicing\n",
    "\n",
    "print(A2[0:2:1, 0:5:1])"
   ]
  },
  {
   "cell_type": "code",
   "execution_count": 77,
   "metadata": {},
   "outputs": [
    {
     "name": "stdout",
     "output_type": "stream",
     "text": [
      "[[42  1  2  3]\n",
      " [ 4  5  6  7]\n",
      " [ 8  9 10 11]]\n"
     ]
    }
   ],
   "source": [
    "# This should be self explanatory\n",
    "\n",
    "A = np.arange(12)\n",
    "B = A.reshape(3, 4)\n",
    "\n",
    "A[0] = 42\n",
    "print(B)"
   ]
  },
  {
   "cell_type": "markdown",
   "metadata": {},
   "source": [
    "## Array of ones and zeros"
   ]
  },
  {
   "cell_type": "code",
   "execution_count": 78,
   "metadata": {},
   "outputs": [
    {
     "name": "stdout",
     "output_type": "stream",
     "text": [
      "[[1. 1. 1. 1.]\n",
      " [1. 1. 1. 1.]\n",
      " [1. 1. 1. 1.]\n",
      " [1. 1. 1. 1.]]\n"
     ]
    }
   ],
   "source": [
    "O = np.ones((4, 4))\n",
    "print(O)\n",
    "\n",
    "# This is default datatype 'float'"
   ]
  },
  {
   "cell_type": "code",
   "execution_count": 80,
   "metadata": {},
   "outputs": [
    {
     "name": "stdout",
     "output_type": "stream",
     "text": [
      "[[1 1 1 1]\n",
      " [1 1 1 1]\n",
      " [1 1 1 1]\n",
      " [1 1 1 1]]\n"
     ]
    }
   ],
   "source": [
    "O = np.ones((4, 4), dtype=int)  # Changing data type to integer\n",
    "print(O)"
   ]
  },
  {
   "cell_type": "code",
   "execution_count": 81,
   "metadata": {},
   "outputs": [
    {
     "name": "stdout",
     "output_type": "stream",
     "text": [
      "[[0. 0. 0.]\n",
      " [0. 0. 0.]\n",
      " [0. 0. 0.]]\n"
     ]
    }
   ],
   "source": [
    "Z = np.zeros((3, 3))\n",
    "print(Z)"
   ]
  },
  {
   "cell_type": "code",
   "execution_count": 82,
   "metadata": {},
   "outputs": [
    {
     "name": "stdout",
     "output_type": "stream",
     "text": [
      "[[0 0 0]\n",
      " [0 0 0]\n",
      " [0 0 0]]\n"
     ]
    }
   ],
   "source": [
    "Z = np.zeros((3, 3), dtype=int)\n",
    "print(Z)"
   ]
  },
  {
   "cell_type": "markdown",
   "metadata": {},
   "source": [
    "## Identity function\n",
    "\n",
    "An identity array has an equal number of rows and columns. It is a square array so that the diagonal elements are all 'ones'. "
   ]
  },
  {
   "cell_type": "code",
   "execution_count": 84,
   "metadata": {},
   "outputs": [
    {
     "name": "stdout",
     "output_type": "stream",
     "text": [
      "[[1. 0. 0. 0.]\n",
      " [0. 1. 0. 0.]\n",
      " [0. 0. 1. 0.]\n",
      " [0. 0. 0. 1.]]\n"
     ]
    }
   ],
   "source": [
    "I = np.identity(4)\n",
    "\n",
    "print(I)"
   ]
  },
  {
   "cell_type": "code",
   "execution_count": 85,
   "metadata": {},
   "outputs": [
    {
     "name": "stdout",
     "output_type": "stream",
     "text": [
      "[[1 0 0]\n",
      " [0 1 0]\n",
      " [0 0 1]]\n"
     ]
    }
   ],
   "source": [
    "I = np.identity(3, dtype=int)\n",
    "\n",
    "print(I)"
   ]
  },
  {
   "cell_type": "code",
   "execution_count": 93,
   "metadata": {},
   "outputs": [
    {
     "name": "stdout",
     "output_type": "stream",
     "text": [
      "[[ 0  1  2  3  4  5  6  7  8  9]\n",
      " [10 11 12 13 14 15 16 17 18 19]\n",
      " [20 21 22 23 24 25 26 27 28 29]\n",
      " [30 31 32 33 34 35 36 37 38 39]\n",
      " [40 41 42 43 44 45 46 47 48 49]]\n"
     ]
    }
   ],
   "source": [
    "import numpy as np\n",
    "my_array = np.arange(50).reshape(5,10) # Creating an array with 5 rows, 10 columns which has values from 1 to 50\n",
    "print(my_array)"
   ]
  },
  {
   "cell_type": "markdown",
   "metadata": {},
   "source": [
    "## Vectorization\n",
    "\n",
    "Vectorization of code helps us write complex codes in a compact way and execute them faster. \n",
    "\n",
    "It allows to **operate** or apply a function on a complex object, like an array, \"at once\" rather than iterating over the individual elements. NumPy supports vectorization in an efficient way."
   ]
  },
  {
   "cell_type": "markdown",
   "metadata": {},
   "source": [
    "# Notebook Contents\n",
    "\n",
    "##### <span style=\"color:green\">1) 1D or 2D Array operations with a scalar</span>\n",
    "##### <span style=\"color:green\">2) 2D Array operations with another 2D array</span>\n",
    "##### <span style=\"color:green\">3) 2D Array operations with a 1D array or vector</span>\n",
    "#####  <span style=\"color:green\">4) Other operators: Compare & Logical</span>\n",
    "##### <span style=\"color:green\">5) Just for fun</span>"
   ]
  },
  {
   "cell_type": "markdown",
   "metadata": {},
   "source": [
    "### Array operations with a scalar\n",
    "\n",
    "Every element of the array is added/multiplied/operated with the given scalar. We will discuss:\n",
    "- Addition\n",
    "- Subtraction\n",
    "- Multiplication"
   ]
  },
  {
   "cell_type": "code",
   "execution_count": 104,
   "metadata": {},
   "outputs": [
    {
     "name": "stdout",
     "output_type": "stream",
     "text": [
      "[1.    2.    3.    4.    5.5   6.6   7.123 8.456]\n"
     ]
    }
   ],
   "source": [
    "import numpy as np  # Start the notebook with importing the package\n",
    "\n",
    "my_list = [1, 2, 3, 4, 5.5, 6.6, 7.123, 8.456]\n",
    "\n",
    "V = np.array(my_list)  # Creating a 1D array or vector\n",
    "\n",
    "print(V)"
   ]
  },
  {
   "cell_type": "markdown",
   "metadata": {},
   "source": [
    "#### Vectorization using scalars - addition"
   ]
  },
  {
   "cell_type": "code",
   "execution_count": 105,
   "metadata": {},
   "outputs": [
    {
     "name": "stdout",
     "output_type": "stream",
     "text": [
      "[ 3.     4.     5.     6.     7.5    8.6    9.123 10.456]\n"
     ]
    }
   ],
   "source": [
    "V_a = V + 2 # Every element is increased by 2.\n",
    "\n",
    "print(V_a)"
   ]
  },
  {
   "cell_type": "markdown",
   "metadata": {},
   "source": [
    "#### Vectorization using scalars - subtraction"
   ]
  },
  {
   "cell_type": "code",
   "execution_count": 106,
   "metadata": {},
   "outputs": [
    {
     "name": "stdout",
     "output_type": "stream",
     "text": [
      "[-1.4   -0.4    0.6    1.6    3.1    4.2    4.723  6.056]\n"
     ]
    }
   ],
   "source": [
    "V_s = V - 2.4  # Every element is reduced by 2.4.\n",
    "\n",
    "print(V_s)"
   ]
  },
  {
   "cell_type": "markdown",
   "metadata": {},
   "source": [
    "#### Vectorization using scalars - multiplication"
   ]
  },
  {
   "cell_type": "code",
   "execution_count": 108,
   "metadata": {},
   "outputs": [
    {
     "name": "stdout",
     "output_type": "stream",
     "text": [
      "[[1 2 3]\n",
      " [4 5 6]\n",
      " [7 8 9]]\n",
      "[[10 20 30]\n",
      " [40 50 60]\n",
      " [70 80 90]]\n"
     ]
    }
   ],
   "source": [
    "V2 = np.array([[1, 2, 3], [4, 5, 6], [7, 8, 9]])  # Array of shape 3,3\n",
    "\n",
    "V_m = V2 * 10  # Every element is multiplied by 10.\n",
    "\n",
    "print(V2)\n",
    "print(V_m)"
   ]
  },
  {
   "cell_type": "markdown",
   "metadata": {},
   "source": [
    "#### Try on your own"
   ]
  },
  {
   "cell_type": "code",
   "execution_count": 109,
   "metadata": {},
   "outputs": [
    {
     "name": "stdout",
     "output_type": "stream",
     "text": [
      "[[ 1  4  9]\n",
      " [16 25 36]\n",
      " [49 64 81]]\n"
     ]
    }
   ],
   "source": [
    "V_e = V2 ** 2  # See the output and suggest what this operation is?\n",
    "\n",
    "print(V_e)"
   ]
  },
  {
   "cell_type": "markdown",
   "metadata": {},
   "source": [
    "### 2D Array operations with another 2D array\n",
    "\n",
    "This is only possible when the shape of the two arrays is same. For example, a (2,2) array can be operated with another (2,2) array."
   ]
  },
  {
   "cell_type": "code",
   "execution_count": 110,
   "metadata": {},
   "outputs": [
    {
     "name": "stdout",
     "output_type": "stream",
     "text": [
      "[[  1   2   3]\n",
      " [ 11  22  33]\n",
      " [111 222 333]]\n",
      "[[1. 1. 1.]\n",
      " [1. 1. 1.]\n",
      " [1. 1. 1.]]\n",
      "[[1. 1. 1. 1.]\n",
      " [1. 1. 1. 1.]\n",
      " [1. 1. 1. 1.]\n",
      " [1. 1. 1. 1.]]\n"
     ]
    }
   ],
   "source": [
    "A = np.array([[1, 2, 3], [11, 22, 33], [111, 222, 333]])  # Array of shape 3,3\n",
    "B = np.ones((3, 3))  # Array of shape 3,3\n",
    "C = np.ones((4, 4))  # Array of shape 4,4\n",
    "print(A)\n",
    "print(B)\n",
    "print(C)"
   ]
  },
  {
   "cell_type": "code",
   "execution_count": 111,
   "metadata": {},
   "outputs": [
    {
     "name": "stdout",
     "output_type": "stream",
     "text": [
      "Adding the arrays is element wise: \n",
      "[[  2.   3.   4.]\n",
      " [ 12.  23.  34.]\n",
      " [112. 223. 334.]]\n"
     ]
    }
   ],
   "source": [
    "# Addition of 2 arrays of same dimensions (3, 3)\n",
    "\n",
    "print(\"Adding the arrays is element wise: \")\n",
    "\n",
    "print(A + B)"
   ]
  },
  {
   "cell_type": "code",
   "execution_count": 112,
   "metadata": {},
   "outputs": [
    {
     "name": "stdout",
     "output_type": "stream",
     "text": [
      "Addition of 2 arrays of different shapes or dimensions will throw a ValueError.\n"
     ]
    },
    {
     "ename": "ValueError",
     "evalue": "operands could not be broadcast together with shapes (3,3) (4,4) ",
     "output_type": "error",
     "traceback": [
      "\u001b[1;31m---------------------------------------------------------------------------\u001b[0m",
      "\u001b[1;31mValueError\u001b[0m                                Traceback (most recent call last)",
      "\u001b[1;32m<ipython-input-112-d8dcfa29218d>\u001b[0m in \u001b[0;36m<module>\u001b[1;34m\u001b[0m\n\u001b[0;32m      3\u001b[0m \u001b[0mprint\u001b[0m\u001b[1;33m(\u001b[0m\u001b[1;34m\"Addition of 2 arrays of different shapes or dimensions will throw a ValueError.\"\u001b[0m\u001b[1;33m)\u001b[0m\u001b[1;33m\u001b[0m\u001b[1;33m\u001b[0m\u001b[0m\n\u001b[0;32m      4\u001b[0m \u001b[1;33m\u001b[0m\u001b[0m\n\u001b[1;32m----> 5\u001b[1;33m \u001b[0mprint\u001b[0m\u001b[1;33m(\u001b[0m\u001b[0mA\u001b[0m \u001b[1;33m+\u001b[0m \u001b[0mC\u001b[0m\u001b[1;33m)\u001b[0m\u001b[1;33m\u001b[0m\u001b[1;33m\u001b[0m\u001b[0m\n\u001b[0m",
      "\u001b[1;31mValueError\u001b[0m: operands could not be broadcast together with shapes (3,3) (4,4) "
     ]
    }
   ],
   "source": [
    "# Addition of 2 arrays of different shapes or dimensions is NOT allowed\n",
    "\n",
    "print(\"Addition of 2 arrays of different shapes or dimensions will throw a ValueError.\")\n",
    "\n",
    "print(A + C)"
   ]
  },
  {
   "cell_type": "code",
   "execution_count": 113,
   "metadata": {},
   "outputs": [
    {
     "name": "stdout",
     "output_type": "stream",
     "text": [
      "Subtracting array B from A is element wise: \n",
      "[[  0.   1.   2.]\n",
      " [ 10.  21.  32.]\n",
      " [110. 221. 332.]]\n"
     ]
    }
   ],
   "source": [
    "# Subtraction of 2 arrays\n",
    "\n",
    "print(\"Subtracting array B from A is element wise: \")\n",
    "\n",
    "print(A - B)"
   ]
  },
  {
   "cell_type": "code",
   "execution_count": 114,
   "metadata": {},
   "outputs": [
    {
     "name": "stdout",
     "output_type": "stream",
     "text": [
      "Array 1 [[1 2 3]\n",
      " [4 5 6]]\n",
      "Array 2 [[ 1  0 -1]\n",
      " [ 0  1 -1]]\n",
      "Multiplying two arrays:  [[ 1  0 -3]\n",
      " [ 0  5 -6]]\n",
      "As you can see above, the multiplication happens element by element.\n"
     ]
    }
   ],
   "source": [
    "# Multiplication of 2 arrays\n",
    "\n",
    "A1 = np.array([[1, 2, 3], [4, 5, 6]])  # Array of shape 2,3\n",
    "A2 = np.array([[1, 0, -1], [0, 1, -1]])  # Array of shape 2,3\n",
    "\n",
    "print(\"Array 1\", A1)\n",
    "print(\"Array 2\", A2)\n",
    "print(\"Multiplying two arrays: \", A1 * A2)\n",
    "print(\"As you can see above, the multiplication happens element by element.\")"
   ]
  },
  {
   "cell_type": "markdown",
   "metadata": {},
   "source": [
    "### Broadcasting allows 2D Array operations with a 1D array or vector\n",
    "\n",
    "NumPy also supports broadcasting. Broadcasting allows us to combine objects of <b>different shapes</b> within a single operation.\n",
    "\n",
    "But, do remember that to perform this operation one of the matrices needs to be a vector with its length equal to one of the dimensions of the other matrix."
   ]
  },
  {
   "cell_type": "markdown",
   "metadata": {},
   "source": [
    "#### Try changing the shape of B and observe the results"
   ]
  },
  {
   "cell_type": "code",
   "execution_count": 115,
   "metadata": {},
   "outputs": [
    {
     "name": "stdout",
     "output_type": "stream",
     "text": [
      "[[  1   2   3]\n",
      " [ 11  22  33]\n",
      " [111 222 333]]\n",
      "[1 2 3]\n"
     ]
    }
   ],
   "source": [
    "import numpy as np\n",
    "\n",
    "A = np.array([[1, 2, 3], [11, 22, 33], [111, 222, 333]])\n",
    "B = np.array([1, 2, 3])\n",
    "\n",
    "print(A)\n",
    "print(B)"
   ]
  },
  {
   "cell_type": "code",
   "execution_count": 116,
   "metadata": {},
   "outputs": [
    {
     "name": "stdout",
     "output_type": "stream",
     "text": [
      "Multiplication with broadcasting: \n",
      "[[  1   4   9]\n",
      " [ 11  44  99]\n",
      " [111 444 999]]\n"
     ]
    }
   ],
   "source": [
    "print(\"Multiplication with broadcasting: \")\n",
    "\n",
    "print(A * B)"
   ]
  },
  {
   "cell_type": "code",
   "execution_count": 117,
   "metadata": {},
   "outputs": [
    {
     "name": "stdout",
     "output_type": "stream",
     "text": [
      "... and now addition with broadcasting: \n",
      "[[  2   4   6]\n",
      " [ 12  24  36]\n",
      " [112 224 336]]\n"
     ]
    }
   ],
   "source": [
    "print(\"... and now addition with broadcasting: \")\n",
    "\n",
    "print(A + B)"
   ]
  },
  {
   "cell_type": "code",
   "execution_count": 118,
   "metadata": {},
   "outputs": [
    {
     "name": "stdout",
     "output_type": "stream",
     "text": [
      "[[1 2 3 1 2 3 1 2 3]]\n"
     ]
    }
   ],
   "source": [
    "# Try to understand the difference between the two 'B' arrays\n",
    "\n",
    "B = np.array([[1, 2, 3] * 3])\n",
    "\n",
    "print(B)"
   ]
  },
  {
   "cell_type": "code",
   "execution_count": 119,
   "metadata": {},
   "outputs": [
    {
     "name": "stdout",
     "output_type": "stream",
     "text": [
      "[[1 2 3]\n",
      " [1 2 3]\n",
      " [1 2 3]]\n"
     ]
    }
   ],
   "source": [
    "B = np.array([[1, 2, 3], ] * 3)\n",
    "\n",
    "print(B)\n",
    "\n",
    "# Hint: look at the brackets"
   ]
  },
  {
   "cell_type": "code",
   "execution_count": 120,
   "metadata": {},
   "outputs": [
    {
     "data": {
      "text/plain": [
       "array([[1],\n",
       "       [2],\n",
       "       [3]])"
      ]
     },
     "execution_count": 120,
     "metadata": {},
     "output_type": "execute_result"
    }
   ],
   "source": [
    "# Another example type\n",
    "\n",
    "B = np.array([1, 2, 3])\n",
    "B[:, np.newaxis]\n",
    "\n",
    "# We have changed a row vector into a column vector"
   ]
  },
  {
   "cell_type": "code",
   "execution_count": 121,
   "metadata": {},
   "outputs": [
    {
     "data": {
      "text/plain": [
       "array([[  1,   2,   3],\n",
       "       [ 22,  44,  66],\n",
       "       [333, 666, 999]])"
      ]
     },
     "execution_count": 121,
     "metadata": {},
     "output_type": "execute_result"
    }
   ],
   "source": [
    "# Broadcasting in a different way (by changing the vector shape)\n",
    "\n",
    "A * B[:, np.newaxis]"
   ]
  },
  {
   "cell_type": "code",
   "execution_count": 122,
   "metadata": {},
   "outputs": [
    {
     "data": {
      "text/plain": [
       "array([[10],\n",
       "       [20],\n",
       "       [30]])"
      ]
     },
     "execution_count": 122,
     "metadata": {},
     "output_type": "execute_result"
    }
   ],
   "source": [
    "# This example should be self explanatory by now\n",
    "\n",
    "A = np.array([10, 20, 30])\n",
    "B = np.array([1, 2, 3])\n",
    "A[:, np.newaxis]"
   ]
  },
  {
   "cell_type": "code",
   "execution_count": 123,
   "metadata": {},
   "outputs": [
    {
     "data": {
      "text/plain": [
       "array([[10, 20, 30],\n",
       "       [20, 40, 60],\n",
       "       [30, 60, 90]])"
      ]
     },
     "execution_count": 123,
     "metadata": {},
     "output_type": "execute_result"
    }
   ],
   "source": [
    "A[:, np.newaxis] * B"
   ]
  },
  {
   "cell_type": "markdown",
   "metadata": {},
   "source": [
    "### Other operations\n",
    "\n",
    "- Comparison operators: Comparing arrays and the elements of two similar shaped arrays\n",
    "- Logical operators: AND/OR operands"
   ]
  },
  {
   "cell_type": "code",
   "execution_count": 124,
   "metadata": {},
   "outputs": [
    {
     "name": "stdout",
     "output_type": "stream",
     "text": [
      "[[11 12 13]\n",
      " [21 22 23]\n",
      " [31 32 33]]\n",
      "[[ 11 102  13]\n",
      " [201  22 203]\n",
      " [ 31  32 303]]\n"
     ]
    }
   ],
   "source": [
    "import numpy as np\n",
    "\n",
    "A = np.array([[11, 12, 13], [21, 22, 23], [31, 32, 33]])\n",
    "B = np.array([[11, 102, 13], [201, 22, 203], [31, 32, 303]])\n",
    "\n",
    "print(A)\n",
    "print(B)"
   ]
  },
  {
   "cell_type": "code",
   "execution_count": 125,
   "metadata": {},
   "outputs": [
    {
     "data": {
      "text/plain": [
       "array([[ True, False,  True],\n",
       "       [False,  True, False],\n",
       "       [ True,  True, False]])"
      ]
     },
     "execution_count": 125,
     "metadata": {},
     "output_type": "execute_result"
    }
   ],
   "source": [
    "# It will compare all the elements of the array with each other\n",
    "\n",
    "A == B"
   ]
  },
  {
   "cell_type": "code",
   "execution_count": 126,
   "metadata": {},
   "outputs": [
    {
     "name": "stdout",
     "output_type": "stream",
     "text": [
      "False\n",
      "True\n"
     ]
    }
   ],
   "source": [
    "# Will return 'True' only if each and every element is same in both the arrays\n",
    "\n",
    "print(np.array_equal(A, B))\n",
    "\n",
    "print(np.array_equal(A, A))"
   ]
  },
  {
   "cell_type": "code",
   "execution_count": 127,
   "metadata": {},
   "outputs": [
    {
     "name": "stdout",
     "output_type": "stream",
     "text": [
      "[[ True  True]\n",
      " [ True False]]\n"
     ]
    }
   ],
   "source": [
    "# This should be self explanatory by now\n",
    "\n",
    "a = np.array([[True, True], [False, False]])\n",
    "b = np.array([[True, False], [True, False]])\n",
    "\n",
    "print(np.logical_or(a, b))"
   ]
  },
  {
   "cell_type": "code",
   "execution_count": 128,
   "metadata": {},
   "outputs": [
    {
     "name": "stdout",
     "output_type": "stream",
     "text": [
      "[[ True False]\n",
      " [False False]]\n"
     ]
    }
   ],
   "source": [
    "print(np.logical_and(a, b))"
   ]
  },
  {
   "cell_type": "code",
   "execution_count": 129,
   "metadata": {},
   "outputs": [],
   "source": [
    "B = np.array([1, 2, 3])"
   ]
  },
  {
   "cell_type": "code",
   "execution_count": 130,
   "metadata": {},
   "outputs": [
    {
     "data": {
      "text/plain": [
       "array([1, 2, 3])"
      ]
     },
     "execution_count": 130,
     "metadata": {},
     "output_type": "execute_result"
    }
   ],
   "source": [
    "B"
   ]
  },
  {
   "cell_type": "code",
   "execution_count": null,
   "metadata": {},
   "outputs": [],
   "source": []
  }
 ],
 "metadata": {
  "kernelspec": {
   "display_name": "Python 3",
   "language": "python",
   "name": "python3"
  },
  "language_info": {
   "codemirror_mode": {
    "name": "ipython",
    "version": 3
   },
   "file_extension": ".py",
   "mimetype": "text/x-python",
   "name": "python",
   "nbconvert_exporter": "python",
   "pygments_lexer": "ipython3",
   "version": "3.8.3"
  }
 },
 "nbformat": 4,
 "nbformat_minor": 4
}
