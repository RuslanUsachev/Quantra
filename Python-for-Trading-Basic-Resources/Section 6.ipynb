{
 "cells": [
  {
   "cell_type": "markdown",
   "metadata": {},
   "source": [
    "## A simple user-defined function \n",
    "\n",
    "Let us create a simple mathematical function.\n",
    "\n",
    "The syntax for constructing a function is:\n",
    "<pre>\n",
    "def function_name (parameter-list):\n",
    "\tStatements, i.e function body\n",
    "    return a value, if required\n",
    "</pre>\n",
    "Let us create ‘my_function’.\n"
   ]
  },
  {
   "cell_type": "code",
   "execution_count": null,
   "metadata": {},
   "outputs": [],
   "source": [
    "def my_function(x, n):\n",
    "    output = x ** n\n",
    "    return output"
   ]
  },
  {
   "cell_type": "markdown",
   "metadata": {},
   "source": [
    "This is a simple function which we have created to calculate the exponential of any number. Now, whenever we need to perform this particular calculation, all we need to do is <b>call</b> this function and insert the values for <b>‘x’</b> and <b>‘n’</b>. You may have a look at it."
   ]
  },
  {
   "cell_type": "code",
   "execution_count": null,
   "metadata": {},
   "outputs": [],
   "source": [
    "my_function(10, 2)  # 10 raise to 2 = 100"
   ]
  },
  {
   "cell_type": "code",
   "execution_count": null,
   "metadata": {},
   "outputs": [],
   "source": [
    "my_function(5, 3)  # 5 raise to 3 = 125"
   ]
  },
  {
   "cell_type": "markdown",
   "metadata": {},
   "source": [
    "## Bollinger band function\n",
    "\n",
    "This is the function which we discussed in the video unit."
   ]
  },
  {
   "cell_type": "code",
   "execution_count": null,
   "metadata": {},
   "outputs": [],
   "source": [
    "def Bollinger_Bands(data, n):\n",
    "\n",
    "    # Calculating the moving average\n",
    "    MA = data['Close'].rolling(window=n).mean()\n",
    "\n",
    "    # Calculating the standard deviation\n",
    "    SD = data['Close'].rolling(window=n).std()\n",
    "\n",
    "    data['Lower_BB'] = MA - (2 * SD)  # Lower Bollinger Band\n",
    "    data['Upper_BB'] = MA + (2 * SD)  # Upper Bollinger Band\n",
    "\n",
    "    return data"
   ]
  },
  {
   "cell_type": "code",
   "execution_count": null,
   "metadata": {},
   "outputs": [],
   "source": [
    "# Load and view Nifty data\n",
    "import pandas as pd\n",
    "nifty = pd.read_csv('../data_modules/nifty_data.csv')\n",
    "nifty.head()"
   ]
  },
  {
   "cell_type": "code",
   "execution_count": null,
   "metadata": {},
   "outputs": [],
   "source": [
    "# Calling Bollinger Bands for 'Nifty' index price data\n",
    "\n",
    "n = 21  # We have kept the window of the moving average as 21 days\n",
    "\n",
    "# Calling the Bollinger Bands function cerated by us\n",
    "nifty_bb = Bollinger_Bands(nifty, n)\n",
    "\n",
    "nifty_bb.tail()"
   ]
  },
  {
   "cell_type": "code",
   "execution_count": null,
   "metadata": {},
   "outputs": [],
   "source": [
    "# Plotting the Bollinger Bands for \"Nifty' index\n",
    "import matplotlib.pyplot as plt\n",
    "%matplotlib inline\n",
    "\n",
    "plt.figure(figsize=(10, 5))\n",
    "\n",
    "plt.plot(nifty_bb.Close)\n",
    "plt.plot(nifty_bb.Lower_BB)\n",
    "plt.plot(nifty_bb.Upper_BB)\n",
    "plt.grid(True)\n",
    "\n",
    "plt.show()"
   ]
  },
  {
   "cell_type": "code",
   "execution_count": null,
   "metadata": {},
   "outputs": [],
   "source": [
    "# Calling Bollinger Bands for 'Infosys' price data\n",
    "\n",
    "import pandas as pd\n",
    "\n",
    "# Loading 'Nifty Index' data\n",
    "infy = pd.read_csv('../data_modules/infy_data_bb.csv')\n",
    "\n",
    "n = 21  # We have kept the window of the moving average as 21 days\n",
    "\n",
    "# Calling the Bollinger Bands function cerated by us\n",
    "infy_bb = Bollinger_Bands(infy, n)\n",
    "\n",
    "infy_bb.tail()"
   ]
  },
  {
   "cell_type": "code",
   "execution_count": null,
   "metadata": {},
   "outputs": [],
   "source": [
    "# Plotting the Bollinger Bands for \"Infosys\" stock\n",
    "import matplotlib.pyplot as plt\n",
    "%matplotlib inline\n",
    "\n",
    "plt.figure(figsize=(10, 5))\n",
    "\n",
    "plt.plot(infy_bb.Close)\n",
    "plt.plot(infy_bb.Lower_BB)\n",
    "plt.plot(infy_bb.Upper_BB)\n",
    "plt.grid(True)\n",
    "\n",
    "plt.show()"
   ]
  },
  {
   "cell_type": "markdown",
   "metadata": {},
   "source": [
    "## What is lambda?\n",
    "\n",
    "The lambda operator is a way to create small <b>anonymous functions</b> i.e. functions without a name.<br>\n",
    "<br>\n",
    "They are temporary functions i.e. they are needed only where they have been created.<br>\n",
    "<br>\n",
    "The lambda feature was added in Python due to high demand from the Lisp programmers (Lisp is a programming language)."
   ]
  },
  {
   "cell_type": "markdown",
   "metadata": {},
   "source": [
    "## A simple lambda example\n",
    "\n",
    "The general syntax for Lambda is as follows:<br>\n",
    "<pre><b>lambda</b> argument_list: expression</pre>\n",
    "Let us have a look at some of the examples."
   ]
  },
  {
   "cell_type": "code",
   "execution_count": 1,
   "metadata": {},
   "outputs": [],
   "source": [
    "def sum(x, y): return x + y"
   ]
  },
  {
   "cell_type": "code",
   "execution_count": 2,
   "metadata": {},
   "outputs": [
    {
     "data": {
      "text/plain": [
       "5"
      ]
     },
     "execution_count": 2,
     "metadata": {},
     "output_type": "execute_result"
    }
   ],
   "source": [
    "sum(2, 3)"
   ]
  },
  {
   "cell_type": "markdown",
   "metadata": {},
   "source": [
    "It is similar to defining a function where x and y are the parameters and x + y is the operation performed in the block of codes.<br>\n",
    "<br>\n",
    "You can even observe, that the usage of lambda is the same as the function call.  "
   ]
  },
  {
   "cell_type": "code",
   "execution_count": 3,
   "metadata": {},
   "outputs": [],
   "source": [
    "# Another example\n",
    "def product(x, y): return x * y"
   ]
  },
  {
   "cell_type": "code",
   "execution_count": 4,
   "metadata": {},
   "outputs": [
    {
     "data": {
      "text/plain": [
       "6"
      ]
     },
     "execution_count": 4,
     "metadata": {},
     "output_type": "execute_result"
    }
   ],
   "source": [
    "product(2, 3)"
   ]
  },
  {
   "cell_type": "code",
   "execution_count": 6,
   "metadata": {},
   "outputs": [],
   "source": [
    "# One more example\n",
    "def my_operation(x, y, z): return x + y - z"
   ]
  },
  {
   "cell_type": "code",
   "execution_count": 7,
   "metadata": {},
   "outputs": [
    {
     "data": {
      "text/plain": [
       "0"
      ]
     },
     "execution_count": 7,
     "metadata": {},
     "output_type": "execute_result"
    }
   ],
   "source": [
    "my_operation(10, 20, 30)"
   ]
  },
  {
   "cell_type": "markdown",
   "metadata": {},
   "source": [
    "### map () \n",
    "\n",
    "One of the advantages of using a lambda is the map() function.<br>\n",
    "<pre> map (<b>lambda</b>, sequence of lists)</pre>\n",
    "map() applies the lambda function to all elements within the sequence. These elements are generally lists.\n",
    "\n",
    "__Одним из преимуществ использования лямбды является функция map ().__\n",
    "<pre> карта (<b>лямбда</b>, последовательность списков)</pre>\n",
    "map() применяет лямбда-функцию ко всем элементам в последовательности. Эти элементы, как правило, являются списками."
   ]
  },
  {
   "cell_type": "code",
   "execution_count": 8,
   "metadata": {},
   "outputs": [],
   "source": [
    "# The lists have to be of same length to apply the map () function in lambda.\n",
    "\n",
    "list_1 = [1, 2, 3, 4]\n",
    "\n",
    "list_2 = [10, 20, 30, 40]\n",
    "\n",
    "list_3 = [100, 200, 300, 400]"
   ]
  },
  {
   "cell_type": "code",
   "execution_count": 9,
   "metadata": {},
   "outputs": [
    {
     "data": {
      "text/plain": [
       "[11, 22, 33, 44]"
      ]
     },
     "execution_count": 9,
     "metadata": {},
     "output_type": "execute_result"
    }
   ],
   "source": [
    "list(map(lambda x, y: x + y, list_1, list_2))"
   ]
  },
  {
   "cell_type": "code",
   "execution_count": 10,
   "metadata": {},
   "outputs": [
    {
     "data": {
      "text/plain": [
       "[111, 222, 333, 444]"
      ]
     },
     "execution_count": 10,
     "metadata": {},
     "output_type": "execute_result"
    }
   ],
   "source": [
    "list(map(lambda x, y, z: x + y + z, list_1, list_2, list_3))"
   ]
  },
  {
   "cell_type": "code",
   "execution_count": 11,
   "metadata": {},
   "outputs": [
    {
     "data": {
      "text/plain": [
       "[110, 220, 330, 440]"
      ]
     },
     "execution_count": 11,
     "metadata": {},
     "output_type": "execute_result"
    }
   ],
   "source": [
    "list(map(lambda y, z: y + z, list_2, list_3))"
   ]
  },
  {
   "cell_type": "markdown",
   "metadata": {},
   "source": [
    "### filter ()\n",
    "Another advantage of using a lambda is the filter() function.<br>\n",
    "<pre> filter (<b>lambda</b>, list)</pre>\n",
    "It is an elegant way to filter out the required elements from a list.\n",
    "\n",
    "__Еще одним преимуществом использования лямбды является функция filter ().__\n",
    "\n",
    "<pre> фильтр (лямбда, список)</pre>\n",
    "Это элегантный способ отфильтровать необходимые элементы из списка."
   ]
  },
  {
   "cell_type": "code",
   "execution_count": 12,
   "metadata": {},
   "outputs": [],
   "source": [
    "fib = [0, 1, 1, 2, 3, 5, 8, 13, 21, 34, 55]  # This is a list"
   ]
  },
  {
   "cell_type": "code",
   "execution_count": 13,
   "metadata": {},
   "outputs": [
    {
     "data": {
      "text/plain": [
       "[13, 21, 34, 55]"
      ]
     },
     "execution_count": 13,
     "metadata": {},
     "output_type": "execute_result"
    }
   ],
   "source": [
    "list(filter(lambda x: x > 8, fib))"
   ]
  },
  {
   "cell_type": "code",
   "execution_count": 14,
   "metadata": {},
   "outputs": [
    {
     "data": {
      "text/plain": [
       "[0, 1, 1, 2, 3, 5]"
      ]
     },
     "execution_count": 14,
     "metadata": {},
     "output_type": "execute_result"
    }
   ],
   "source": [
    "list(filter(lambda x: x < 8, fib))"
   ]
  },
  {
   "cell_type": "code",
   "execution_count": 15,
   "metadata": {},
   "outputs": [],
   "source": [
    "signals = ['Buy', 'Sell', 'Sell', 'Buy',\n",
    "           'Buy', 'Sell', 'Buy']  # This is a list"
   ]
  },
  {
   "cell_type": "code",
   "execution_count": 16,
   "metadata": {},
   "outputs": [
    {
     "data": {
      "text/plain": [
       "['Buy', 'Buy', 'Buy', 'Buy']"
      ]
     },
     "execution_count": 16,
     "metadata": {},
     "output_type": "execute_result"
    }
   ],
   "source": [
    "list(filter(lambda x: x == 'Buy', signals))"
   ]
  },
  {
   "cell_type": "markdown",
   "metadata": {},
   "source": [
    "In the upcoming IPython notebooks, we will understand about the <b>NumPy</b> library. <br><br>"
   ]
  },
  {
   "cell_type": "code",
   "execution_count": null,
   "metadata": {},
   "outputs": [],
   "source": []
  }
 ],
 "metadata": {
  "kernelspec": {
   "display_name": "Python 3",
   "language": "python",
   "name": "python3"
  },
  "language_info": {
   "codemirror_mode": {
    "name": "ipython",
    "version": 3
   },
   "file_extension": ".py",
   "mimetype": "text/x-python",
   "name": "python",
   "nbconvert_exporter": "python",
   "pygments_lexer": "ipython3",
   "version": "3.8.3"
  }
 },
 "nbformat": 4,
 "nbformat_minor": 4
}
