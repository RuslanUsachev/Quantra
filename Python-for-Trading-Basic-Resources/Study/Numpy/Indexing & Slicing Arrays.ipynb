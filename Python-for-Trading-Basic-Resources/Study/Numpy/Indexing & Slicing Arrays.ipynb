{
 "cells": [
  {
   "cell_type": "markdown",
   "metadata": {},
   "source": [
    "# Notebook Instructions\n",
    "\n",
    "1. All the <u>code and data files</u> used in this course are available in the downloadable unit of the <u>last section of this course</u>.\n",
    "2. You can run the notebook document sequentially (one cell at a time) by pressing **shift + enter**. \n",
    "3. While a cell is running, a [*] is shown on the left. After the cell is run, the output will appear on the next line.\n",
    "\n",
    "This course is based on specific versions of python packages. You can find the details of the packages in <a href='https://quantra.quantinsti.com/quantra-notebook' target=\"_blank\" >this manual</a>."
   ]
  },
  {
   "cell_type": "markdown",
   "metadata": {},
   "source": [
    "We will continue from where we left in the previous notebook.\n",
    "\n",
    "# Notebook Contents\n",
    "\n",
    "##### <span style=\"color:green\">1. Indexing</span>\n",
    "##### <span style=\"color:green\">2. Slicing</span>\n",
    "#####  <span style=\"color:green\">3. Arrays of 1s and 0s</span>\n",
    "##### <span style=\"color:green\">4. Identity function</span>"
   ]
  },
  {
   "cell_type": "markdown",
   "metadata": {},
   "source": [
    "## Indexing"
   ]
  },
  {
   "cell_type": "markdown",
   "metadata": {},
   "source": [
    "We can access the elements of an array using its **index**. The index gives the location of an element of an array. \n",
    "\n",
    "- The first index is '0'.\n",
    "- The second index is '1' and so on.\n",
    "- The second last index is '-2'.\n",
    "- The last index is '-1'.\n",
    "\n",
    "### Indexing in a one-dimensional array\n",
    "\n",
    "A one-dimensional array is indexed just like a list."
   ]
  },
  {
   "cell_type": "code",
   "execution_count": 1,
   "metadata": {},
   "outputs": [
    {
     "name": "stdout",
     "output_type": "stream",
     "text": [
      "10\n"
     ]
    }
   ],
   "source": [
    "import numpy as np\n",
    "\n",
    "# One dimensional array\n",
    "A = np.array([10, 21, 32, 43, 54, 65, 76, 87])\n",
    "\n",
    "# Print the first element of A\n",
    "print(A[0])\n",
    "\n",
    "# Remember, in python, counting starts from 0 and not from 1"
   ]
  },
  {
   "cell_type": "code",
   "execution_count": 2,
   "metadata": {},
   "outputs": [
    {
     "name": "stdout",
     "output_type": "stream",
     "text": [
      "87\n"
     ]
    }
   ],
   "source": [
    "# Print the last element of A\n",
    "print(A[-1])"
   ]
  },
  {
   "cell_type": "code",
   "execution_count": 3,
   "metadata": {},
   "outputs": [
    {
     "name": "stdout",
     "output_type": "stream",
     "text": [
      "32\n"
     ]
    }
   ],
   "source": [
    "# Print the third element of A\n",
    "print(A[2])"
   ]
  },
  {
   "cell_type": "code",
   "execution_count": 4,
   "metadata": {},
   "outputs": [
    {
     "name": "stdout",
     "output_type": "stream",
     "text": [
      "76\n"
     ]
    }
   ],
   "source": [
    "# Print the second last element\n",
    "print(A[-2])"
   ]
  },
  {
   "cell_type": "markdown",
   "metadata": {},
   "source": [
    "### Indexing in a two-dimensional array\n",
    "\n",
    "A 2-Dimensional Array consists of rows and columns, so you need to specify both rows and columns, to locate an element. "
   ]
  },
  {
   "cell_type": "code",
   "execution_count": 5,
   "metadata": {},
   "outputs": [
    {
     "name": "stdout",
     "output_type": "stream",
     "text": [
      "[[ 1  2  3]\n",
      " [ 4  5  6]\n",
      " [ 7  8  9]\n",
      " [10 11 12]]\n"
     ]
    }
   ],
   "source": [
    "# Create a 2-Dimensional Array\n",
    "A = np.array([[1, 2, 3], [4, 5, 6], [7, 8, 9], [10, 11, 12]])\n",
    "print(A)\n",
    "\n",
    "# The shape of the array is : 4 rows and 3 columns"
   ]
  },
  {
   "cell_type": "code",
   "execution_count": 6,
   "metadata": {},
   "outputs": [
    {
     "name": "stdout",
     "output_type": "stream",
     "text": [
      "1\n"
     ]
    }
   ],
   "source": [
    "# Print the element of Row 1, column 1\n",
    "print(A[0][0])"
   ]
  },
  {
   "cell_type": "code",
   "execution_count": 7,
   "metadata": {},
   "outputs": [
    {
     "name": "stdout",
     "output_type": "stream",
     "text": [
      "4\n"
     ]
    }
   ],
   "source": [
    "# Print the element of row 2, column 1\n",
    "print(A[1][0])"
   ]
  },
  {
   "cell_type": "code",
   "execution_count": 8,
   "metadata": {},
   "outputs": [
    {
     "name": "stdout",
     "output_type": "stream",
     "text": [
      "12\n"
     ]
    }
   ],
   "source": [
    "# Print the element of row 4, column 3\n",
    "print(A[3][2])"
   ]
  },
  {
   "cell_type": "code",
   "execution_count": 9,
   "metadata": {},
   "outputs": [
    {
     "name": "stdout",
     "output_type": "stream",
     "text": [
      "8\n"
     ]
    }
   ],
   "source": [
    "# Another way to print the element of row 3, column 2\n",
    "print(A[2, 1])"
   ]
  },
  {
   "cell_type": "markdown",
   "metadata": {},
   "source": [
    "### Try on your own"
   ]
  },
  {
   "cell_type": "code",
   "execution_count": 10,
   "metadata": {},
   "outputs": [
    {
     "ename": "IndexError",
     "evalue": "index 4 is out of bounds for axis 0 with size 4",
     "output_type": "error",
     "traceback": [
      "\u001b[1;31m---------------------------------------------------------------------------\u001b[0m",
      "\u001b[1;31mIndexError\u001b[0m                                Traceback (most recent call last)",
      "\u001b[1;32m<ipython-input-10-674b7989de61>\u001b[0m in \u001b[0;36m<module>\u001b[1;34m\u001b[0m\n\u001b[0;32m      1\u001b[0m \u001b[1;31m# Can you guess what will be the output of these print statement?\u001b[0m\u001b[1;33m\u001b[0m\u001b[1;33m\u001b[0m\u001b[1;33m\u001b[0m\u001b[0m\n\u001b[1;32m----> 2\u001b[1;33m \u001b[0mprint\u001b[0m\u001b[1;33m(\u001b[0m\u001b[0mA\u001b[0m\u001b[1;33m[\u001b[0m\u001b[1;36m4\u001b[0m\u001b[1;33m,\u001b[0m \u001b[1;36m3\u001b[0m\u001b[1;33m]\u001b[0m\u001b[1;33m)\u001b[0m\u001b[1;33m\u001b[0m\u001b[1;33m\u001b[0m\u001b[0m\n\u001b[0m",
      "\u001b[1;31mIndexError\u001b[0m: index 4 is out of bounds for axis 0 with size 4"
     ]
    }
   ],
   "source": [
    "# Can you guess what will be the output of these print statement?\n",
    "print(A[4, 3])"
   ]
  },
  {
   "cell_type": "markdown",
   "metadata": {},
   "source": [
    "## Slicing \n",
    "\n",
    "When you want to select a certain section of an array, then you slice it. It could be a bunch of elements in a one-dimensional array and/or entire rows and columns in a two-dimensional array. \n",
    "\n",
    "### Slicing a one-dimensional array\n",
    "\n",
    "You can slice a one-dimensional array in various ways:\n",
    "- Print first few elements\n",
    "- Print last few elements\n",
    "- Print middle elements\n",
    "- Print elements after a certain step. \n",
    "\n",
    "Syntax: \n",
    "####  array_name [start: stop: step]\n"
   ]
  },
  {
   "cell_type": "code",
   "execution_count": null,
   "metadata": {},
   "outputs": [],
   "source": [
    "# Consider a one-dimensional array A\n",
    "A = np.array([1, 2, 3, 4, 5, 6, 7, 8])\n",
    "\n",
    "# By default, the step = 1\n",
    "\n",
    "# To print the first 4 elements (i.e. indices 0, 1, 2, 3, those before index 4)\n",
    "print(A[:4])\n",
    "\n",
    "# To print the elements from the index = 6 till the end\n",
    "print(A[6:])\n",
    "\n",
    "# To print the elements starting from index=2 and it will stop BEFORE index=5\n",
    "\n",
    "print(A[2:5])\n",
    "\n",
    "# To print all the elements of the array\n",
    "print(A[:])"
   ]
  },
  {
   "cell_type": "code",
   "execution_count": null,
   "metadata": {},
   "outputs": [],
   "source": [
    "# Introducing step = 2\n",
    "\n",
    "# This will print alternate index elements of the entire array, starting from index = 0\n",
    "print(A[::2])"
   ]
  },
  {
   "cell_type": "markdown",
   "metadata": {},
   "source": [
    "### Try on your own"
   ]
  },
  {
   "cell_type": "code",
   "execution_count": null,
   "metadata": {},
   "outputs": [],
   "source": [
    "# Can you guess what will be the output of these print statement?\n",
    "print(A[::3])"
   ]
  },
  {
   "cell_type": "markdown",
   "metadata": {},
   "source": [
    "### Slicing a two-dimensional array\n",
    "\n",
    "You can slice a two-dimensional array in various ways:\n",
    "- Print a row or a column\n",
    "- Print multiple rows or columns\n",
    "- Print a section of the table for given rows and columns\n",
    "- Print first and/or last rows and/or columns.\n",
    "- Print rows and columns after a certain step. \n",
    "\n",
    "Syntax: \n",
    "####  array_name [row start: row stop: row step], [col start, col stop, col step]"
   ]
  },
  {
   "cell_type": "code",
   "execution_count": null,
   "metadata": {},
   "outputs": [],
   "source": [
    "# A two-dimensional Array\n",
    "A = np.array([\n",
    "    [\"00\", \"01\", \"02\", \"03\", \"04\"],\n",
    "    [10, 11, 12, 13, 14],\n",
    "    [20, 21, 22, 23, 24],\n",
    "    [30, 31, 32, 33, 34],\n",
    "    [40, 41, 42, 43, 44]\n",
    "])\n",
    "\n",
    "print(A)"
   ]
  },
  {
   "cell_type": "code",
   "execution_count": null,
   "metadata": {},
   "outputs": [],
   "source": [
    "# Print a row or a column\n",
    "print(A[1, ])  # Printing Row 2"
   ]
  },
  {
   "cell_type": "code",
   "execution_count": null,
   "metadata": {},
   "outputs": [],
   "source": [
    "print(A[:, 1])  # Column 2"
   ]
  },
  {
   "cell_type": "code",
   "execution_count": null,
   "metadata": {},
   "outputs": [],
   "source": [
    "# Print multiple rows or columns\n",
    "\n",
    "print(A[:2, ])  # Rows 1 & 2\n",
    "\n",
    "print(A[:, 1:3])  # Columns 2 & 3"
   ]
  },
  {
   "cell_type": "code",
   "execution_count": null,
   "metadata": {},
   "outputs": [],
   "source": [
    "# Print first or last rows and columns\n",
    "\n",
    "print(A[:3, ])  # Printing first three rows\n",
    "\n",
    "print(A[:, 3:])  # Printing 4th column and onwards"
   ]
  },
  {
   "cell_type": "code",
   "execution_count": null,
   "metadata": {},
   "outputs": [],
   "source": [
    "# Print selected rows and columns\n",
    "print(A[:2, 2])  # Rows 1 & 2 for column3"
   ]
  },
  {
   "cell_type": "code",
   "execution_count": null,
   "metadata": {},
   "outputs": [],
   "source": [
    "print(A[:3, 2:])  # 1st three rows for the last three columns"
   ]
  },
  {
   "cell_type": "code",
   "execution_count": null,
   "metadata": {},
   "outputs": [],
   "source": [
    "print(A[:, :-2])  # Array without last two columns"
   ]
  },
  {
   "cell_type": "code",
   "execution_count": null,
   "metadata": {},
   "outputs": [],
   "source": [
    "print(A[:-3, :])  # Array without last 3 rows"
   ]
  },
  {
   "cell_type": "markdown",
   "metadata": {},
   "source": [
    "### Using step"
   ]
  },
  {
   "cell_type": "code",
   "execution_count": null,
   "metadata": {},
   "outputs": [],
   "source": [
    "# Let us create a new array using the arange method for this exercise\n",
    "\n",
    "# Create an array with 5 rows, 10 columns that has values from 0 to 49.\n",
    "A2 = np.arange(50).reshape(5, 10)\n",
    "\n",
    "print(A2)"
   ]
  },
  {
   "cell_type": "code",
   "execution_count": null,
   "metadata": {},
   "outputs": [],
   "source": [
    "# Using step in slicing\n",
    "\n",
    "print(A2[::2, ])  # Print rows 1, 3, and 5"
   ]
  },
  {
   "cell_type": "code",
   "execution_count": null,
   "metadata": {},
   "outputs": [],
   "source": [
    "print(A2[:, 1:5:2])  # Print columns 2 & 4"
   ]
  },
  {
   "cell_type": "code",
   "execution_count": null,
   "metadata": {},
   "outputs": [],
   "source": [
    "print(A2[:, 1:10:2])  # Print columns 2,4, 6, 8, 10"
   ]
  },
  {
   "cell_type": "code",
   "execution_count": null,
   "metadata": {},
   "outputs": [],
   "source": [
    "# This will print an intersection of elements of rows 0, 2, 4 and columns 0, 3, 9, 6\n",
    "\n",
    "print(A2[::2, ::3])"
   ]
  },
  {
   "cell_type": "code",
   "execution_count": null,
   "metadata": {},
   "outputs": [],
   "source": [
    "# Let us print all the rows and columns\n",
    "\n",
    "print(A2[::, ::])"
   ]
  },
  {
   "cell_type": "markdown",
   "metadata": {},
   "source": [
    "### Try on your own"
   ]
  },
  {
   "cell_type": "code",
   "execution_count": null,
   "metadata": {},
   "outputs": [],
   "source": [
    "# If the following line of code is self-explanatory to you, then you have understood the entire concept of 2D slicing\n",
    "\n",
    "print(A2[2:4:1, 2:7:4])"
   ]
  },
  {
   "cell_type": "code",
   "execution_count": null,
   "metadata": {},
   "outputs": [],
   "source": [
    "# This should be self-explanatory\n",
    "\n",
    "A = np.arange(12)\n",
    "B = A.reshape(3, 4)\n",
    "\n",
    "A[0] = 42\n",
    "print(B)"
   ]
  },
  {
   "cell_type": "markdown",
   "metadata": {},
   "source": [
    "## Array of ones and zeros"
   ]
  },
  {
   "cell_type": "markdown",
   "metadata": {},
   "source": [
    "We will be initialising arrays that have all the elements either as zeros or one. Such arrays help us while performing arithmetic operations"
   ]
  },
  {
   "cell_type": "code",
   "execution_count": null,
   "metadata": {},
   "outputs": [],
   "source": [
    "O = np.ones((4, 4))\n",
    "print(O)\n",
    "\n",
    "# This is default datatype 'float'"
   ]
  },
  {
   "cell_type": "code",
   "execution_count": null,
   "metadata": {},
   "outputs": [],
   "source": [
    "O = np.ones((4, 4), dtype=int)  # Changing data type to integer\n",
    "print(O)"
   ]
  },
  {
   "cell_type": "code",
   "execution_count": null,
   "metadata": {},
   "outputs": [],
   "source": [
    "Z = np.zeros((3, 3))\n",
    "print(Z)"
   ]
  },
  {
   "cell_type": "code",
   "execution_count": null,
   "metadata": {},
   "outputs": [],
   "source": [
    "Z = np.zeros((3, 3), dtype=int)\n",
    "print(Z)"
   ]
  },
  {
   "cell_type": "markdown",
   "metadata": {},
   "source": [
    "## Identity function\n",
    "\n",
    "An identity array has an equal number of rows and columns. It is a square array so that the diagonal elements are all 'ones'. "
   ]
  },
  {
   "cell_type": "code",
   "execution_count": null,
   "metadata": {},
   "outputs": [],
   "source": [
    "I = np.identity(4)\n",
    "\n",
    "print(I)"
   ]
  },
  {
   "cell_type": "code",
   "execution_count": null,
   "metadata": {},
   "outputs": [],
   "source": [
    "I = np.identity(3, dtype=int)\n",
    "\n",
    "print(I)"
   ]
  },
  {
   "cell_type": "markdown",
   "metadata": {},
   "source": [
    "In the upcoming Jupyter notebook, we will continue to learn about arrays and learn about vectorisation, arithmetic operation, broadcasting and array comparisons.<br><br>"
   ]
  }
 ],
 "metadata": {
  "anaconda-cloud": {},
  "kernelspec": {
   "display_name": "Python 3",
   "language": "python",
   "name": "python3"
  },
  "language_info": {
   "codemirror_mode": {
    "name": "ipython",
    "version": 3
   },
   "file_extension": ".py",
   "mimetype": "text/x-python",
   "name": "python",
   "nbconvert_exporter": "python",
   "pygments_lexer": "ipython3",
   "version": "3.9.5"
  }
 },
 "nbformat": 4,
 "nbformat_minor": 2
}
